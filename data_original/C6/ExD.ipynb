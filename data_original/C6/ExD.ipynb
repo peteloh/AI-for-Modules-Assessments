{
 "cells": [
  {
   "cell_type": "code",
   "execution_count": 4,
   "metadata": {},
   "outputs": [
    {
     "name": "stdout",
     "output_type": "stream",
     "text": [
      "57483.502174724876\n"
     ]
    }
   ],
   "source": [
    "#01702868\n",
    "import math as mt\n",
    "def Summation(N):\n",
    "    if N == 1:\n",
    "        # exit condition\n",
    "        f = 1\n",
    "    else:\n",
    "        # recursive formula\n",
    "        f = (N**8)/mt.factorial(N-1) + Summation(N-1)\n",
    "    return f\n",
    "\n",
    "a = Summation(15)\n",
    "print(a)"
   ]
  },
  {
   "cell_type": "code",
   "execution_count": null,
   "metadata": {},
   "outputs": [],
   "source": []
  }
 ],
 "metadata": {
  "kernelspec": {
   "display_name": "Python 3",
   "language": "python",
   "name": "python3"
  },
  "language_info": {
   "codemirror_mode": {
    "name": "ipython",
    "version": 3
   },
   "file_extension": ".py",
   "mimetype": "text/x-python",
   "name": "python",
   "nbconvert_exporter": "python",
   "pygments_lexer": "ipython3",
   "version": "3.7.4"
  }
 },
 "nbformat": 4,
 "nbformat_minor": 2
}
