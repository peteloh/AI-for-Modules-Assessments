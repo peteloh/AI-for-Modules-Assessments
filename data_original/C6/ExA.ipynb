{
 "cells": [
  {
   "cell_type": "code",
   "execution_count": 22,
   "metadata": {},
   "outputs": [
    {
     "name": "stdout",
     "output_type": "stream",
     "text": [
      "[0, 0, 0, 0, 0, 0, 0, -8]\n",
      "[0, 0, 0, 0, 0, 0, -5, 0]\n",
      "[0, 0, 0, 0, 0, -1, 0, 0]\n",
      "[0, 0, 0, 0, -2, 0, 0, 0]\n",
      "[0, 0, 0, 2, 0, 0, 0, 0]\n",
      "[0, 0, 1, 0, 0, 0, 0, 0]\n",
      "[0, 5, 0, 0, 0, 0, 0, 0]\n",
      "[8, 0, 0, 0, 0, 0, 0, 0]\n"
     ]
    },
    {
     "ename": "IndexError",
     "evalue": "list index out of range",
     "output_type": "error",
     "traceback": [
      "\u001b[1;31m---------------------------------------------------------------------------\u001b[0m",
      "\u001b[1;31mIndexError\u001b[0m                                Traceback (most recent call last)",
      "\u001b[1;32m<ipython-input-22-458256d0e44e>\u001b[0m in \u001b[0;36m<module>\u001b[1;34m\u001b[0m\n\u001b[0;32m     72\u001b[0m     \u001b[0mprint\u001b[0m \u001b[1;33m(\u001b[0m\u001b[0mrow\u001b[0m\u001b[1;33m)\u001b[0m\u001b[1;33m\u001b[0m\u001b[1;33m\u001b[0m\u001b[0m\n\u001b[0;32m     73\u001b[0m \u001b[1;33m\u001b[0m\u001b[0m\n\u001b[1;32m---> 74\u001b[1;33m \u001b[0mc\u001b[0m \u001b[1;33m=\u001b[0m \u001b[0mMatVec\u001b[0m\u001b[1;33m(\u001b[0m\u001b[0mMinus\u001b[0m\u001b[1;33m,\u001b[0m\u001b[0mB\u001b[0m\u001b[1;33m)\u001b[0m\u001b[1;33m\u001b[0m\u001b[1;33m\u001b[0m\u001b[0m\n\u001b[0m\u001b[0;32m     75\u001b[0m \u001b[0mprint\u001b[0m\u001b[1;33m(\u001b[0m\u001b[0mc\u001b[0m\u001b[1;33m)\u001b[0m\u001b[1;33m\u001b[0m\u001b[1;33m\u001b[0m\u001b[0m\n",
      "\u001b[1;32m<ipython-input-22-458256d0e44e>\u001b[0m in \u001b[0;36mMatVec\u001b[1;34m(A, b)\u001b[0m\n\u001b[0;32m     40\u001b[0m             \u001b[0msum\u001b[0m \u001b[1;33m=\u001b[0m \u001b[1;36m0\u001b[0m\u001b[1;33m\u001b[0m\u001b[1;33m\u001b[0m\u001b[0m\n\u001b[0;32m     41\u001b[0m             \u001b[1;32mfor\u001b[0m \u001b[0mj\u001b[0m \u001b[1;32min\u001b[0m \u001b[0mRM\u001b[0m\u001b[1;33m:\u001b[0m\u001b[1;33m\u001b[0m\u001b[1;33m\u001b[0m\u001b[0m\n\u001b[1;32m---> 42\u001b[1;33m                 \u001b[0msum\u001b[0m \u001b[1;33m+=\u001b[0m \u001b[0mint\u001b[0m\u001b[1;33m(\u001b[0m\u001b[0mA\u001b[0m\u001b[1;33m[\u001b[0m\u001b[0mi\u001b[0m\u001b[1;33m]\u001b[0m\u001b[1;33m[\u001b[0m\u001b[0mj\u001b[0m\u001b[1;33m]\u001b[0m\u001b[1;33m)\u001b[0m \u001b[1;33m*\u001b[0m \u001b[0mint\u001b[0m\u001b[1;33m(\u001b[0m\u001b[0mb\u001b[0m\u001b[1;33m[\u001b[0m\u001b[0mj\u001b[0m\u001b[1;33m]\u001b[0m\u001b[1;33m[\u001b[0m\u001b[0mj\u001b[0m\u001b[1;33m]\u001b[0m\u001b[1;33m)\u001b[0m\u001b[1;33m\u001b[0m\u001b[1;33m\u001b[0m\u001b[0m\n\u001b[0m\u001b[0;32m     43\u001b[0m             \u001b[0mc\u001b[0m \u001b[1;33m+=\u001b[0m \u001b[1;33m[\u001b[0m\u001b[0msum\u001b[0m\u001b[1;33m]\u001b[0m\u001b[1;33m\u001b[0m\u001b[1;33m\u001b[0m\u001b[0m\n\u001b[0;32m     44\u001b[0m     \u001b[1;32melse\u001b[0m\u001b[1;33m:\u001b[0m\u001b[1;33m\u001b[0m\u001b[1;33m\u001b[0m\u001b[0m\n",
      "\u001b[1;31mIndexError\u001b[0m: list index out of range"
     ]
    }
   ],
   "source": [
    "#01702868\n",
    "\n",
    "\n",
    "B =[[0],[1],[7],[0],[2],[8],[6],[8]]\n",
    "\n",
    "RN = range(0,8)\n",
    "A = [] # initialise the matrix as a list\n",
    "for i in RN:\n",
    "    # form i-th row\n",
    "    row = [] # initialise i-th row as a list\n",
    "    for j in RN:\n",
    "        # add j-th column into i-th row\n",
    "        if j == i or j == 8-1-i:\n",
    "            row += B[j]\n",
    "        else:\n",
    "            row += [0]\n",
    "    # add row i-th to the matrix A\n",
    "    A += [row]\n",
    "\n",
    "#for row in A:\n",
    "#    print(row) \n",
    "    \n",
    "\n",
    "#B IS A M X 1 MATRIX\n",
    "def MatVec(A,b):\n",
    "    # this function computes the matrix vector multiplication between A and b\n",
    "    # c = A . b    \n",
    "\n",
    "    # check if dimensions are compatible\n",
    "    N = len(A) # number of rows\n",
    "    M = len(A[0]) # number of columns\n",
    "    # number of columns of A must equal the length of b\n",
    "    if M == len(b):\n",
    "        # dimensions are compatible: do the multiplication\n",
    "        c = []\n",
    "        RN = range(0,N)\n",
    "        RM = range(0,M)\n",
    "        for i in RN:\n",
    "            # compute c(i)\n",
    "            sum = 0\n",
    "            for j in RM:\n",
    "                sum += int(A[i][j]) * int(b[j])\n",
    "            c += [sum]\n",
    "    else:\n",
    "        # dimensions are not compatible, return the value of zero\n",
    "        c = 0\n",
    "        \n",
    "    return c\n",
    "\n",
    "T = []\n",
    "for i in RN:\n",
    "    row = []\n",
    "    for j in RN:\n",
    "        row += [A[j][i]]\n",
    "    T += [row]\n",
    "    \n",
    "#print()\n",
    "#for row in T:\n",
    "#    print (row)\n",
    "    \n",
    "#have got them mixed up so will use T as the original and A as the transpose\n",
    "\n",
    "#Minus is A - AT\n",
    "Minus = []\n",
    "for i in RN:\n",
    "    row = []\n",
    "    for j in RN:\n",
    "        row += [T[i][j] - A[i][j]]\n",
    "    Minus += [row]\n",
    "\n",
    "for row in Minus:\n",
    "    print (row)\n",
    "    \n",
    "c = MatVec(Minus,B)\n",
    "print(c)"
   ]
  },
  {
   "cell_type": "code",
   "execution_count": null,
   "metadata": {},
   "outputs": [],
   "source": []
  }
 ],
 "metadata": {
  "kernelspec": {
   "display_name": "Python 3",
   "language": "python",
   "name": "python3"
  },
  "language_info": {
   "codemirror_mode": {
    "name": "ipython",
    "version": 3
   },
   "file_extension": ".py",
   "mimetype": "text/x-python",
   "name": "python",
   "nbconvert_exporter": "python",
   "pygments_lexer": "ipython3",
   "version": "3.7.4"
  }
 },
 "nbformat": 4,
 "nbformat_minor": 2
}
