{
 "cells": [
  {
   "cell_type": "code",
   "execution_count": 15,
   "metadata": {},
   "outputs": [
    {
     "name": "stdin",
     "output_type": "stream",
     "text": [
      "Enter number:  15\n"
     ]
    },
    {
     "name": "stdout",
     "output_type": "stream",
     "text": [
      "315252.6762241074\n"
     ]
    }
   ],
   "source": [
    "#01703967\n",
    "N=int(input('Enter number: ')) # Let user choose number\n",
    "def Factorial(N): # First makr factorial fucntion to use in recursive function\n",
    "    r=range(1,N) # range is (1,N), not (1,N+1)-as factorial is (i-1)! not (i)!\n",
    "    F=1 # when N is 1, factorial is 1\n",
    "    for i in r:\n",
    "        F=F*i\n",
    "    return F # return function\n",
    "def RecF(N): # make recursive function\n",
    "    A=Factorial(N) # let A be the denominator factorial\n",
    "    if N==1:\n",
    "        S=1 # when N=1, S=1\n",
    "    else:\n",
    "        S=((N**9)/A) + RecF(N-1) # for all other N values - recursive\n",
    "    return  # return function\n",
    "a=RecF(N)\n",
    "print(a)"
   ]
  },
  {
   "cell_type": "code",
   "execution_count": null,
   "metadata": {},
   "outputs": [],
   "source": []
  }
 ],
 "metadata": {
  "kernelspec": {
   "display_name": "Python 3",
   "language": "python",
   "name": "python3"
  },
  "language_info": {
   "codemirror_mode": {
    "name": "ipython",
    "version": 3
   },
   "file_extension": ".py",
   "mimetype": "text/x-python",
   "name": "python",
   "nbconvert_exporter": "python",
   "pygments_lexer": "ipython3",
   "version": "3.7.4"
  }
 },
 "nbformat": 4,
 "nbformat_minor": 4
}
