{
 "cells": [
  {
   "cell_type": "code",
   "execution_count": 8,
   "metadata": {},
   "outputs": [
    {
     "name": "stdout",
     "output_type": "stream",
     "text": [
      "43\n",
      " 2020-03-08\n",
      "\n"
     ]
    }
   ],
   "source": [
    "#01703867\n",
    "f=open('CV19.txt','r') # open file and read it line by line\n",
    "a=f.readlines()\n",
    "f.close() # close file\n",
    "Infections=[] # initialise list\n",
    "i=0\n",
    "Rw=range(1,14) # 13 weeks therefore range is (1,14)\n",
    "for w in Rw:\n",
    "    week=a[i]\n",
    "    i+=1\n",
    "    date=a[i]\n",
    "print(week,date)\n",
    "#did not complete"
   ]
  },
  {
   "cell_type": "code",
   "execution_count": null,
   "metadata": {},
   "outputs": [],
   "source": []
  }
 ],
 "metadata": {
  "kernelspec": {
   "display_name": "Python 3",
   "language": "python",
   "name": "python3"
  },
  "language_info": {
   "codemirror_mode": {
    "name": "ipython",
    "version": 3
   },
   "file_extension": ".py",
   "mimetype": "text/x-python",
   "name": "python",
   "nbconvert_exporter": "python",
   "pygments_lexer": "ipython3",
   "version": "3.7.4"
  }
 },
 "nbformat": 4,
 "nbformat_minor": 4
}
