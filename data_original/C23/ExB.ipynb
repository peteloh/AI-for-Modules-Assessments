{
 "cells": [
  {
   "cell_type": "code",
   "execution_count": 26,
   "metadata": {},
   "outputs": [
    {
     "name": "stderr",
     "output_type": "stream",
     "text": [
      "C:\\Users\\Chouhan\\Anaconda3\\lib\\site-packages\\ipykernel_launcher.py:13: MatplotlibDeprecationWarning: Adding an axes using the same arguments as a previous axes currently reuses the earlier instance.  In a future version, a new instance will always be created and returned.  Meanwhile, this warning can be suppressed, and the future behavior ensured, by passing a unique label to each axes instance.\n",
      "  del sys.path[0]\n"
     ]
    },
    {
     "data": {
      "image/png": "[encoded data removed]",
      "text/plain": [
       "<Figure size 432x288 with 1 Axes>"
      ]
     },
     "metadata": {
      "needs_background": "light"
     },
     "output_type": "display_data"
    }
   ],
   "source": [
    "#01703867\n",
    "import math as mt # import required libraries\n",
    "import random as rd\n",
    "import matplotlib.pyplot as pl\n",
    "\n",
    "s1=(3/10)+0.9 # work out s1 and s2 values\n",
    "s2=(6/10)+0.6\n",
    "Rtheta=range(0,360) # plot circle, set theta value\n",
    "for theta in Rtheta:\n",
    "    thetar=theta * mt.pi/180\n",
    "    pl.scatter(10*mt.cos(thetar),10*mt.sin(thetar),c='b') # plot inner circle\n",
    "    pl.scatter(20*mt.cos(thetar),20*mt.sin(thetar),c='b') # plot outer circle\n",
    "    pl.axes().set_aspect('equal') # set axis equal - looks better\n",
    "x=0 # set intial coordinates of ant\n",
    "y=18\n",
    "pl.scatter(x,y) # plot point\n",
    "N=200 # set arbitary amount of moves\n",
    "R=range(1,N+1)\n",
    "for i in R:\n",
    "    xp=x # store current position as previous one\n",
    "    yp=y\n",
    "    dx=rd.random()*(2*s1)-s2 # compute size of dx and dy\n",
    "    dy=rd.random()*(2*s1)-s2\n",
    "    x+=dx # update coordinates of ant\n",
    "    y+=dy\n",
    "    if (x**2+y**2)>=20 or (x**2+y**2)<=10: # if ant touches wall it bounces off\n",
    "        x-=dx\n",
    "        y-=dy\n",
    "    if y<=0: # if ant goes below x axis it has escaped\n",
    "        print('Ant escapes!')\n",
    "    pl.plot([xp,x],[yp,y],c='r')# plot trace"
   ]
  },
  {
   "cell_type": "code",
   "execution_count": null,
   "metadata": {},
   "outputs": [],
   "source": []
  },
  {
   "cell_type": "code",
   "execution_count": null,
   "metadata": {},
   "outputs": [],
   "source": []
  }
 ],
 "metadata": {
  "kernelspec": {
   "display_name": "Python 3",
   "language": "python",
   "name": "python3"
  },
  "language_info": {
   "codemirror_mode": {
    "name": "ipython",
    "version": 3
   },
   "file_extension": ".py",
   "mimetype": "text/x-python",
   "name": "python",
   "nbconvert_exporter": "python",
   "pygments_lexer": "ipython3",
   "version": "3.7.4"
  }
 },
 "nbformat": 4,
 "nbformat_minor": 4
}
