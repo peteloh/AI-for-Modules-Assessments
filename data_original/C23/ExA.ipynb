{
 "cells": [
  {
   "cell_type": "code",
   "execution_count": 11,
   "metadata": {},
   "outputs": [
    {
     "name": "stdout",
     "output_type": "stream",
     "text": [
      "[-49]\n",
      "[-30]\n",
      "[-8]\n",
      "[-9]\n",
      "[0]\n",
      "[7]\n",
      "[5]\n",
      "[0]\n"
     ]
    }
   ],
   "source": [
    "#01703867\n",
    "def Transpose(A): # function to find transpose of A\n",
    "    N=len(A)\n",
    "    RN=range(0,N)\n",
    "    AT=[]\n",
    "    for i in RN:\n",
    "        row=[]\n",
    "        for j in RN:\n",
    "            row+=[A[j][i]]\n",
    "        AT+=[row]\n",
    "    return AT\n",
    "def Multiply(S,B): # function to multiply matrices S and b\n",
    "    M=len(S) # rows of S\n",
    "    MS=len(S[0]) # columns of S\n",
    "    P=len(B[0]) # rows of B\n",
    "    RM=range(0,M) # define ranges\n",
    "    RN=range(0,MS)\n",
    "    RP=range(0,P)\n",
    "    C=[] # compjute product of S and b\n",
    "    for i in RM:\n",
    "        row=[] # compute row i of matrix\n",
    "        for j in RP: # compute column\n",
    "            Sum=0 # initalise\n",
    "            for k in RN:\n",
    "                Sum+=S[i][k]*B[k][j]\n",
    "            row+=[Sum] # append this column\n",
    "        C+=[row] # append this row\n",
    "    return C\n",
    "# make matrix A\n",
    "A=[[0,0,0,0,0,0,0,0],[0,1,0,0,0,0,1,0],[0,0,7,0,0,7,0,0],[0,0,0,0,0,0,0,0],[0,0,0,3,3,0,0,0],[0,0,8,0,0,8,0,0,],[0,6,0,0,0,0,6,0],[7,0,0,0,0,0,0,7]]\n",
    "AT=Transpose(A) # Transpose computed using function\n",
    "S=[] # S=A-AT\n",
    "N=len(A)\n",
    "RN=range(0,N)\n",
    "for i in RN: # compute row of matrix from subtraction\n",
    "    row=[]\n",
    "    for j in RN:# compute column of matrix from subtraction\n",
    "        row+=[A[i][j]-AT[i][j]]\n",
    "    S+=[row] # append columns\n",
    "b=[[0],[1],[7],[0],[3],[8],[6],[7]] # make array b\n",
    "c=Multiply(S,b) # use multiply function to find c\n",
    "for row in c:\n",
    "    print(row) # print answer"
   ]
  },
  {
   "cell_type": "code",
   "execution_count": null,
   "metadata": {},
   "outputs": [],
   "source": []
  }
 ],
 "metadata": {
  "kernelspec": {
   "display_name": "Python 3",
   "language": "python",
   "name": "python3"
  },
  "language_info": {
   "codemirror_mode": {
    "name": "ipython",
    "version": 3
   },
   "file_extension": ".py",
   "mimetype": "text/x-python",
   "name": "python",
   "nbconvert_exporter": "python",
   "pygments_lexer": "ipython3",
   "version": "3.7.4"
  }
 },
 "nbformat": 4,
 "nbformat_minor": 4
}
