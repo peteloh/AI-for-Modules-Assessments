{
 "cells": [
  {
   "cell_type": "code",
   "execution_count": 21,
   "metadata": {},
   "outputs": [
    {
     "name": "stdout",
     "output_type": "stream",
     "text": [
      "[[0], [9], [63], [63], [27], [0], [54], [16]]\n"
     ]
    }
   ],
   "source": [
    "#CID no: 01773062\n",
    "\n",
    "CID = [0,1,7,7,3,0,6,2]\n",
    "#compute Matrix A\n",
    "A = []\n",
    "row = []\n",
    "#range of row of Matrix A\n",
    "R = range(0,8)\n",
    "#range of column of Matrix A\n",
    "C = range(0,8)\n",
    "\n",
    "for i in R:\n",
    "    row += [0]\n",
    "\n",
    "for i in R:\n",
    "    A += [[]]\n",
    "    for j in C:\n",
    "        Rm = range(0,len(CID))\n",
    "        for k in Rm:\n",
    "            if i == j or j==len(CID)-1-i :\n",
    "                A[i] += [CID[i]]\n",
    "            else :\n",
    "                A[i] += [0]\n",
    "            row[j] += A[i][j]\n",
    "\n",
    "#print(A)\n",
    "\n",
    "#since my code above does not work, i will write out matrix A and B manually\n",
    "A = [[0,0,0,0,0,0,0,0],[0,1,0,0,0,0,1,0],[0,0,7,0,0,7,0,0],[0,0,0,7,7,0,0,0],[0,0,0,3,3,0,0,0],[0,0,0,0,0,0,0,0],[0,6,0,0,0,0,6,0],[2,0,0,0,0,0,0,2]]\n",
    "B = [[0],[2],[3],[4],[5],[6],[7],[8]]\n",
    "\n",
    "#write a function to compute C\n",
    "def Mat(A,B):\n",
    "    # compute range of matrix C\n",
    "    C = [[0 for x in range(len(B[0]))] for y in range(len(A))]\n",
    "    # 3 for loops for a multiplication matrix \n",
    "    for i in range(0,len(A)):\n",
    "        for j in range(0,len(B[0])):\n",
    "            for k in range(0,len(A[0])):\n",
    "                # C = (A - A transpose) * B\n",
    "                C[i][j] += (A[i][k]-A[j][k])*B[k][j]\n",
    "    return C\n",
    "\n",
    "C = Mat(A,B)\n",
    "print(C)\n"
   ]
  },
  {
   "cell_type": "code",
   "execution_count": null,
   "metadata": {},
   "outputs": [],
   "source": []
  }
 ],
 "metadata": {
  "kernelspec": {
   "display_name": "Python 3",
   "language": "python",
   "name": "python3"
  },
  "language_info": {
   "codemirror_mode": {
    "name": "ipython",
    "version": 3
   },
   "file_extension": ".py",
   "mimetype": "text/x-python",
   "name": "python",
   "nbconvert_exporter": "python",
   "pygments_lexer": "ipython3",
   "version": "3.7.4"
  }
 },
 "nbformat": 4,
 "nbformat_minor": 2
}
