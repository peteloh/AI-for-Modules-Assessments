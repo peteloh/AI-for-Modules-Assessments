{
 "cells": [
  {
   "cell_type": "code",
   "execution_count": 9,
   "metadata": {},
   "outputs": [
    {
     "ename": "ValueError",
     "evalue": "invalid literal for int() with base 10: '2020-03-03\\n'",
     "output_type": "error",
     "traceback": [
      "\u001b[0;31m---------------------------------------------------------------------------\u001b[0m",
      "\u001b[0;31mValueError\u001b[0m                                Traceback (most recent call last)",
      "\u001b[0;32m<ipython-input-9-9b7e0fa7c795>\u001b[0m in \u001b[0;36m<module>\u001b[0;34m\u001b[0m\n\u001b[1;32m     23\u001b[0m         \u001b[0minfections\u001b[0m \u001b[0;34m=\u001b[0m \u001b[0;36m0\u001b[0m\u001b[0;34m\u001b[0m\u001b[0;34m\u001b[0m\u001b[0m\n\u001b[1;32m     24\u001b[0m         \u001b[0;32mfor\u001b[0m \u001b[0mx\u001b[0m \u001b[0;32min\u001b[0m \u001b[0mdate\u001b[0m \u001b[0;34m:\u001b[0m\u001b[0;34m\u001b[0m\u001b[0;34m\u001b[0m\u001b[0m\n\u001b[0;32m---> 25\u001b[0;31m             \u001b[0minfections\u001b[0m \u001b[0;34m+=\u001b[0m \u001b[0mint\u001b[0m\u001b[0;34m(\u001b[0m\u001b[0ma\u001b[0m\u001b[0;34m[\u001b[0m\u001b[0mi\u001b[0m\u001b[0;34m]\u001b[0m\u001b[0;34m)\u001b[0m\u001b[0;34m\u001b[0m\u001b[0;34m\u001b[0m\u001b[0m\n\u001b[0m\u001b[1;32m     26\u001b[0m \u001b[0mprint\u001b[0m\u001b[0;34m(\u001b[0m\u001b[0minfections\u001b[0m\u001b[0;34m)\u001b[0m\u001b[0;34m\u001b[0m\u001b[0;34m\u001b[0m\u001b[0m\n\u001b[1;32m     27\u001b[0m \u001b[0;34m\u001b[0m\u001b[0m\n",
      "\u001b[0;31mValueError\u001b[0m: invalid literal for int() with base 10: '2020-03-03\\n'"
     ]
    }
   ],
   "source": [
    "#CID no : 01773062\n",
    "\n",
    "#open and read the txt file\n",
    "fm = open('CV19.txt','r')\n",
    "a = fm.readlines()\n",
    "fm.close()\n",
    "\n",
    "#i is used to scroll the index of the list a\n",
    "i = 0\n",
    "#number of weeks = 13\n",
    "RW = range(1,14)\n",
    "for w in RW:\n",
    "    #week number\n",
    "    week = a[i].rstrip()\n",
    "    i+=1\n",
    "    #date\n",
    "    #number of days = 7\n",
    "    Ri = range(1,8)\n",
    "    for m in Ri :\n",
    "        date = a[i].rstrip()\n",
    "        i += 1\n",
    "        #set the number of infections to 0 first\n",
    "        infections = 0\n",
    "        for x in date :\n",
    "            infections += int(a[i])\n",
    "print(infections)\n",
    "\n",
    "#weekly infections \n",
    "for w in RW:\n",
    "    week += [w]\n",
    "    Sum = 0 # sum of infections = 0\n",
    "    for date in Ri :\n",
    "        dates += [date]\n",
    "        for i in date :\n",
    "            Sum += int(a[i + week*13].rstrip())\n",
    "    print(Sum)\n",
    "\n"
   ]
  },
  {
   "cell_type": "code",
   "execution_count": null,
   "metadata": {},
   "outputs": [],
   "source": []
  }
 ],
 "metadata": {
  "kernelspec": {
   "display_name": "Python 3",
   "language": "python",
   "name": "python3"
  },
  "language_info": {
   "codemirror_mode": {
    "name": "ipython",
    "version": 3
   },
   "file_extension": ".py",
   "mimetype": "text/x-python",
   "name": "python",
   "nbconvert_exporter": "python",
   "pygments_lexer": "ipython3",
   "version": "3.7.4"
  }
 },
 "nbformat": 4,
 "nbformat_minor": 2
}
