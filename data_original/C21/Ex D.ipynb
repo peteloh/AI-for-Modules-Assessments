{
 "cells": [
  {
   "cell_type": "code",
   "execution_count": 16,
   "metadata": {},
   "outputs": [
    {
     "name": "stdout",
     "output_type": "stream",
     "text": [
      "15.0\n",
      "22.5\n",
      "25.0\n",
      "25.625\n",
      "25.75\n",
      "25.770833333333332\n",
      "25.773809523809522\n",
      "25.774181547619047\n",
      "25.774222883597883\n",
      "25.774227017195766\n",
      "25.77422739297739\n",
      "25.774227424292526\n",
      "25.774227426701383\n",
      "25.774227426873445\n"
     ]
    },
    {
     "ename": "IndexError",
     "evalue": "list index out of range",
     "output_type": "error",
     "traceback": [
      "\u001b[0;31m---------------------------------------------------------------------------\u001b[0m",
      "\u001b[0;31mIndexError\u001b[0m                                Traceback (most recent call last)",
      "\u001b[0;32m<ipython-input-16-c6dfe8671ff0>\u001b[0m in \u001b[0;36m<module>\u001b[0;34m\u001b[0m\n\u001b[1;32m     33\u001b[0m \u001b[0;31m#compute y\u001b[0m\u001b[0;34m\u001b[0m\u001b[0;34m\u001b[0m\u001b[0;34m\u001b[0m\u001b[0m\n\u001b[1;32m     34\u001b[0m \u001b[0;32mfor\u001b[0m \u001b[0mi\u001b[0m \u001b[0;32min\u001b[0m \u001b[0mrange\u001b[0m\u001b[0;34m(\u001b[0m\u001b[0;36m1\u001b[0m\u001b[0;34m,\u001b[0m\u001b[0mN\u001b[0m\u001b[0;34m+\u001b[0m\u001b[0;36m1\u001b[0m\u001b[0;34m)\u001b[0m\u001b[0;34m:\u001b[0m\u001b[0;34m\u001b[0m\u001b[0;34m\u001b[0m\u001b[0m\n\u001b[0;32m---> 35\u001b[0;31m     \u001b[0mSum\u001b[0m \u001b[0;34m+=\u001b[0m \u001b[0mfloat\u001b[0m\u001b[0;34m(\u001b[0m\u001b[0my\u001b[0m\u001b[0;34m[\u001b[0m\u001b[0mi\u001b[0m\u001b[0;34m]\u001b[0m\u001b[0;34m)\u001b[0m\u001b[0;34m\u001b[0m\u001b[0;34m\u001b[0m\u001b[0m\n\u001b[0m\u001b[1;32m     36\u001b[0m     \u001b[0;31m#y = Series(x,N)\u001b[0m\u001b[0;34m\u001b[0m\u001b[0;34m\u001b[0m\u001b[0;34m\u001b[0m\u001b[0m\n\u001b[1;32m     37\u001b[0m     \u001b[0;31m#plot the graph\u001b[0m\u001b[0;34m\u001b[0m\u001b[0;34m\u001b[0m\u001b[0;34m\u001b[0m\u001b[0m\n",
      "\u001b[0;31mIndexError\u001b[0m: list index out of range"
     ]
    }
   ],
   "source": [
    "#CID no : 01773062\n",
    "\n",
    "import math\n",
    "import matplotlib.pyplot as pl\n",
    "\n",
    "#create a recursive function\n",
    "def Series(x,N):\n",
    "    Ri = range(1,N+1)\n",
    "    y = []\n",
    "    #initial Sum = 0\n",
    "    Sum = 0\n",
    "    for xp in x:\n",
    "        yp = 0\n",
    "        for i in Ri:\n",
    "            #add terms up to N\n",
    "            # 6th digit of CID = 0\n",
    "            yp += xp**0/math.factorial(xp-1)\n",
    "        #append this yp\n",
    "        y += [yp]\n",
    "        Sum += y\n",
    "    #return results\n",
    "    return Sum\n",
    "\n",
    "\n",
    "N = 15\n",
    "#create a list of x\n",
    "x = []\n",
    "#add items into x\n",
    "for i in range(1,N+1):\n",
    "    x += [i]\n",
    "\n",
    "Sum = 0\n",
    "#compute y\n",
    "for i in range(1,N+1):\n",
    "    Sum += float(y[i])\n",
    "    #y = Series(x,N)\n",
    "    #plot the graph\n",
    "    #pl.plot(x,y)\n",
    "    print(Sum)\n",
    "    \n"
   ]
  },
  {
   "cell_type": "code",
   "execution_count": null,
   "metadata": {},
   "outputs": [],
   "source": []
  }
 ],
 "metadata": {
  "kernelspec": {
   "display_name": "Python 3",
   "language": "python",
   "name": "python3"
  },
  "language_info": {
   "codemirror_mode": {
    "name": "ipython",
    "version": 3
   },
   "file_extension": ".py",
   "mimetype": "text/x-python",
   "name": "python",
   "nbconvert_exporter": "python",
   "pygments_lexer": "ipython3",
   "version": "3.7.4"
  }
 },
 "nbformat": 4,
 "nbformat_minor": 2
}
