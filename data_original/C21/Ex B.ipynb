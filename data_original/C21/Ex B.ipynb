{
 "cells": [
  {
   "cell_type": "code",
   "execution_count": 11,
   "metadata": {},
   "outputs": [
    {
     "name": "stderr",
     "output_type": "stream",
     "text": [
      "/opt/anaconda3/lib/python3.7/site-packages/ipykernel_launcher.py:15: MatplotlibDeprecationWarning: Adding an axes using the same arguments as a previous axes currently reuses the earlier instance.  In a future version, a new instance will always be created and returned.  Meanwhile, this warning can be suppressed, and the future behavior ensured, by passing a unique label to each axes instance.\n",
      "  from ipykernel import kernelapp as app\n"
     ]
    },
    {
     "name": "stdout",
     "output_type": "stream",
     "text": [
      "What is N?1000\n"
     ]
    },
    {
     "data": {
      "image/png": "[encoded data removed]",
      "text/plain": [
       "<Figure size 432x288 with 1 Axes>"
      ]
     },
     "metadata": {
      "needs_background": "light"
     },
     "output_type": "display_data"
    }
   ],
   "source": [
    "#CID number : 01773062\n",
    "\n",
    "import random\n",
    "import math\n",
    "import matplotlib.pyplot as pl\n",
    "\n",
    "#create the boundary first\n",
    "R = range(0,360)\n",
    "Radius = 20 #outer radius\n",
    "Radiusin = 10 #inner radius\n",
    "for i in R:\n",
    "    theta = i*math.pi/180\n",
    "    pl.scatter(Radius*math.cos(theta),Radius*math.sin(theta), s = 3, c=\"Red\")\n",
    "    pl.scatter(Radiusin*math.cos(theta),Radiusin*math.sin(theta), s = 3, c=\"Green\")\n",
    "pl.axes().set_aspect('equal') #axes are equal in distance\n",
    "\n",
    "#plot first point of the ant\n",
    "x = 0\n",
    "y = 18\n",
    "\n",
    "#how many times does the ant move\n",
    "N = int(input('What is N?'))\n",
    "#compute movement of the ant\n",
    "Rn = range(1,N+1)\n",
    "for i in Rn:\n",
    "    #have to store current position as previous one\n",
    "    xp = x\n",
    "    yp = y\n",
    "    #compute the size of the first movement \n",
    "    # s1 = 0.3+0.9= 1.2 , s2 = 0.6+0.9 = 1.5\n",
    "    dx = random.random()*2.4-1.2\n",
    "    dy = random.random()*3.0-1.5\n",
    "    #compute ant movement\n",
    "    x += dx\n",
    "    y += dy\n",
    "    #if the ant exceeds the boundary, bring it back to its previous position\n",
    "    if x**2 + y**2 > 20 or x**2 + y**2 < 10 :\n",
    "        x -= dx\n",
    "        y -= dy\n",
    "        #if yp < 0 :\n",
    "            #break\n",
    "    pl.plot([xp,x],[yp,y],c='Blue')\n",
    "    \n",
    "\n",
    "\n",
    "\n",
    "    "
   ]
  },
  {
   "cell_type": "code",
   "execution_count": null,
   "metadata": {},
   "outputs": [],
   "source": []
  }
 ],
 "metadata": {
  "kernelspec": {
   "display_name": "Python 3",
   "language": "python",
   "name": "python3"
  },
  "language_info": {
   "codemirror_mode": {
    "name": "ipython",
    "version": 3
   },
   "file_extension": ".py",
   "mimetype": "text/x-python",
   "name": "python",
   "nbconvert_exporter": "python",
   "pygments_lexer": "ipython3",
   "version": "3.7.4"
  }
 },
 "nbformat": 4,
 "nbformat_minor": 2
}
