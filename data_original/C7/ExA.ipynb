{
 "cells": [
  {
   "cell_type": "code",
   "execution_count": 30,
   "metadata": {},
   "outputs": [
    {
     "name": "stdout",
     "output_type": "stream",
     "text": [
      "19\n"
     ]
    }
   ],
   "source": [
    "#01721651 \n",
    "\n",
    "# Put CID in a list \n",
    "CID = [0,1,7,2,1,6,5,1]\n",
    "\n",
    "# Create Matrix A \n",
    "A = []\n",
    "\n",
    "for i in range(0,8): \n",
    "    #Create empty matrix\n",
    "    A += [[]]\n",
    "    for j in range(0,8):\n",
    "        #If on the diagonal, add the correct CID digit for the corresponding row. Else, make the value 0\n",
    "        if i == j or i + j == 7:\n",
    "            A[i] += [CID[i]] \n",
    "        else:\n",
    "            A[i] += [0]\n",
    "\n",
    "# Create Transpose of A\n",
    "\n",
    "At = [] \n",
    "\n",
    "for i in range(0,8):\n",
    "    #Create empty matrix\n",
    "    At += [[]]\n",
    "    for j in range(0,8): \n",
    "        \n",
    "        # Make Aji == Atij, ie swap rows for columns\n",
    "        At[i] += [A[j][i]] \n",
    "\n",
    "# Create B \n",
    "B = [] \n",
    "\n",
    "# B is a matrix with 8 rows \n",
    "for i in range(0,8): \n",
    "    # Add the corresponding CID digit to each row of B\n",
    "    B += [[CID[i]]]\n",
    "    \n",
    "# Compute the dot product\n",
    "C = 0\n",
    "for i in range(0,8):\n",
    "    for j in range(0,8):\n",
    "        C += (A[i][j]-At[i][j])*(B[i][0])\n",
    "print(C)"
   ]
  }
 ],
 "metadata": {
  "kernelspec": {
   "display_name": "Python 3",
   "language": "python",
   "name": "python3"
  },
  "language_info": {
   "codemirror_mode": {
    "name": "ipython",
    "version": 3
   },
   "file_extension": ".py",
   "mimetype": "text/x-python",
   "name": "python",
   "nbconvert_exporter": "python",
   "pygments_lexer": "ipython3",
   "version": "3.7.4"
  }
 },
 "nbformat": 4,
 "nbformat_minor": 2
}
