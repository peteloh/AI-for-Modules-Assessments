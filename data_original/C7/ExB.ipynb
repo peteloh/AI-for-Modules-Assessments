{
 "cells": [
  {
   "cell_type": "code",
   "execution_count": 12,
   "metadata": {},
   "outputs": [
    {
     "ename": "AttributeError",
     "evalue": "module 'matplotlib.pyplot' has no attribute 'line'",
     "output_type": "error",
     "traceback": [
      "\u001b[1;31m---------------------------------------------------------------------------\u001b[0m",
      "\u001b[1;31mAttributeError\u001b[0m                            Traceback (most recent call last)",
      "\u001b[1;32m<ipython-input-12-077bb0401bd1>\u001b[0m in \u001b[0;36m<module>\u001b[1;34m\u001b[0m\n\u001b[0;32m     45\u001b[0m         \u001b[0mGreen\u001b[0m \u001b[1;33m=\u001b[0m \u001b[1;32mTrue\u001b[0m\u001b[1;33m\u001b[0m\u001b[1;33m\u001b[0m\u001b[0m\n\u001b[0;32m     46\u001b[0m \u001b[1;33m\u001b[0m\u001b[0m\n\u001b[1;32m---> 47\u001b[1;33m \u001b[0mpl\u001b[0m\u001b[1;33m.\u001b[0m\u001b[0mline\u001b[0m\u001b[1;33m(\u001b[0m\u001b[0mAntx\u001b[0m\u001b[1;33m,\u001b[0m\u001b[0mAnty\u001b[0m\u001b[1;33m)\u001b[0m\u001b[1;33m\u001b[0m\u001b[1;33m\u001b[0m\u001b[0m\n\u001b[0m",
      "\u001b[1;31mAttributeError\u001b[0m: module 'matplotlib.pyplot' has no attribute 'line'"
     ]
    }
   ],
   "source": [
    "#  01721651 \n",
    "\n",
    "# The ant's movement pattern\n",
    "Antx = [0]\n",
    "Anty = [18]\n",
    "\n",
    "# The ant's position at a particular time \n",
    "\n",
    "x = 0 \n",
    "y = 18\n",
    "\n",
    "# Define s1 and s2\n",
    "s1 = -((1/10) + 0.9)\n",
    "s2 = (5/10) + 0.6 \n",
    "\n",
    "import random \n",
    "import matplotlib.pyplot as pl\n",
    "\n",
    "# Set the ant's condition\n",
    "Green = False\n",
    "\n",
    "# Start the ant's movement \n",
    "\n",
    "# Run whilst the Ant is in the red zone\n",
    "while not Green:\n",
    "    \n",
    "    # Compute dx and dy \n",
    "    dx = s1 + (random.random())*(s2-s1) \n",
    "    dy = s1 + (random.random())*(s2-s1) \n",
    "    \n",
    "    # If ant has hit a wall, compute x and y again\n",
    "    if (x+dx)**2 + (y+dy)**2 >= 400 or (x+dx)**2 + (y+dy)**2 <= 100: \n",
    "        continue\n",
    "    else: \n",
    "        # Compute new x and y \n",
    "        x += dx \n",
    "        y += dy \n",
    "        # Add to plot \n",
    "        Antx += [x]\n",
    "        Anty += [y]\n",
    "        \n",
    "    # Check if reached green zone\n",
    "    if 10 < abs(x) < 20 and y < 0:\n",
    "        \n",
    "        Green = True \n",
    "\n",
    "pl.(Antx,Anty)"
   ]
  }
 ],
 "metadata": {
  "kernelspec": {
   "display_name": "Python 3",
   "language": "python",
   "name": "python3"
  },
  "language_info": {
   "codemirror_mode": {
    "name": "ipython",
    "version": 3
   },
   "file_extension": ".py",
   "mimetype": "text/x-python",
   "name": "python",
   "nbconvert_exporter": "python",
   "pygments_lexer": "ipython3",
   "version": "3.7.4"
  }
 },
 "nbformat": 4,
 "nbformat_minor": 2
}
