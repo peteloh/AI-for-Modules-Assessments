{
 "cells": [
  {
   "cell_type": "code",
   "execution_count": 7,
   "metadata": {},
   "outputs": [
    {
     "name": "stdout",
     "output_type": "stream",
     "text": [
      "13.0\n"
     ]
    },
    {
     "ename": "IndexError",
     "evalue": "list index out of range",
     "output_type": "error",
     "traceback": [
      "\u001b[1;31m---------------------------------------------------------------------------\u001b[0m",
      "\u001b[1;31mIndexError\u001b[0m                                Traceback (most recent call last)",
      "\u001b[1;32m<ipython-input-7-04600fe8ab0a>\u001b[0m in \u001b[0;36m<module>\u001b[1;34m\u001b[0m\n\u001b[0;32m     22\u001b[0m          \u001b[0mSum\u001b[0m \u001b[1;33m=\u001b[0m \u001b[0mSum\u001b[0m \u001b[1;33m+\u001b[0m \u001b[0mint\u001b[0m\u001b[1;33m(\u001b[0m\u001b[0mtemp\u001b[0m\u001b[1;33m[\u001b[0m\u001b[0mj\u001b[0m\u001b[1;33m]\u001b[0m\u001b[1;33m.\u001b[0m\u001b[0mrstrip\u001b[0m\u001b[1;33m(\u001b[0m\u001b[1;33m)\u001b[0m\u001b[1;33m)\u001b[0m\u001b[1;33m\u001b[0m\u001b[1;33m\u001b[0m\u001b[0m\n\u001b[0;32m     23\u001b[0m     \u001b[0mInfections\u001b[0m \u001b[1;33m=\u001b[0m \u001b[0mInfections\u001b[0m \u001b[1;33m+\u001b[0m \u001b[1;33m[\u001b[0m\u001b[0msum\u001b[0m\u001b[1;33m]\u001b[0m\u001b[1;33m\u001b[0m\u001b[1;33m\u001b[0m\u001b[0m\n\u001b[1;32m---> 24\u001b[1;33m     \u001b[0mCases\u001b[0m \u001b[1;33m=\u001b[0m \u001b[0mCases\u001b[0m \u001b[1;33m+\u001b[0m \u001b[1;33m[\u001b[0m\u001b[1;33m(\u001b[0m\u001b[0mtemp\u001b[0m\u001b[1;33m[\u001b[0m\u001b[0mi\u001b[0m\u001b[1;33m]\u001b[0m\u001b[1;33m.\u001b[0m\u001b[0mrstrip\u001b[0m\u001b[1;33m(\u001b[0m\u001b[1;33m)\u001b[0m\u001b[1;33m,\u001b[0m\u001b[0mInfections\u001b[0m\u001b[1;33m[\u001b[0m\u001b[0mi\u001b[0m\u001b[1;33m]\u001b[0m\u001b[1;33m)\u001b[0m\u001b[1;33m]\u001b[0m\u001b[1;33m\u001b[0m\u001b[1;33m\u001b[0m\u001b[0m\n\u001b[0m\u001b[0;32m     25\u001b[0m \u001b[1;33m\u001b[0m\u001b[0m\n\u001b[0;32m     26\u001b[0m \u001b[1;31m#number of infections within the given period\u001b[0m\u001b[1;33m\u001b[0m\u001b[1;33m\u001b[0m\u001b[1;33m\u001b[0m\u001b[0m\n",
      "\u001b[1;31mIndexError\u001b[0m: list index out of range"
     ]
    }
   ],
   "source": [
    "#01718219\n",
    "\n",
    "f = open('CV19.txt','r')\n",
    "temp = f.readlines()\n",
    "f.close()\n",
    "\n",
    "#number of weeks = len(temp)/15\n",
    "#15 pieces of data per week\n",
    "#13 weeks\n",
    "\n",
    "Weeks = len(temp)/15\n",
    "print(Weeks)\n",
    "\n",
    "#loop for every week and display the week name and the sum of all cases for that week\n",
    "\n",
    "Cases = []\n",
    "Infections = []\n",
    "for i in range(0,len(temp),13):\n",
    "    Sum = 0\n",
    "    for j in range(2,15,2):\n",
    "         Sum = Sum + int(temp[j].rstrip())\n",
    "    Infections = Infections + [sum]\n",
    "    Cases = Cases + [(temp[i].rstrip(),Infections[i])]\n",
    "    \n",
    "#number of infections within the given period\n",
    "Sum = 0\n",
    "for i in range(0,13):\n",
    "    Sum = Sum + [Cases[i][1]]\n",
    "print(Sum)    \n",
    "\n",
    "#weekly number of infections per every week period\n",
    "for week in Cases:\n",
    "    print(week)\n",
    "    \n",
    "    \n",
    "#week with the highest number of infections\n",
    "\n",
    "MaxWeek = Cases[0][0]\n",
    "Max = Cases[0][1]\n",
    "for i in range(1,13):\n",
    "    if Cases[i][1] > Max:\n",
    "        Max = Cases[i][1]\n",
    "        MaxWeek = Cases[i][0]\n",
    "        \n",
    "#weekly percentage increment\n",
    "\n",
    "\n",
    "\n",
    "    \n",
    "    \n",
    "\n",
    "    \n",
    "    \n",
    "        \n",
    "\n",
    "\n",
    "    "
   ]
  },
  {
   "cell_type": "code",
   "execution_count": null,
   "metadata": {},
   "outputs": [],
   "source": []
  },
  {
   "cell_type": "code",
   "execution_count": null,
   "metadata": {},
   "outputs": [],
   "source": []
  }
 ],
 "metadata": {
  "kernelspec": {
   "display_name": "Python 3",
   "language": "python",
   "name": "python3"
  },
  "language_info": {
   "codemirror_mode": {
    "name": "ipython",
    "version": 3
   },
   "file_extension": ".py",
   "mimetype": "text/x-python",
   "name": "python",
   "nbconvert_exporter": "python",
   "pygments_lexer": "ipython3",
   "version": "3.7.4"
  }
 },
 "nbformat": 4,
 "nbformat_minor": 2
}
