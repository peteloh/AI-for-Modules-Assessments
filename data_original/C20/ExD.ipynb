{
 "cells": [
  {
   "cell_type": "code",
   "execution_count": 7,
   "metadata": {},
   "outputs": [
    {
     "data": {
      "text/plain": [
       "13.208333333333332"
      ]
     },
     "execution_count": 7,
     "metadata": {},
     "output_type": "execute_result"
    }
   ],
   "source": [
    "#01718219\n",
    "\n",
    "import math\n",
    "\n",
    "#6th digit of CID = 2\n",
    "\n",
    "def Sum(n):\n",
    "    if n==1:\n",
    "        #define finishing itertion to not cause infinite loop\n",
    "        S = 1\n",
    "    else:\n",
    "        #add final to previous sums\n",
    "        S = n**2/math.factorial(n-1) + Sum(n-1)\n",
    "    return S\n",
    "\n",
    "#test\n",
    "Sum(5)"
   ]
  },
  {
   "cell_type": "code",
   "execution_count": null,
   "metadata": {},
   "outputs": [],
   "source": []
  }
 ],
 "metadata": {
  "kernelspec": {
   "display_name": "Python 3",
   "language": "python",
   "name": "python3"
  },
  "language_info": {
   "codemirror_mode": {
    "name": "ipython",
    "version": 3
   },
   "file_extension": ".py",
   "mimetype": "text/x-python",
   "name": "python",
   "nbconvert_exporter": "python",
   "pygments_lexer": "ipython3",
   "version": "3.7.4"
  }
 },
 "nbformat": 4,
 "nbformat_minor": 2
}
