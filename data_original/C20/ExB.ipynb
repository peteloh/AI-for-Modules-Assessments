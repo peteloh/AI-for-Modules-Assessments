{
 "cells": [
  {
   "cell_type": "code",
   "execution_count": 1,
   "metadata": {},
   "outputs": [
    {
     "ename": "NameError",
     "evalue": "name 'y' is not defined",
     "output_type": "error",
     "traceback": [
      "\u001b[1;31m---------------------------------------------------------------------------\u001b[0m",
      "\u001b[1;31mNameError\u001b[0m                                 Traceback (most recent call last)",
      "\u001b[1;32m<ipython-input-1-7037cea24486>\u001b[0m in \u001b[0;36m<module>\u001b[1;34m\u001b[0m\n\u001b[0;32m     24\u001b[0m \u001b[1;33m\u001b[0m\u001b[0m\n\u001b[0;32m     25\u001b[0m \u001b[0mMoveforward\u001b[0m \u001b[1;33m=\u001b[0m \u001b[1;32mTrue\u001b[0m\u001b[1;33m\u001b[0m\u001b[1;33m\u001b[0m\u001b[0m\n\u001b[1;32m---> 26\u001b[1;33m \u001b[1;32mif\u001b[0m \u001b[0my\u001b[0m\u001b[1;33m<\u001b[0m\u001b[1;36m0\u001b[0m\u001b[1;33m:\u001b[0m\u001b[1;33m\u001b[0m\u001b[1;33m\u001b[0m\u001b[0m\n\u001b[0m\u001b[0;32m     27\u001b[0m     \u001b[0mMoveforward\u001b[0m \u001b[1;33m=\u001b[0m \u001b[1;32mFalse\u001b[0m\u001b[1;33m\u001b[0m\u001b[1;33m\u001b[0m\u001b[0m\n\u001b[0;32m     28\u001b[0m \u001b[1;32melse\u001b[0m\u001b[1;33m:\u001b[0m\u001b[1;33m\u001b[0m\u001b[1;33m\u001b[0m\u001b[0m\n",
      "\u001b[1;31mNameError\u001b[0m: name 'y' is not defined"
     ]
    }
   ],
   "source": [
    "#01718219\n",
    "\n",
    "import matplotlib.pyplot as plt\n",
    "import random\n",
    "import math\n",
    "\n",
    "\n",
    "CID = [0,1,7,1,8,2,1,9]\n",
    "#5th digit of CID = 8\n",
    "#7th digit of CID = 1\n",
    "\n",
    "#circle bounds\n",
    "#x**2 + y**2 > 10**2 for inner circle\n",
    "#x**2 + y**2 < 20**2 for outer circle\n",
    "\n",
    "#generation of circle\n",
    "#inner\n",
    "for theta in range(0,360):\n",
    "    thetaradian  = theta * (math.pi/180)\n",
    "    plt.scatter(math.cos(thetaradian)*10,math.sin(thetaradian)*10,s=0.8,c='b')\n",
    "#outer\n",
    "for theta in range(0,360):\n",
    "    thetaradian  = theta * (math.pi/180)\n",
    "    plt.scatter(math.cos(thetaradian)*20,math.sin(thetaradian)*20,s=0.8,c='r')\n",
    "\n",
    "\n",
    "plt.axes().set_aspect('equal')\n",
    "\n",
    "\n",
    "#initial position:\n",
    "xstart = 0\n",
    "ystart = 18\n",
    "\n",
    "\n",
    "#random positioning\n",
    "s1 = 8/10 + 0.9\n",
    "s2 = 1/10 + 0.9\n",
    "dx = random.uniform(-s1,s2)\n",
    "dy = random.uniform(-s1,s2)\n",
    "\n",
    "\n",
    "#moveforward code\n",
    "Moveforward = True\n",
    "if y<0:\n",
    "    Moveforward = False\n",
    "else:\n",
    "    xprev = x\n",
    "    yprev = y\n",
    "    x = x + dx\n",
    "    y = y + dy\n",
    "    if (x**2 + y**2) > 20**2 or (x**2 + y**2) < 10**2:\n",
    "        x = xprev\n",
    "        y = yprev\n",
    "    plt.plot([xprev,x],[yprev,y])\n",
    "    \n",
    "    \n",
    "    "
   ]
  },
  {
   "cell_type": "code",
   "execution_count": null,
   "metadata": {},
   "outputs": [],
   "source": []
  }
 ],
 "metadata": {
  "kernelspec": {
   "display_name": "Python 3",
   "language": "python",
   "name": "python3"
  },
  "language_info": {
   "codemirror_mode": {
    "name": "ipython",
    "version": 3
   },
   "file_extension": ".py",
   "mimetype": "text/x-python",
   "name": "python",
   "nbconvert_exporter": "python",
   "pygments_lexer": "ipython3",
   "version": "3.7.4"
  }
 },
 "nbformat": 4,
 "nbformat_minor": 2
}
