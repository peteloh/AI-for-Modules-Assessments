{
 "cells": [
  {
   "cell_type": "code",
   "execution_count": 23,
   "metadata": {},
   "outputs": [
    {
     "name": "stdout",
     "output_type": "stream",
     "text": [
      "[0]\n",
      "[1]\n",
      "[7]\n",
      "[1]\n",
      "[8]\n",
      "[2]\n",
      "[1]\n",
      "[9]\n",
      "[0, 0, 0, 0, 0, 0, 0, 0]\n",
      "[0, 1, 0, 0, 0, 0, 1, 0]\n",
      "[0, 0, 7, 0, 0, 7, 0, 0]\n",
      "[0, 0, 0, 1, 1, 0, 0, 0]\n",
      "[0, 0, 0, 8, 8, 0, 0, 0]\n",
      "[0, 0, 2, 0, 0, 2, 0, 0]\n",
      "[0, 1, 0, 0, 0, 0, 1, 0]\n",
      "[9, 0, 0, 0, 0, 0, 0, 9]\n",
      "[0, 0, 0, 0, 0, 0, 0, -9]\n",
      "[0, 0, 0, 0, 0, 0, 0, 0]\n",
      "[0, 0, 0, 0, 0, 5, 0, 0]\n",
      "[0, 0, 0, 0, -7, 0, 0, 0]\n",
      "[0, 0, 0, 7, 0, 0, 0, 0]\n",
      "[0, 0, -5, 0, 0, 0, 0, 0]\n",
      "[0, 0, 0, 0, 0, 0, 0, 0]\n",
      "[9, 0, 0, 0, 0, 0, 0, 0]\n",
      "-155\n"
     ]
    }
   ],
   "source": [
    "#01718219\n",
    "\n",
    "CID = [0,1,7,1,8,2,1,9]\n",
    "\n",
    "#produce vector B\n",
    "B = []\n",
    "for i in range(0,len(CID)):\n",
    "    row = []\n",
    "    row = row + [CID[i]]\n",
    "    B = B + [row]\n",
    "        \n",
    "for row in B:\n",
    "    print(row)\n",
    "\n",
    "\n",
    "#produce matrix A\n",
    "A = []\n",
    "for i in range(0,len(CID)):\n",
    "    row = []\n",
    "    for j in range(0,len(CID)):\n",
    "        if i == j or j == N-1-i:\n",
    "            row = row + [CID[i]]\n",
    "        else:\n",
    "            row = row + [0]\n",
    "    A = A + [row]\n",
    "for row in A:\n",
    "    print(row)\n",
    "    \n",
    "\n",
    "#subtraction of matrices:\n",
    "Z = []\n",
    "for i in range(0,len(A)):\n",
    "    row = []\n",
    "    for j in range(0,len(A[0])):\n",
    "        #row and column swapped for transpose\n",
    "        row = row + [A[i][j] - A[j][i]]\n",
    "    Z = Z + [row]\n",
    "\n",
    "for row in Z:\n",
    "    print(row)\n",
    "    \n",
    "#dot product\n",
    "sum = 0\n",
    "for i in range(0,len(Z)):\n",
    "    for j in range(0,len(B)):\n",
    "        sum = sum + Z[i][j]*B[j][0]\n",
    "\n",
    "#test\n",
    "print(sum)\n"
   ]
  },
  {
   "cell_type": "code",
   "execution_count": null,
   "metadata": {},
   "outputs": [],
   "source": []
  }
 ],
 "metadata": {
  "kernelspec": {
   "display_name": "Python 3",
   "language": "python",
   "name": "python3"
  },
  "language_info": {
   "codemirror_mode": {
    "name": "ipython",
    "version": 3
   },
   "file_extension": ".py",
   "mimetype": "text/x-python",
   "name": "python",
   "nbconvert_exporter": "python",
   "pygments_lexer": "ipython3",
   "version": "3.7.4"
  }
 },
 "nbformat": 4,
 "nbformat_minor": 2
}
