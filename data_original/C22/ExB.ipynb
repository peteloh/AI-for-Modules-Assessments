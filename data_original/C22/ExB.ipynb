{
 "cells": [
  {
   "cell_type": "code",
   "execution_count": null,
   "metadata": {},
   "outputs": [],
   "source": [
    "#CID:01701263\n",
    "\n",
    "#TaskB\n",
    "import math as mt\n",
    "import matplotlib.pyplot as pl\n",
    "import random as rn\n",
    "\n",
    "CID=[0,1,7,0,1,2,6,3]\n",
    "fth=CID[5-1]\n",
    "sth=CID[7-1]\n",
    "#print(fth,sth)\n",
    "\n",
    "s1=(fth/10)+0.9\n",
    "s2=(sth/10)+0.6\n",
    "\n",
    "r=0.01 #Plot the point\n",
    "Rtheta = range(0,360)\n",
    "for theta in Rtheta:\n",
    "    theta = theta * mt.pi / 180\n",
    "    pl.scatter(r*mt.cos(theta),r*mt.sin(theta)+18,s=1,c='r')\n",
    "#pl.axes().set_aspect('equal') \n",
    "\n",
    "r=20 #Plot the big circle\n",
    "Rtheta = range(0,360)\n",
    "for theta in Rtheta:\n",
    "    theta = theta * mt.pi / 180\n",
    "    pl.scatter(r*mt.cos(theta),r*mt.sin(theta),s=1,c='b')\n",
    "#pl.axes().set_aspect('equal')  \n",
    "\n",
    "r=10 #Plot the smaller circle\n",
    "Rtheta = range(0,360)\n",
    "for theta in Rtheta:\n",
    "    theta = theta * mt.pi / 180\n",
    "    pl.scatter(r*mt.cos(theta),r*mt.sin(theta),s=1,c='b')\n",
    "#pl.axes().set_aspect('equal') \n",
    "\n",
    "#Original point\n",
    "x=0\n",
    "y=18\n",
    "\n",
    "success=False\n",
    "while not success:\n",
    "    xp=x #keep updating the previous x\n",
    "    yp=y #keep updating the previous y\n",
    "    dx = rn.random()*(s2+s1)-s1\n",
    "    dy = rn.random()*(s2+s1)-s1\n",
    "    x+=dx\n",
    "    y+=dy\n",
    "    if (x**2+y**2)>20**2 or (x**2+y**2)<10**2: #if touch the boundary\n",
    "        x -= dx #move backwards\n",
    "        y -= dy #move backwards\n",
    "    if y<0:\n",
    "        success=True\n",
    "\n",
    "    pl.plot([xp,x],[yp,y],c='g')\n"
   ]
  },
  {
   "cell_type": "code",
   "execution_count": null,
   "metadata": {},
   "outputs": [],
   "source": []
  },
  {
   "cell_type": "code",
   "execution_count": null,
   "metadata": {},
   "outputs": [],
   "source": []
  },
  {
   "cell_type": "code",
   "execution_count": null,
   "metadata": {},
   "outputs": [],
   "source": []
  }
 ],
 "metadata": {
  "kernelspec": {
   "display_name": "Python 3",
   "language": "python",
   "name": "python3"
  },
  "language_info": {
   "codemirror_mode": {
    "name": "ipython",
    "version": 3
   },
   "file_extension": ".py",
   "mimetype": "text/x-python",
   "name": "python",
   "nbconvert_exporter": "python",
   "pygments_lexer": "ipython3",
   "version": "3.7.4"
  }
 },
 "nbformat": 4,
 "nbformat_minor": 4
}
