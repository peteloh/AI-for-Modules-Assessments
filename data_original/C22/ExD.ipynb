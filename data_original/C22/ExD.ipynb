{
 "cells": [
  {
   "cell_type": "code",
   "execution_count": 14,
   "metadata": {},
   "outputs": [
    {
     "name": "stdout",
     "output_type": "stream",
     "text": [
      "13.591409142084675\n"
     ]
    }
   ],
   "source": [
    "#CID:01701263\n",
    "\n",
    "#01720430\n",
    "#TaskD\n",
    "import math as mt\n",
    "\n",
    "CID=[0,1,7,0,1,2,6,3] #CID\n",
    "a=CID[6-1] \n",
    "\n",
    "def Sum(n):\n",
    "    n-1!=0\n",
    "    if n==1:\n",
    "        S=1\n",
    "    else:\n",
    "        S=n**a/(mt.factorial(n-1))+Sum(n-1) #Apply recursion\n",
    "    return S\n",
    "n=15\n",
    "S=Sum(n)\n",
    "print(S)\n"
   ]
  },
  {
   "cell_type": "code",
   "execution_count": null,
   "metadata": {},
   "outputs": [],
   "source": []
  },
  {
   "cell_type": "code",
   "execution_count": null,
   "metadata": {},
   "outputs": [],
   "source": []
  },
  {
   "cell_type": "code",
   "execution_count": null,
   "metadata": {},
   "outputs": [],
   "source": []
  }
 ],
 "metadata": {
  "kernelspec": {
   "display_name": "Python 3",
   "language": "python",
   "name": "python3"
  },
  "language_info": {
   "codemirror_mode": {
    "name": "ipython",
    "version": 3
   },
   "file_extension": ".py",
   "mimetype": "text/x-python",
   "name": "python",
   "nbconvert_exporter": "python",
   "pygments_lexer": "ipython3",
   "version": "3.7.4"
  }
 },
 "nbformat": 4,
 "nbformat_minor": 4
}
