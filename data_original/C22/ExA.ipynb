{
 "cells": [
  {
   "cell_type": "code",
   "execution_count": 28,
   "metadata": {},
   "outputs": [
    {
     "name": "stdout",
     "output_type": "stream",
     "text": [
      "[0, -6, 12, 0, -4, -21, 2, 0]\n"
     ]
    }
   ],
   "source": [
    "#CID:01701263\n",
    "\n",
    "#TaskA\n",
    "b=[0,1,7,0,1,2,6,3] #CID number\n",
    "\n",
    "N=8 #8*8 matrix\n",
    "A=[]\n",
    "for i in range(0,N):\n",
    "    row=[]\n",
    "    for j in range(0,N):\n",
    "        if i+j==7 or i==j:\n",
    "            row+=[b[i]]\n",
    "        else:\n",
    "            row+=[0]\n",
    "    A+=[row]\n",
    "#for i in A:\n",
    "    #print(i)\n",
    "\n",
    "def Transpose(A):\n",
    "    # find size of A\n",
    "    M = len(A) # number of rows\n",
    "    N = len(A[0]) # number of column\n",
    "    RM = range(0,M)\n",
    "    RN = range(0,N)\n",
    "    T = []\n",
    "    for i in RN:\n",
    "        row = []\n",
    "        for j in RM:\n",
    "            row += [A[j][i]]\n",
    "        T += [row]\n",
    "    return T\n",
    "At=Transpose(A)\n",
    "#print('')\n",
    "#for i in At:\n",
    "    #print(i)\n",
    "\n",
    "#d=A-At\n",
    "\n",
    "d=[]\n",
    "for i in range(0,N):\n",
    "    row=[]\n",
    "    for j in range(0,N):\n",
    "        row+=[A[i][j]-At[i][j]]\n",
    "    d+=[row]\n",
    "#print('')\n",
    "#for i in d:\n",
    "    #print(i)\n",
    "    \n",
    "def MatVec(A,b):\n",
    "    # this function computes the matrix vector multiplication between A and b\n",
    "    # c = A . b    \n",
    "\n",
    "    # check if dimensions are compatible\n",
    "    N = len(A) # number of rows\n",
    "    M = len(A[0]) # number of columns\n",
    "    # number of columns of A must equal the length of b\n",
    "    if M == len(b):\n",
    "        # dimensions are compatible: do the multiplication\n",
    "        c = []\n",
    "        RN = range(0,N)\n",
    "        RM = range(0,M)\n",
    "        for i in RN:\n",
    "            # compute c(i)\n",
    "            sum = 0\n",
    "            for j in RM:\n",
    "                sum += A[i][j] * b[j]\n",
    "            c += [sum]\n",
    "    else:\n",
    "        # dimensions are not compatible, return the value of zero\n",
    "        c = 0\n",
    "        \n",
    "    return c\n",
    "c=MatVec(d,b)\n",
    "print(c)\n",
    "\n"
   ]
  },
  {
   "cell_type": "code",
   "execution_count": null,
   "metadata": {},
   "outputs": [],
   "source": []
  },
  {
   "cell_type": "code",
   "execution_count": null,
   "metadata": {},
   "outputs": [],
   "source": []
  },
  {
   "cell_type": "code",
   "execution_count": null,
   "metadata": {},
   "outputs": [],
   "source": []
  }
 ],
 "metadata": {
  "kernelspec": {
   "display_name": "Python 3",
   "language": "python",
   "name": "python3"
  },
  "language_info": {
   "codemirror_mode": {
    "name": "ipython",
    "version": 3
   },
   "file_extension": ".py",
   "mimetype": "text/x-python",
   "name": "python",
   "nbconvert_exporter": "python",
   "pygments_lexer": "ipython3",
   "version": "3.7.4"
  }
 },
 "nbformat": 4,
 "nbformat_minor": 4
}
