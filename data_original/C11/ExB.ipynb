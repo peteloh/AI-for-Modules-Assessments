{
 "cells": [
  {
   "cell_type": "code",
   "execution_count": 9,
   "metadata": {},
   "outputs": [
    {
     "name": "stdout",
     "output_type": "stream",
     "text": [
      "19.286533215152435\n"
     ]
    },
    {
     "data": {
      "image/png": "[encoded data removed]",
      "text/plain": [
       "<Figure size 432x288 with 1 Axes>"
      ]
     },
     "metadata": {
      "needs_background": "light"
     },
     "output_type": "display_data"
    }
   ],
   "source": [
    "import random, matplotlib.pyplot as plt, math\n",
    "\n",
    "def move():\n",
    "    xPoints = []\n",
    "    yPoints = []\n",
    "    antX = 0\n",
    "    antY = 18\n",
    "    s1 = 2/10 + 0.9\n",
    "    s2 = 5/10 + 0.6\n",
    "    xPoints.append(antX)\n",
    "    yPoints.append(antY)\n",
    "    \n",
    "    while(not testGreen(antX, antY)):\n",
    "        prevX = antX\n",
    "        prevY = antY\n",
    "        dx = random.uniform(-s1, s2)\n",
    "        dy = random.uniform(-s1, s2)\n",
    "        antX = antX + dx\n",
    "        antY = antY + dy\n",
    "        if(not testPosition(antX, antY)):\n",
    "            antX = prevX\n",
    "            antY = prevY\n",
    "        xPoints.append(antX)\n",
    "        yPoints.append(antY)\n",
    "\n",
    "    print(antX)\n",
    "    \n",
    "    #using a graph\n",
    "    x = xPoints\n",
    "    y = yPoints\n",
    "    plt.axis([-20,20,-20,20])\n",
    "    plt.scatter(x,y)\n",
    "\n",
    "def testPosition(x, y):   # Tests if ant is in annulus\n",
    "    hyp = math.sqrt(x**2 + y**2)\n",
    "    return (10 <= hyp <= 20)\n",
    "  \n",
    "def testGreen(x, y):\n",
    "    return y < 0 and testPosition(x, y)\n",
    "\n",
    "move()               # Runs program\n",
    "\n",
    "    \n",
    "    "
   ]
  },
  {
   "cell_type": "code",
   "execution_count": null,
   "metadata": {},
   "outputs": [],
   "source": []
  }
 ],
 "metadata": {
  "kernelspec": {
   "display_name": "Python 3",
   "language": "python",
   "name": "python3"
  },
  "language_info": {
   "codemirror_mode": {
    "name": "ipython",
    "version": 3
   },
   "file_extension": ".py",
   "mimetype": "text/x-python",
   "name": "python",
   "nbconvert_exporter": "python",
   "pygments_lexer": "ipython3",
   "version": "3.7.4"
  }
 },
 "nbformat": 4,
 "nbformat_minor": 2
}
