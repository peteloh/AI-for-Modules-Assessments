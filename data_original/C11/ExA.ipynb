{
 "cells": [
  {
   "cell_type": "code",
   "execution_count": 18,
   "metadata": {},
   "outputs": [
    {
     "name": "stdout",
     "output_type": "stream",
     "text": [
      "[[0, 0, 0, 0, 0, 0, 0, 0], [0, 1, 0, 0, 0, 0, 1, 0], [0, 0, 7, 0, 0, 7, 0, 0], [0, 0, 0, 4, 4, 0, 0, 0], [0, 0, 0, 2, 2, 0, 0, 0], [0, 0, 0, 0, 0, 0, 0, 0], [0, 5, 0, 0, 0, 0, 5, 0], [7, 0, 0, 0, 0, 0, 0, 7]]\n",
      "[[0, 0, 0, 0, 0, 0, 0, 7], [0, 1, 0, 0, 0, 0, 5, 0], [0, 0, 7, 0, 0, 0, 0, 0], [0, 0, 0, 4, 2, 0, 0, 0], [0, 0, 0, 4, 2, 0, 0, 0], [0, 0, 7, 0, 0, 0, 0, 0], [0, 1, 0, 0, 0, 0, 5, 0], [0, 0, 0, 0, 0, 0, 0, 7]]\n",
      "[[0, 0, 0, 0, 0, 0, 0, -7], [0, 0, 0, 0, 0, 0, -4, 0], [0, 0, 0, 0, 0, 7, 0, 0], [0, 0, 0, 0, 2, 0, 0, 0], [0, 0, 0, -2, 0, 0, 0, 0], [0, 0, -7, 0, 0, 0, 0, 0], [0, 4, 0, 0, 0, 0, 0, 0], [7, 0, 0, 0, 0, 0, 0, 0]]\n",
      "[[0], [0], [0], [0], [0], [0], [0], [0]]\n"
     ]
    }
   ],
   "source": [
    "#TaskA my CID is 01742057\n",
    "MatA = [[0,0,0,0,0,0,0,0],[0,1,0,0,0,0,1,0],[0,0,7,0,0,7,0,0],[0,0,0,4,4,0,0,0],[0,0,0,2,2,0,0,0],[0,0,0,0,0,0,0,0],[0,5,0,0,0,0,5,0],[7,0,0,0,0,0,0,7]]\n",
    "MatB = [0,1,7,4,2,0,5,7]\n",
    "# now transpose the matrix A\n",
    "AT = []\n",
    "for i in range(0,8):\n",
    "    row = []\n",
    "    for k in range(0,8):\n",
    "        row.append(MatA[k][i])\n",
    "    AT.append(row)\n",
    "print(MatA)\n",
    "print(AT)\n",
    "\n",
    "#now do A-A^T\n",
    "bracketpart = []\n",
    "for i in range(0,8):\n",
    "    row1 = []\n",
    "    for k in range(0,8):\n",
    "        row1.append(MatA[i][k]-AT[i][k])\n",
    "    bracketpart.append(row1)\n",
    "print(bracketpart)\n",
    "\n",
    "#now multiply matrix\n",
    "CMasterlist = []\n",
    "for j in range(0,8):\n",
    "    for k in range(0,8):\n",
    "        Crow = []\n",
    "        for i in range(0,8):\n",
    "            aii = 0\n",
    "            aii = aii + (bracketpart[k][i]*MatB[i])\n",
    "        Crow.append(aii)\n",
    "    CMasterlist.append(Crow)\n",
    "    \n",
    "print(CMasterlist)"
   ]
  },
  {
   "cell_type": "code",
   "execution_count": 21,
   "metadata": {},
   "outputs": [
    {
     "name": "stdout",
     "output_type": "stream",
     "text": [
      "[]\n"
     ]
    }
   ],
   "source": []
  },
  {
   "cell_type": "code",
   "execution_count": null,
   "metadata": {},
   "outputs": [],
   "source": []
  }
 ],
 "metadata": {
  "kernelspec": {
   "display_name": "Python 3",
   "language": "python",
   "name": "python3"
  },
  "language_info": {
   "codemirror_mode": {
    "name": "ipython",
    "version": 3
   },
   "file_extension": ".py",
   "mimetype": "text/x-python",
   "name": "python",
   "nbconvert_exporter": "python",
   "pygments_lexer": "ipython3",
   "version": "3.7.4"
  }
 },
 "nbformat": 4,
 "nbformat_minor": 2
}
