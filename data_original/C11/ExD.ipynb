{
 "cells": [
  {
   "cell_type": "code",
   "execution_count": null,
   "metadata": {},
   "outputs": [],
   "source": [
    "#TaskB my CID 01742057\n",
    "import math\n",
    "a = 0\n",
    "def mySum(n,i):\n",
    "    if i == n:\n",
    "        return ((i**a))/math.factorial(i-1)\n",
    "    return ((i**a)/ math.factorial(i-1)) + mySum(n,i+1)\n",
    "print(mySum(15,1))\n",
    "    "
   ]
  }
 ],
 "metadata": {
  "kernelspec": {
   "display_name": "Python 3",
   "language": "python",
   "name": "python3"
  },
  "language_info": {
   "codemirror_mode": {
    "name": "ipython",
    "version": 3
   },
   "file_extension": ".py",
   "mimetype": "text/x-python",
   "name": "python",
   "nbconvert_exporter": "python",
   "pygments_lexer": "ipython3",
   "version": "3.7.4"
  }
 },
 "nbformat": 4,
 "nbformat_minor": 2
}
