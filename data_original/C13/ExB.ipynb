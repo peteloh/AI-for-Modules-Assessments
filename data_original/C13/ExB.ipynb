{
 "cells": [
  {
   "cell_type": "code",
   "execution_count": null,
   "metadata": {},
   "outputs": [],
   "source": [
    "#My CID number is 01700084\n",
    "\n",
    "import math\n",
    "import random\n",
    "import matplotlib.pyplot as pl\n",
    "\n",
    "CID = [0,1,7,0,0,0,8,4] #this is my CID number\n",
    "\n",
    "s1 = CID[4]/10 + 0.9 #defining s1\n",
    "s2 = CID[6]/10 + 0.6 #defining s2\n",
    "\n",
    "def Ant(a,b):\n",
    "    x =[]\n",
    "    y =[]\n",
    "    xp = 0 #initial position of x and y coordinate\n",
    "    yp = 18\n",
    "    Won = False\n",
    "    while (not Won) and yp >= 0:\n",
    "        if xp**2 + yp**2 >= 10**2 and xp**2 + yp**2 <= 20**2: #this is to ensure x and y stay within circle\n",
    "            for i in range(0,len(a)): #showing movement of ant\n",
    "                dx = a[i]\n",
    "                dy = b[i]\n",
    "                xp = xp + dx\n",
    "                yp = yp + dy\n",
    "                x = x + [xp]\n",
    "                y = y + [dy]\n",
    "        else:\n",
    "            xp = 0\n",
    "            yp = 0\n",
    "            x = x + [xp]\n",
    "            y = y + [yp]\n",
    "    if yp < 0: #setting the circumstances where winning is possible\n",
    "        Won = True\n",
    "    pl.scatter(x,y) #plotting trace of ant\n",
    "    pl.axis([-20,20,-20,20])\n",
    "\n",
    "a = []\n",
    "b =[]\n",
    "N = 50\n",
    "R = range(0,N)\n",
    "\n",
    "\n",
    "for i in R: \n",
    "    dx = random.uniform(-0.9,1.4)\n",
    "    a = a + [dx]\n",
    "\n",
    "for j in R:\n",
    "    dy = random.uniform(-0.9,1.4)\n",
    "    b = b + [dy]\n",
    "\n",
    "    #the above was to generate random movement for ant. To make game last longer, change value for n\n",
    "Ant(a,b)"
   ]
  },
  {
   "cell_type": "code",
   "execution_count": null,
   "metadata": {},
   "outputs": [],
   "source": []
  }
 ],
 "metadata": {
  "kernelspec": {
   "display_name": "Python 3",
   "language": "python",
   "name": "python3"
  },
  "language_info": {
   "codemirror_mode": {
    "name": "ipython",
    "version": 3
   },
   "file_extension": ".py",
   "mimetype": "text/x-python",
   "name": "python",
   "nbconvert_exporter": "python",
   "pygments_lexer": "ipython3",
   "version": "3.7.4"
  }
 },
 "nbformat": 4,
 "nbformat_minor": 2
}
