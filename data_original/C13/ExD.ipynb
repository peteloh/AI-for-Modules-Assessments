{
 "cells": [
  {
   "cell_type": "code",
   "execution_count": 7,
   "metadata": {},
   "outputs": [
    {
     "name": "stdout",
     "output_type": "stream",
     "text": [
      "Choose a value for N15\n",
      "2.71828182845823\n"
     ]
    }
   ],
   "source": [
    "#My CID number is 01700084\n",
    "\n",
    "import math #so I can use factorial function in math\n",
    "a = 0 #6th digit of my CID number\n",
    "\n",
    "N = int(input('Choose a value for N')) #Choosing value for N\n",
    "S = 0 #Setting initial value for S\n",
    "\n",
    "\n",
    "for i in range(1,N+1):\n",
    "    S = S + i**a/math.factorial(i-1)  #the equation I need to find\n",
    "\n",
    "print(S)   #Result"
   ]
  },
  {
   "cell_type": "code",
   "execution_count": null,
   "metadata": {},
   "outputs": [],
   "source": []
  },
  {
   "cell_type": "code",
   "execution_count": null,
   "metadata": {},
   "outputs": [],
   "source": []
  }
 ],
 "metadata": {
  "kernelspec": {
   "display_name": "Python 3",
   "language": "python",
   "name": "python3"
  },
  "language_info": {
   "codemirror_mode": {
    "name": "ipython",
    "version": 3
   },
   "file_extension": ".py",
   "mimetype": "text/x-python",
   "name": "python",
   "nbconvert_exporter": "python",
   "pygments_lexer": "ipython3",
   "version": "3.7.4"
  }
 },
 "nbformat": 4,
 "nbformat_minor": 2
}
