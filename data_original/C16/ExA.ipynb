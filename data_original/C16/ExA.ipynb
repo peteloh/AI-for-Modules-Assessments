{
 "cells": [
  {
   "cell_type": "code",
   "execution_count": null,
   "metadata": {},
   "outputs": [],
   "source": [
    "#CID: 01713956"
   ]
  },
  {
   "cell_type": "code",
   "execution_count": 73,
   "metadata": {},
   "outputs": [
    {
     "name": "stdout",
     "output_type": "stream",
     "text": [
      "Size of Matrix A = 8\n",
      "Matrix A is\n",
      "[0, 0, 0, 0, 0, 0, 0, 0, 0]\n",
      "[0, 1, 0, 0, 0, 0, 0, 0, 0]\n",
      "[0, 0, 7, 0, 0, 0, 0, 0, 0]\n",
      "[0, 0, 0, 1, 0, 0, 0, 0, 0]\n",
      "[0, 0, 0, 0, 3, 0, 0, 0, 0]\n",
      "[0, 0, 0, 0, 0, 9, 0, 0, 0]\n",
      "[0, 0, 0, 0, 0, 0, 5, 0, 0]\n",
      "[0, 0, 0, 0, 0, 0, 0, 6]\n",
      "Matrix A is\n",
      "[0, 0, 0, 0, 0, 0, 0, 6]\n",
      "[0, 1, 0, 0, 0, 0, 0, 0]\n",
      "[0, 0, 7, 0, 0, 0, 0, 0]\n",
      "[0, 0, 0, 1, 0, 0, 0, 0]\n",
      "[0, 0, 0, 0, 3, 0, 0, 0]\n",
      "[0, 0, 0, 0, 0, 9, 0, 0]\n",
      "[0, 0, 0, 0, 0, 0, 5, 0]\n",
      "[0, 0, 0, 0, 0, 0, 0, 6]\n",
      "Matrix AT is\n",
      "[0, 0, 0, 0, 0, 0, 0, 6]\n",
      "[0, 0, 0, 0, 0, 0, 5, 0]\n",
      "[0, 0, 0, 0, 0, 9, 0, 0]\n",
      "[0, 0, 0, 0, 3, 0, 0, 0]\n",
      "[0, 0, 0, 1, 0, 0, 0, 0]\n",
      "[0, 0, 7, 0, 0, 0, 0, 0]\n",
      "[0, 1, 0, 0, 0, 0, 0, 0]\n",
      "[0, 0, 0, 0, 0, 0, 0, 0]\n",
      "Matrix b is\n",
      "[0]\n",
      "[1]\n",
      "[7]\n",
      "[1]\n",
      "[3]\n",
      "[9]\n",
      "[5]\n",
      "[6]\n"
     ]
    },
    {
     "ename": "TypeError",
     "evalue": "unsupported operand type(s) for -: 'list' and 'list'",
     "output_type": "error",
     "traceback": [
      "\u001b[0;31m---------------------------------------------------------------------------\u001b[0m",
      "\u001b[0;31mTypeError\u001b[0m                                 Traceback (most recent call last)",
      "\u001b[0;32m<ipython-input-73-6092302fdf4f>\u001b[0m in \u001b[0;36m<module>\u001b[0;34m\u001b[0m\n\u001b[1;32m     54\u001b[0m \u001b[0;34m\u001b[0m\u001b[0m\n\u001b[1;32m     55\u001b[0m \u001b[0;31m#Call the function array to carry out the maths\u001b[0m\u001b[0;34m\u001b[0m\u001b[0;34m\u001b[0m\u001b[0;34m\u001b[0m\u001b[0m\n\u001b[0;32m---> 56\u001b[0;31m \u001b[0marray\u001b[0m\u001b[0;34m(\u001b[0m\u001b[0mA\u001b[0m\u001b[0;34m,\u001b[0m\u001b[0mAT\u001b[0m\u001b[0;34m,\u001b[0m\u001b[0mb\u001b[0m\u001b[0;34m)\u001b[0m\u001b[0;34m\u001b[0m\u001b[0;34m\u001b[0m\u001b[0m\n\u001b[0m",
      "\u001b[0;32m<ipython-input-73-6092302fdf4f>\u001b[0m in \u001b[0;36marray\u001b[0;34m(A, AT, b)\u001b[0m\n\u001b[1;32m      1\u001b[0m \u001b[0;32mdef\u001b[0m \u001b[0marray\u001b[0m\u001b[0;34m(\u001b[0m\u001b[0mA\u001b[0m\u001b[0;34m,\u001b[0m\u001b[0mAT\u001b[0m\u001b[0;34m,\u001b[0m\u001b[0mb\u001b[0m\u001b[0;34m)\u001b[0m\u001b[0;34m:\u001b[0m\u001b[0;34m\u001b[0m\u001b[0;34m\u001b[0m\u001b[0m\n\u001b[1;32m      2\u001b[0m     \u001b[0;32mfor\u001b[0m \u001b[0mi\u001b[0m \u001b[0;32min\u001b[0m \u001b[0mrange\u001b[0m\u001b[0;34m(\u001b[0m\u001b[0;36m0\u001b[0m\u001b[0;34m,\u001b[0m\u001b[0mN\u001b[0m\u001b[0;34m)\u001b[0m\u001b[0;34m:\u001b[0m\u001b[0;34m\u001b[0m\u001b[0;34m\u001b[0m\u001b[0m\n\u001b[0;32m----> 3\u001b[0;31m         \u001b[0mc\u001b[0m \u001b[0;34m=\u001b[0m \u001b[0;34m(\u001b[0m\u001b[0mA\u001b[0m\u001b[0;34m[\u001b[0m\u001b[0mi\u001b[0m\u001b[0;34m]\u001b[0m\u001b[0;34m-\u001b[0m\u001b[0mAT\u001b[0m\u001b[0;34m[\u001b[0m\u001b[0mi\u001b[0m\u001b[0;34m]\u001b[0m\u001b[0;34m)\u001b[0m\u001b[0;34m*\u001b[0m\u001b[0mb\u001b[0m\u001b[0;34m[\u001b[0m\u001b[0mi\u001b[0m\u001b[0;34m]\u001b[0m\u001b[0;34m\u001b[0m\u001b[0;34m\u001b[0m\u001b[0m\n\u001b[0m\u001b[1;32m      4\u001b[0m     \u001b[0;32mreturn\u001b[0m \u001b[0mc\u001b[0m\u001b[0;34m\u001b[0m\u001b[0;34m\u001b[0m\u001b[0m\n\u001b[1;32m      5\u001b[0m \u001b[0;34m\u001b[0m\u001b[0m\n",
      "\u001b[0;31mTypeError\u001b[0m: unsupported operand type(s) for -: 'list' and 'list'"
     ]
    }
   ],
   "source": [
    "#Function to carry out maths\n",
    "def array(A,AT,b):\n",
    "    for i in range(0,N):\n",
    "        c = (A[i]-AT[i])*b[i]\n",
    "    return c\n",
    "\n",
    "#In main script form Matrix A, AT, b   \n",
    "#For A (attempt 1)\n",
    "N = input('Size of Matrix A = ')\n",
    "N = int(N)\n",
    "A = []\n",
    "for m in range(0, N):\n",
    "    matrix = []\n",
    "    for n in range(0,N):\n",
    "        if n == m ==0:\n",
    "            matrix += [0]\n",
    "        if n == m ==1:\n",
    "            matrix += [1]\n",
    "        if n == m ==2:\n",
    "            matrix += [7]\n",
    "        if n == m ==3:\n",
    "            matrix += [1]\n",
    "        if n == m ==4:\n",
    "            matrix += [3]\n",
    "        if n == m ==5:\n",
    "            matrix += [9]\n",
    "        if n == m ==6:\n",
    "            matrix += [5]\n",
    "        if n == m ==7:\n",
    "            matrix += [6]\n",
    "        else:\n",
    "            matrix += [0]\n",
    "    A += [matrix]\n",
    "print('Matrix A is')\n",
    "for matrix in A:\n",
    "    print(matrix) \n",
    "\n",
    "#For A (attempt 2)\n",
    "A = [[0,0,0,0,0,0,0,6],[0,1,0,0,0,0,0,0],[0,0,7,0,0,0,0,0],[0,0,0,1,0,0,0,0],[0,0,0,0,3,0,0,0],[0,0,0,0,0,9,0,0],[0,0,0,0,0,0,5,0],[0,0,0,0,0,0,0,6]]\n",
    "print('Matrix A is')\n",
    "for y in A:\n",
    "    print(y)\n",
    "\n",
    "#For AT\n",
    "AT = [[0,0,0,0,0,0,0,6],[0,0,0,0,0,0,5,0],[0,0,0,0,0,9,0,0],[0,0,0,0,3,0,0,0],[0,0,0,1,0,0,0,0],[0,0,7,0,0,0,0,0],[0,1,0,0,0,0,0,0],[0,0,0,0,0,0,0,0]]\n",
    "print('Matrix AT is')\n",
    "for x in AT:\n",
    "    print(x)\n",
    "\n",
    "#For b\n",
    "b = [[0],[1],[7],[1],[3],[9],[5],[6]]\n",
    "print('Matrix b is')\n",
    "for r in b:\n",
    "    print(r)\n",
    "\n",
    "#Call the function array to carry out the maths\n",
    "array(A,AT,b)"
   ]
  },
  {
   "cell_type": "code",
   "execution_count": null,
   "metadata": {},
   "outputs": [],
   "source": []
  }
 ],
 "metadata": {
  "kernelspec": {
   "display_name": "Python 3",
   "language": "python",
   "name": "python3"
  },
  "language_info": {
   "codemirror_mode": {
    "name": "ipython",
    "version": 3
   },
   "file_extension": ".py",
   "mimetype": "text/x-python",
   "name": "python",
   "nbconvert_exporter": "python",
   "pygments_lexer": "ipython3",
   "version": "3.7.4"
  }
 },
 "nbformat": 4,
 "nbformat_minor": 2
}
