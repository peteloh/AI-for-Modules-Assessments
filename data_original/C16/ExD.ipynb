{
 "cells": [
  {
   "cell_type": "code",
   "execution_count": null,
   "metadata": {},
   "outputs": [],
   "source": [
    "#CID: 01713956"
   ]
  },
  {
   "cell_type": "code",
   "execution_count": 18,
   "metadata": {},
   "outputs": [
    {
     "name": "stdout",
     "output_type": "stream",
     "text": [
      "Gimme me a number: 15\n",
      "87178291200\n",
      "0.44097399531272297\n"
     ]
    }
   ],
   "source": [
    "#Write a function that carries out the sum\n",
    "def SUM(N):\n",
    "    n = input('Gimme me a number: ')\n",
    "    n = int(n)\n",
    "\n",
    "    #Factorials start from 1\n",
    "    f = 1\n",
    "\n",
    "    # set the range of the counter, from n to 1 in decremental steps of 1\n",
    "    for i in range(n-1,0,-1):\n",
    "    # contribution of the current term to the overall product\n",
    "        f = f * i\n",
    "        f = int(f)\n",
    "    print(f)\n",
    "\n",
    "    if N == 1:\n",
    "        print('impossible')\n",
    "    else:\n",
    "        S = N**9/f\n",
    "    return S\n",
    "\n",
    "N = 15\n",
    "a = SUM(N)\n",
    "print(a)"
   ]
  },
  {
   "cell_type": "code",
   "execution_count": null,
   "metadata": {},
   "outputs": [],
   "source": []
  }
 ],
 "metadata": {
  "kernelspec": {
   "display_name": "Python 3",
   "language": "python",
   "name": "python3"
  },
  "language_info": {
   "codemirror_mode": {
    "name": "ipython",
    "version": 3
   },
   "file_extension": ".py",
   "mimetype": "text/x-python",
   "name": "python",
   "nbconvert_exporter": "python",
   "pygments_lexer": "ipython3",
   "version": "3.7.4"
  }
 },
 "nbformat": 4,
 "nbformat_minor": 2
}
