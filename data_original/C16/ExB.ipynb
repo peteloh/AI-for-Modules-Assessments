{
 "cells": [
  {
   "cell_type": "code",
   "execution_count": null,
   "metadata": {},
   "outputs": [],
   "source": [
    "#CID: 01713956"
   ]
  },
  {
   "cell_type": "code",
   "execution_count": 42,
   "metadata": {},
   "outputs": [
    {
     "name": "stdout",
     "output_type": "stream",
     "text": [
      "S1 is 1.2\n",
      "S2 is 1.1\n",
      "dx is 0.04298344363953688\n",
      "dy is 0.9996659635136702\n"
     ]
    },
    {
     "data": {
      "text/plain": [
       "[-10, 10, -20, 20]"
      ]
     },
     "execution_count": 42,
     "metadata": {},
     "output_type": "execute_result"
    },
    {
     "data": {
      "image/png": "[encoded data removed]",
      "text/plain": [
       "<Figure size 432x288 with 1 Axes>"
      ]
     },
     "metadata": {
      "needs_background": "light"
     },
     "output_type": "display_data"
    }
   ],
   "source": [
    "#Import the libraries\n",
    "import math as mt\n",
    "import matplotlib.pyplot as pl\n",
    "import random\n",
    "\n",
    "#Calculate s1 and s2\n",
    "s1 = 3/10 + 0.9\n",
    "print('S1 is', s1)\n",
    "\n",
    "#Assign negative value of s1 to another variable\n",
    "s11 = -s1\n",
    "\n",
    "s2 = 5/10 +0.6\n",
    "print('S2 is', s2)\n",
    "\n",
    "#Produce 2 random numbers (shown bewteen s11 and s2)\n",
    "def range(s11,s2):\n",
    "    return random.random() * (s2 + s1) - s1\n",
    "\n",
    "dx = range(s11,s2)\n",
    "print('dx is', dx)\n",
    "\n",
    "dy = range(s11,s2)\n",
    "print('dy is', dy)\n",
    "\n",
    "#Create a grid to show the doughnut\n",
    "pl.axis([-10,10,-20,20])\n",
    "\n",
    "#Set up starting point of ant\n",
    "xp = 0\n",
    "yp =18\n",
    "\n",
    "#Work out path of ant by addidng dx and dy to starting point of x and y respectively\n",
    "\n"
   ]
  },
  {
   "cell_type": "code",
   "execution_count": null,
   "metadata": {},
   "outputs": [],
   "source": []
  }
 ],
 "metadata": {
  "kernelspec": {
   "display_name": "Python 3",
   "language": "python",
   "name": "python3"
  },
  "language_info": {
   "codemirror_mode": {
    "name": "ipython",
    "version": 3
   },
   "file_extension": ".py",
   "mimetype": "text/x-python",
   "name": "python",
   "nbconvert_exporter": "python",
   "pygments_lexer": "ipython3",
   "version": "3.7.4"
  }
 },
 "nbformat": 4,
 "nbformat_minor": 2
}
