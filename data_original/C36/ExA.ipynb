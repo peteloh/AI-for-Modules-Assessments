{
 "cells": [
  {
   "cell_type": "code",
   "execution_count": 24,
   "metadata": {},
   "outputs": [],
   "source": [
    "# CID: 01759109\n",
    "# TASK A"
   ]
  },
  {
   "cell_type": "code",
   "execution_count": 25,
   "metadata": {},
   "outputs": [
    {
     "name": "stdout",
     "output_type": "stream",
     "text": [
      "['0', 0, 0, 0, 0, 0, 0, '0']\n",
      "[0, '1', 0, 0, 0, 0, '1', 0]\n",
      "[0, 0, '7', 0, 0, '7', 0, 0]\n",
      "[0, 0, 0, '5', '5', 0, 0, 0]\n",
      "[0, 0, 0, '9', '9', 0, 0, 0]\n",
      "[0, 0, '1', 0, 0, '1', 0, 0]\n",
      "[0, '0', 0, 0, 0, 0, '0', 0]\n",
      "['9', 0, 0, 0, 0, 0, 0, '9']\n"
     ]
    }
   ],
   "source": [
    "# Set CID number as a string\n",
    "CID = '01759109'\n",
    "\n",
    "# Open Matrix A\n",
    "A = []\n",
    "# Set all indices as zero\n",
    "for i in range(0,8):\n",
    "    Row = [] #set the rows\n",
    "    for j in range(0,8):\n",
    "        Row = Row + [0] #add columns into rows\n",
    "    A = A + [Row]\n",
    "\n",
    "# Change indices in both diagonals into CID numbers\n",
    "for i in range(0,8):\n",
    "    A[i][i] = CID[i]\n",
    "    A[i][7-i] = CID[i]\n",
    "    \n",
    "for R in A:\n",
    "    print(R)"
   ]
  },
  {
   "cell_type": "code",
   "execution_count": 26,
   "metadata": {},
   "outputs": [
    {
     "name": "stdout",
     "output_type": "stream",
     "text": [
      "['0', 0, 0, 0, 0, 0, 0, '9']\n",
      "[0, '1', 0, 0, 0, 0, '0', 0]\n",
      "[0, 0, '7', 0, 0, '1', 0, 0]\n",
      "[0, 0, 0, '5', '9', 0, 0, 0]\n",
      "[0, 0, 0, '5', '9', 0, 0, 0]\n",
      "[0, 0, '7', 0, 0, '1', 0, 0]\n",
      "[0, '1', 0, 0, 0, 0, '0', 0]\n",
      "['0', 0, 0, 0, 0, 0, 0, '9']\n"
     ]
    }
   ],
   "source": [
    "# Open Matrix AT (transpose of A)\n",
    "AT = []\n",
    "# Transpose Matrix A\n",
    "for i in range(0,8):\n",
    "    RowT = [] #set the rows\n",
    "    for j in range(0,8):\n",
    "        RowT = RowT + [A[j][i]] #add columns into rows\n",
    "    AT = AT + [RowT]\n",
    "\n",
    "for R in AT:\n",
    "    print(R)"
   ]
  },
  {
   "cell_type": "code",
   "execution_count": 27,
   "metadata": {},
   "outputs": [
    {
     "name": "stdout",
     "output_type": "stream",
     "text": [
      "[0]\n",
      "[1]\n",
      "[7]\n",
      "[5]\n",
      "[9]\n",
      "[1]\n",
      "[0]\n",
      "[9]\n"
     ]
    }
   ],
   "source": [
    "# Define Matrix b\n",
    "b = [[0],[1],[7],[5],[9],[1],[0],[9]]\n",
    "\n",
    "for R in b:\n",
    "    print(R)"
   ]
  },
  {
   "cell_type": "code",
   "execution_count": 28,
   "metadata": {},
   "outputs": [
    {
     "name": "stdout",
     "output_type": "stream",
     "text": [
      "[0, 0, 0, 0, 0, 0, 0, -9]\n",
      "[0, 0, 0, 0, 0, 0, 1, 0]\n",
      "[0, 0, 0, 0, 0, 6, 0, 0]\n",
      "[0, 0, 0, 0, -4, 0, 0, 0]\n",
      "[0, 0, 0, 4, 0, 0, 0, 0]\n",
      "[0, 0, -6, 0, 0, 0, 0, 0]\n",
      "[0, -1, 0, 0, 0, 0, 0, 0]\n",
      "[9, 0, 0, 0, 0, 0, 0, 0]\n"
     ]
    }
   ],
   "source": [
    "# Open Matrix M\n",
    "M = []\n",
    "# Define Matrix M as (A-AT)\n",
    "for i in range(0,8):\n",
    "    RowM = [] #set the rows\n",
    "    for j in range(0,8):\n",
    "        RowM = RowM + [int(A[i][j])-int(AT[i][j])] #add columns into rows\n",
    "    M = M + [RowM]\n",
    "    \n",
    "for R in M:\n",
    "    print(R)"
   ]
  },
  {
   "cell_type": "code",
   "execution_count": 29,
   "metadata": {},
   "outputs": [
    {
     "name": "stdout",
     "output_type": "stream",
     "text": [
      "[-81]\n",
      "[0]\n",
      "[6]\n",
      "[-36]\n",
      "[20]\n",
      "[-42]\n",
      "[-1]\n",
      "[0]\n"
     ]
    }
   ],
   "source": [
    "# Open Matrix C\n",
    "C = []\n",
    "# Define Matrix C as (M*b)\n",
    "for i in range(0,8):\n",
    "    Ci = 0\n",
    "    for j in range(0,8):\n",
    "        Ci = Ci + (int(M[i][j])*int(b[j][0])) #multiplication\n",
    "    C = C + [[Ci]]\n",
    "    \n",
    "for R in C:\n",
    "    print(R)"
   ]
  }
 ],
 "metadata": {
  "kernelspec": {
   "display_name": "Python 3",
   "language": "python",
   "name": "python3"
  },
  "language_info": {
   "codemirror_mode": {
    "name": "ipython",
    "version": 3
   },
   "file_extension": ".py",
   "mimetype": "text/x-python",
   "name": "python",
   "nbconvert_exporter": "python",
   "pygments_lexer": "ipython3",
   "version": "3.7.4"
  }
 },
 "nbformat": 4,
 "nbformat_minor": 4
}
