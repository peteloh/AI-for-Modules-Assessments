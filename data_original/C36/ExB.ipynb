{
 "cells": [
  {
   "cell_type": "code",
   "execution_count": null,
   "metadata": {},
   "outputs": [],
   "source": [
    "# CID: 01759109\n",
    "# TASK B"
   ]
  },
  {
   "cell_type": "code",
   "execution_count": 7,
   "metadata": {},
   "outputs": [
    {
     "name": "stdout",
     "output_type": "stream",
     "text": [
      "1.8\n",
      "0.6\n"
     ]
    }
   ],
   "source": [
    "# 5th number is 9\n",
    "S1 = 9/10 + 0.9\n",
    "# 7th number is 0\n",
    "S2 = 0/10 + 0.6\n",
    "\n",
    "print(S1)\n",
    "print(S2)\n",
    "\n",
    "# Range of dy and dx is from -1.8 to 0.6"
   ]
  },
  {
   "cell_type": "code",
   "execution_count": 6,
   "metadata": {},
   "outputs": [
    {
     "data": {
      "image/png": "[encoded data removed]",
      "text/plain": [
       "<Figure size 432x288 with 1 Axes>"
      ]
     },
     "metadata": {
      "needs_background": "light"
     },
     "output_type": "display_data"
    }
   ],
   "source": [
    "# Import functions needed\n",
    "import matplotlib.pyplot as plot\n",
    "import random\n",
    "\n",
    "# Plot two circles\n",
    "circle1 = plot.Circle((0,0),20,color='blue',fill=False)\n",
    "circle2 = plot.Circle((0,0),10,color='blue',fill=False)\n",
    "plot.gcf().gca().add_artist(circle1)\n",
    "plot.gcf().gca().add_artist(circle2)\n",
    "plot.axis([-25,25,-25,25])\n",
    "plot.gca().set_aspect('equal')\n",
    "\n",
    "# Move the ant\n",
    "X = []\n",
    "Y = []\n",
    "Xstart = 0\n",
    "Ystart = 18\n",
    "Exit = False\n",
    "while (Exit == False):\n",
    "    X = X + [Xstart]\n",
    "    Y = Y + [Ystart]\n",
    "    dx = random.random()*2.4-1.8 #range is from -1.8 to 0.6\n",
    "    dy = random.random()*2.4-1.8 #range is from -1.8 to 0.6\n",
    "    Xstart = Xstart + dx\n",
    "    Ystart = Ystart + dy\n",
    "    # Bounce back if hits or goes beyond the wall \n",
    "    if (Xstart**2+Ystart**2)>=20**2 or (Xstart**2+Ystart**2)<=10**2:\n",
    "        Xstart = Xstart - dx\n",
    "        Ystart = Ystart - dy\n",
    "    if (Ystart <= 0):\n",
    "        Exit = True\n",
    "    plot.plot(X,Y,c='red')\n",
    "\n",
    "\n"
   ]
  },
  {
   "cell_type": "code",
   "execution_count": null,
   "metadata": {},
   "outputs": [],
   "source": []
  }
 ],
 "metadata": {
  "kernelspec": {
   "display_name": "Python 3",
   "language": "python",
   "name": "python3"
  },
  "language_info": {
   "codemirror_mode": {
    "name": "ipython",
    "version": 3
   },
   "file_extension": ".py",
   "mimetype": "text/x-python",
   "name": "python",
   "nbconvert_exporter": "python",
   "pygments_lexer": "ipython3",
   "version": "3.7.4"
  }
 },
 "nbformat": 4,
 "nbformat_minor": 4
}
