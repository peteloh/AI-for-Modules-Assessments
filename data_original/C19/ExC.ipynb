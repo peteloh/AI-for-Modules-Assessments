{
 "cells": [
  {
   "cell_type": "code",
   "execution_count": 21,
   "metadata": {},
   "outputs": [
    {
     "name": "stdout",
     "output_type": "stream",
     "text": [
      "total number of infections is 273319\n"
     ]
    }
   ],
   "source": [
    "#01730474\n",
    "f = open('CV19.txt','r')\n",
    "CV = f.readlines()\n",
    "f.close()\n",
    "\n",
    "N = 13\n",
    "RN = range(0,N)\n",
    "# organise data in a list of tuples\n",
    "covid = [] \n",
    "c = 0\n",
    "for i in RN:\n",
    "    covid += [( CV[c].rstrip() , CV[c+1].rstrip() , int(CV[c+2].rstrip()), CV[c+3].rstrip() , int(CV[c+4].rstrip()),CV[c+5].rstrip() , int(CV[c+6].rstrip()),CV[c+7].rstrip() , int(CV[c+8].rstrip()),CV[c+9].rstrip() , int(CV[c+10].rstrip()),CV[c+11].rstrip() , int(CV[c+12].rstrip()),CV[c+13].rstrip() , int(CV[c+14].rstrip()) )] #seperate each week into its own tuple\n",
    "    c += 15\n",
    "\n",
    "sum=0\n",
    "for item in covid:\n",
    "    sum = sum + item[2]+ item[4]+ item[6]+ item[8]+ item[10]+ item[12]+ item[14] #sum the infections\n",
    "print(\"total number of infections is \" + str(sum))\n",
    "\n"
   ]
  },
  {
   "cell_type": "code",
   "execution_count": null,
   "metadata": {},
   "outputs": [],
   "source": []
  }
 ],
 "metadata": {
  "kernelspec": {
   "display_name": "Python 3",
   "language": "python",
   "name": "python3"
  },
  "language_info": {
   "codemirror_mode": {
    "name": "ipython",
    "version": 3
   },
   "file_extension": ".py",
   "mimetype": "text/x-python",
   "name": "python",
   "nbconvert_exporter": "python",
   "pygments_lexer": "ipython3",
   "version": "3.7.4"
  }
 },
 "nbformat": 4,
 "nbformat_minor": 2
}
