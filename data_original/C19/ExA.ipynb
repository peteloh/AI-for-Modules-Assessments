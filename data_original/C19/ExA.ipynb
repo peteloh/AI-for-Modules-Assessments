{
 "cells": [
  {
   "cell_type": "code",
   "execution_count": 36,
   "metadata": {},
   "outputs": [
    {
     "name": "stdout",
     "output_type": "stream",
     "text": [
      "[0, 0, 0, 0, 0, 0, 0, 0]\n",
      "[0, 1, 0, 0, 0, 0, 1, 0]\n",
      "[0, 0, 7, 0, 0, 7, 0, 0]\n",
      "[0, 0, 0, 3, 3, 0, 0, 0]\n",
      "[0, 0, 0, 0, 0, 0, 0, 0]\n",
      "[0, 0, 4, 0, 0, 4, 0, 0]\n",
      "[0, 7, 0, 0, 0, 0, 7, 0]\n",
      "[4, 0, 0, 0, 0, 0, 0, 4]\n",
      "[0, 0, 0, 0, 0, 0, 0, 4]\n",
      "[0, 1, 0, 0, 0, 0, 7, 0]\n",
      "[0, 0, 7, 0, 0, 4, 0, 0]\n",
      "[0, 0, 0, 3, 0, 0, 0, 0]\n",
      "[0, 0, 0, 3, 0, 0, 0, 0]\n",
      "[0, 0, 7, 0, 0, 4, 0, 0]\n",
      "[0, 1, 0, 0, 0, 0, 7, 0]\n",
      "[0, 0, 0, 0, 0, 0, 0, 4]\n",
      "[-16, -42, 12, 0, -9, -21, 6, 0]\n",
      "[-16, -42, 12, 0, -9, -21, 6, 0]\n",
      "[-16, -42, 12, 0, -9, -21, 6, 0]\n",
      "[-16, -42, 12, 0, -9, -21, 6, 0]\n",
      "[-16, -42, 12, 0, -9, -21, 6, 0]\n",
      "[-16, -42, 12, 0, -9, -21, 6, 0]\n",
      "[-16, -42, 12, 0, -9, -21, 6, 0]\n",
      "[-16, -42, 12, 0, -9, -21, 6, 0]\n"
     ]
    }
   ],
   "source": [
    "#01730474\n",
    "def Transpose(A):\n",
    "    # find size of A\n",
    "    M = len(A) # number of rows\n",
    "    N = len(A[0]) # number of column\n",
    "    RM = range(0,M) #traverse rows\n",
    "    RN = range(0,N) #traverse columns\n",
    "    T = []\n",
    "    for i in RN:\n",
    "        row = []\n",
    "        for j in RM:\n",
    "            row += [A[j][i]]\n",
    "        T += [row]\n",
    "    return T\n",
    "\n",
    "def MatMat(A,T,b):\n",
    "    # this function computes the matrix vector multiplication between (A-T) and b\n",
    "    # c = (A-T) . b    \n",
    "\n",
    "    # check if dimensions are compatible\n",
    "    N = len(A) # number of rows\n",
    "    M = len(A[0]) # number of columns\n",
    "    # number of columns of A must equal the length of b\n",
    "    if M == len(b):\n",
    "        # dimensions are compatible: do the multiplication\n",
    "        c = []\n",
    "        RN = range(0,N)\n",
    "        RM = range(0,M)\n",
    "        for i in RN:\n",
    "            # compute c(i)\n",
    "            sum = 0\n",
    "            for j in RM:\n",
    "                sum += (A[i][j] - T[i][j]) * b[j]\n",
    "            c += [sum]\n",
    "        return c\n",
    "\n",
    "N = 8\n",
    "b = [0,1,7,3,0,4,7,4]\n",
    "RN = range(0,N)\n",
    "A = [] # initialise the matrix as a list\n",
    "for i in RN:\n",
    "    # form i-th row\n",
    "    row = [] # initialise i-th row as a list\n",
    "    for j in RN:\n",
    "        # add j-th column into i-th row\n",
    "        if j == i or j == N-i-1:\n",
    "            row += [b[i]]\n",
    "        else:\n",
    "            row += [0]\n",
    "    # add row i-th to the matrix A\n",
    "    A += [row]\n",
    "\n",
    "for row in A:\n",
    "    print(row)\n",
    "T = Transpose(A)\n",
    "for row in T:\n",
    "    print(row)\n",
    "c = MatMat(A,T,b)\n",
    "for row in c:\n",
    "    print(c)"
   ]
  },
  {
   "cell_type": "code",
   "execution_count": 40,
   "metadata": {},
   "outputs": [
    {
     "name": "stdout",
     "output_type": "stream",
     "text": [
      "[[0, 0, 0, 0, 0, 0, 0, 0]]\n"
     ]
    }
   ],
   "source": []
  },
  {
   "cell_type": "code",
   "execution_count": null,
   "metadata": {},
   "outputs": [],
   "source": []
  }
 ],
 "metadata": {
  "kernelspec": {
   "display_name": "Python 3",
   "language": "python",
   "name": "python3"
  },
  "language_info": {
   "codemirror_mode": {
    "name": "ipython",
    "version": 3
   },
   "file_extension": ".py",
   "mimetype": "text/x-python",
   "name": "python",
   "nbconvert_exporter": "python",
   "pygments_lexer": "ipython3",
   "version": "3.7.4"
  }
 },
 "nbformat": 4,
 "nbformat_minor": 2
}
