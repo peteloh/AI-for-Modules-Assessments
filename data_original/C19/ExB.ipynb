{
 "cells": [
  {
   "cell_type": "code",
   "execution_count": 8,
   "metadata": {},
   "outputs": [
    {
     "name": "stderr",
     "output_type": "stream",
     "text": [
      "C:\\Users\\james\\Anaconda3\\lib\\site-packages\\ipykernel_launcher.py:12: MatplotlibDeprecationWarning: Adding an axes using the same arguments as a previous axes currently reuses the earlier instance.  In a future version, a new instance will always be created and returned.  Meanwhile, this warning can be suppressed, and the future behavior ensured, by passing a unique label to each axes instance.\n",
      "  if sys.path[0] == '':\n"
     ]
    },
    {
     "data": {
      "image/png": "[encoded data removed]",
      "text/plain": [
       "<Figure size 432x288 with 1 Axes>"
      ]
     },
     "metadata": {
      "needs_background": "light"
     },
     "output_type": "display_data"
    }
   ],
   "source": [
    "#01730474\n",
    "import math as mt\n",
    "import random as rd\n",
    "import matplotlib.pyplot as pl\n",
    "\n",
    "# plot the bounding circles\n",
    "Rtheta = range(0,360)\n",
    "for theta in Rtheta:\n",
    "    thetar = theta * mt.pi / 180\n",
    "    pl.scatter(20*mt.cos(thetar),20*mt.sin(thetar),s=3,c='b')\n",
    "    pl.scatter(10*mt.cos(thetar),10*mt.sin(thetar),s=3,c='b')\n",
    "pl.axes().set_aspect('equal')   \n",
    "# generate point (0,18)\n",
    "x = 0\n",
    "y = 18\n",
    "pl.scatter(x,y)\n",
    "\n",
    "Rn = range(1,N)\n",
    "for i in Rn:\n",
    "    # store the current position as previous one\n",
    "    # this is needed as we want to plot the move from a to b as a line\n",
    "    xp = x\n",
    "    yp = y\n",
    "    # compute the size of the move, dx, dy, s1=-0.9, s2=1.3\n",
    "    dx = rd.random()*2.4-0.9\n",
    "    dy = rd.random()*2.4-0.9\n",
    "    # do the move: update the coordinates of the ant\n",
    "    x += dx\n",
    "    y += dy\n",
    "    # check if the ant goes outside the boundary\n",
    "    if (x**2+y**2)>400 or (x**2+y**2)<100:\n",
    "        # if so, bring it back where it was\n",
    "        x -= dx\n",
    "        y -= dy \n",
    "    if y < 0:\n",
    "        print(\"Ant made it yay!\")\n",
    "    # plot current position\n",
    "    pl.plot([xp,x],[yp,y],c='Red')\n"
   ]
  },
  {
   "cell_type": "code",
   "execution_count": null,
   "metadata": {},
   "outputs": [],
   "source": [
    "\n"
   ]
  }
 ],
 "metadata": {
  "kernelspec": {
   "display_name": "Python 3",
   "language": "python",
   "name": "python3"
  },
  "language_info": {
   "codemirror_mode": {
    "name": "ipython",
    "version": 3
   },
   "file_extension": ".py",
   "mimetype": "text/x-python",
   "name": "python",
   "nbconvert_exporter": "python",
   "pygments_lexer": "ipython3",
   "version": "3.7.4"
  }
 },
 "nbformat": 4,
 "nbformat_minor": 2
}
