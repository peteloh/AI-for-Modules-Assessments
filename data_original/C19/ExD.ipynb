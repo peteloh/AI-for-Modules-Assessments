{
 "cells": [
  {
   "cell_type": "code",
   "execution_count": 2,
   "metadata": {},
   "outputs": [
    {
     "name": "stdout",
     "output_type": "stream",
     "text": [
      "N: 15\n",
      "141.3506550254451\n"
     ]
    }
   ],
   "source": [
    "#01730474\n",
    "def Factorial(n):\n",
    "    # this function computes the factorial of n\n",
    "    Rf = range(1,n+1)\n",
    "    f = 1\n",
    "    for i in Rf:\n",
    "        f = f * i\n",
    "    return f\n",
    "\n",
    "def Sum(N):\n",
    "    if N == 1:\n",
    "        S = 1\n",
    "    else:\n",
    "        S = (N**4)/Factorial(N-1) + Sum(N-1)\n",
    "    return S\n",
    "\n",
    "a = Sum(int(input(\"N: \")))\n",
    "print(a)"
   ]
  },
  {
   "cell_type": "code",
   "execution_count": null,
   "metadata": {},
   "outputs": [],
   "source": []
  }
 ],
 "metadata": {
  "kernelspec": {
   "display_name": "Python 3",
   "language": "python",
   "name": "python3"
  },
  "language_info": {
   "codemirror_mode": {
    "name": "ipython",
    "version": 3
   },
   "file_extension": ".py",
   "mimetype": "text/x-python",
   "name": "python",
   "nbconvert_exporter": "python",
   "pygments_lexer": "ipython3",
   "version": "3.7.4"
  }
 },
 "nbformat": 4,
 "nbformat_minor": 2
}
