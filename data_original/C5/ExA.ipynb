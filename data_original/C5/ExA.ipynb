{
 "cells": [
  {
   "cell_type": "code",
   "execution_count": 7,
   "metadata": {},
   "outputs": [
    {
     "name": "stdout",
     "output_type": "stream",
     "text": [
      "[[0, 0, 0, 0, 0, 0, 0, 9], [0, 1, 0, 0, 0, 0, 8, 0], [0, 0, 4, 0, 0, 0, 0, 0], [0, 0, 0, 9, 5, 0, 0, 0], [0, 0, 0, 9, 5, 0, 0, 0], [0, 0, 4, 0, 0, 0, 0, 0], [0, 1, 0, 0, 0, 0, 8, 0], [0, 0, 0, 0, 0, 0, 0, 9]]\n",
      "[[0, 0, 0, 0, 0, 0, 0, -9], [0, 0, 0, 0, 0, 0, -7, 0], [0, 0, 0, 0, 0, 4, 0, 0], [0, 0, 0, 0, 4, 0, 0, 0], [0, 0, 0, -4, 0, 0, 0, 0], [0, 0, -4, 0, 0, 0, 0, 0], [0, 7, 0, 0, 0, 0, 0, 0], [9, 0, 0, 0, 0, 0, 0, 0]]\n",
      "[[-81], [-56], [0], [20], [-36], [-16], [7], [0]]\n"
     ]
    }
   ],
   "source": [
    "#01495089\n",
    "#c= (A-At).b\n",
    "\n",
    "def Transpose(A):\n",
    "    # find size of A\n",
    "    M = len(A) # number of rows\n",
    "    N = len(A[0]) # number of column\n",
    "    RM = range(0,M)\n",
    "    RN = range(0,N)\n",
    "    T = []\n",
    "    for i in RN:\n",
    "        row = []\n",
    "        for j in RM:\n",
    "            row += [A[j][i]]\n",
    "        T += [row]\n",
    "    return T\n",
    "\n",
    "\n",
    "def minusmatrices(A,B):   #c=A-B\n",
    "    n1 =range(0,len(A))              # N1rows\n",
    "    m1 =range(0,len(A[0]))                # N1columns\n",
    "    n2 =range(0,len(B))              # N2rows\n",
    "    m2 =range(0,len(B[0]))           # N2columns\n",
    "    if n1==n2 and m1==m2:\n",
    "        result=[]\n",
    "        for i in n1:\n",
    "          row =[]\n",
    "          for j in m2:\n",
    "              sum =0\n",
    "              sum += A[i][j]- B[i][j]\n",
    "              row += [sum]\n",
    "          result+=[row]            \n",
    "    else:\n",
    "        result=0\n",
    "    return result\n",
    "\n",
    "def Matmultiply(A,b):\n",
    "    # this function computes the matrix vector multiplication between A and b\n",
    "    # c = A . b    \n",
    "\n",
    "    # check if dimensions are compatible\n",
    "    N = len(A) # number of rows\n",
    "    M = len(A[0]) # number of columns\n",
    "    # number of columns of A must equal the length of b\n",
    "    if M == len(b):\n",
    "        # dimensions are compatible: do the multiplication\n",
    "        c = []\n",
    "        RN = range(0,N)\n",
    "        RM = range(0,M)\n",
    "        RP=range (0,len(b[0]))\n",
    "        for i in RM:\n",
    "        # forming row i\n",
    "            row = []\n",
    "            for j in RP:\n",
    "            # forming C(i,j)\n",
    "                S = 0\n",
    "                for k in RM:\n",
    "                    S += A[i][k]*b[k][j]\n",
    "                row += [S]\n",
    "            c += [row]\n",
    "\n",
    "    else:\n",
    "        # dimensions are not compatible, return the value of zero\n",
    "        c = 0\n",
    "        \n",
    "    return c\n",
    "\n",
    "\n",
    "b=[[0],[1],[4],[9],[5],[0],[8],[9]]\n",
    "A=[[0,0,0,0,0,0,0,0],[0,1,0,0,0,0,1,0],[0,0,4,0,0,4,0,0],[0,0,0,9,9,0,0,0],[0,0,0,5,5,0,0,0],[0,0,0,0,0,0,0,0],[0,8,0,0,0,0,8,0],[9,0,0,0,0,0,0,9]]\n",
    "At = Transpose(A)\n",
    "print(At)\n",
    "M = minusmatrices(A,At)\n",
    "print(M)\n",
    "final = Matmultiply(M,b)\n",
    "print(final)"
   ]
  }
 ],
 "metadata": {
  "kernelspec": {
   "display_name": "Python 3",
   "language": "python",
   "name": "python3"
  },
  "language_info": {
   "codemirror_mode": {
    "name": "ipython",
    "version": 3
   },
   "file_extension": ".py",
   "mimetype": "text/x-python",
   "name": "python",
   "nbconvert_exporter": "python",
   "pygments_lexer": "ipython3",
   "version": "3.7.4"
  }
 },
 "nbformat": 4,
 "nbformat_minor": 2
}
