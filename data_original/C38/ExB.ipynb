{
 "cells": [
  {
   "cell_type": "code",
   "execution_count": 47,
   "metadata": {},
   "outputs": [
    {
     "name": "stdout",
     "output_type": "stream",
     "text": [
      "0.7177388912382372 0.4376410481797073\n",
      "0.7177388912382372 18\n"
     ]
    },
    {
     "data": {
      "text/plain": [
       "<matplotlib.collections.PathCollection at 0x1ff23dbac48>"
      ]
     },
     "execution_count": 47,
     "metadata": {},
     "output_type": "execute_result"
    },
    {
     "data": {
      "image/png": "[encoded data removed]",
      "text/plain": [
       "<Figure size 432x288 with 1 Axes>"
      ]
     },
     "metadata": {
      "needs_background": "light"
     },
     "output_type": "display_data"
    }
   ],
   "source": [
    "#CID:01702139\n",
    "import math as mt               #import necessary libraries\n",
    "import random as rn\n",
    "import matplotlib.pyplot as plt\n",
    "\n",
    "s1=(1/10)+0.9                  #Find s1 and s2 using my CID\n",
    "s2=(9/10)+0.6\n",
    "dx=(-s1)+rn.random()*(s2+s1)\n",
    "\n",
    "dy=(-s1)+rn.random()*(s2+s1)    #Find dx and dy, using the random function.   \n",
    "print(dx,dy)\n",
    "\n",
    "x=0         #starting point\n",
    "y=18\n",
    "steps=0    #Number of steps initialised\n",
    "if (x+dx)**2+(y+dy)**2<20**2 and (x+dx)**2+(y+dy)**2>10**2:\n",
    "    steps=steps+1           #If motion is within the 2 circles, dx and dy are added to starting position.\n",
    "    x=x+dx             #if successful number of steps increases     \n",
    "    y+y+dy\n",
    "else:\n",
    "    x=x+0            #if motion is not within the area specified, x and y remain the same.\n",
    "    y=y+0 \n",
    "print(x,y)\n",
    "\n",
    "plt.scatter(x,y)     #plotting the  value of x and y.\n",
    "\n",
    "    "
   ]
  },
  {
   "cell_type": "code",
   "execution_count": null,
   "metadata": {},
   "outputs": [],
   "source": []
  },
  {
   "cell_type": "code",
   "execution_count": null,
   "metadata": {},
   "outputs": [],
   "source": []
  }
 ],
 "metadata": {
  "kernelspec": {
   "display_name": "Python 3",
   "language": "python",
   "name": "python3"
  },
  "language_info": {
   "codemirror_mode": {
    "name": "ipython",
    "version": 3
   },
   "file_extension": ".py",
   "mimetype": "text/x-python",
   "name": "python",
   "nbconvert_exporter": "python",
   "pygments_lexer": "ipython3",
   "version": "3.7.4"
  }
 },
 "nbformat": 4,
 "nbformat_minor": 2
}
