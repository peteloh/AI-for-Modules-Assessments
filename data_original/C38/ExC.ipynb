{
 "cells": [
  {
   "cell_type": "code",
   "execution_count": 32,
   "metadata": {},
   "outputs": [
    {
     "ename": "SyntaxError",
     "evalue": "unexpected EOF while parsing (<ipython-input-32-7f767c6ef8ec>, line 22)",
     "output_type": "error",
     "traceback": [
      "\u001b[1;36m  File \u001b[1;32m\"<ipython-input-32-7f767c6ef8ec>\"\u001b[1;36m, line \u001b[1;32m22\u001b[0m\n\u001b[1;33m    for i in range(1,13):\u001b[0m\n\u001b[1;37m                         ^\u001b[0m\n\u001b[1;31mSyntaxError\u001b[0m\u001b[1;31m:\u001b[0m unexpected EOF while parsing\n"
     ]
    }
   ],
   "source": [
    "#CID:01702139\n",
    "#1\n",
    "f=open('CV19.txt','r')\n",
    "a=f.readlines()\n",
    "f.close()\n",
    "\n",
    "N=13             #Number of cases found in week 1\n",
    "cases1=0\n",
    "for i in range(2,N+2,2):\n",
    "    cases1=cases1+int(a[i])\n",
    "print(cases1)\n",
    "\n",
    "for j in range(0,len(a),13):       #Trying to create a loop to evaluate all the cases for all weeks in a.\n",
    "    cases=0                  \n",
    "    for i in range(j+2,J+N+2,2):\n",
    "        cases=cases+int(a[i])\n",
    "print(cases)\n",
    "\n",
    "#2\n",
    "Sum=0\n",
    "\n"
   ]
  },
  {
   "cell_type": "code",
   "execution_count": null,
   "metadata": {},
   "outputs": [],
   "source": [
    "\n",
    "    "
   ]
  },
  {
   "cell_type": "code",
   "execution_count": null,
   "metadata": {},
   "outputs": [],
   "source": []
  }
 ],
 "metadata": {
  "kernelspec": {
   "display_name": "Python 3",
   "language": "python",
   "name": "python3"
  },
  "language_info": {
   "codemirror_mode": {
    "name": "ipython",
    "version": 3
   },
   "file_extension": ".py",
   "mimetype": "text/x-python",
   "name": "python",
   "nbconvert_exporter": "python",
   "pygments_lexer": "ipython3",
   "version": "3.7.4"
  }
 },
 "nbformat": 4,
 "nbformat_minor": 2
}
