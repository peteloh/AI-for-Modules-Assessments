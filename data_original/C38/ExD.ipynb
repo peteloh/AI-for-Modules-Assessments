{
 "cells": [
  {
   "cell_type": "code",
   "execution_count": 9,
   "metadata": {},
   "outputs": [
    {
     "name": "stdout",
     "output_type": "stream",
     "text": [
      "22.5\n"
     ]
    }
   ],
   "source": [
    "#CID:01702139\n",
    "import math as mt\n",
    "def Sum(N):      #setting up the function\n",
    "    a=3          #6th digit of CID\n",
    "    if N==1:     #When N=1 it is a special case, so it is defined separately.\n",
    "        S=1**a\n",
    "    else:\n",
    "        S=(N**a)/mt.factorial(N-1)+Sum(N-1) #For other N, function calculates S for that specific N, and recalls itself to find the total S, by adding current S to previous S.\n",
    "                                             \n",
    "    return S                  \n",
    "\n",
    "A=Sum(3)\n",
    "print(A)\n",
    "    "
   ]
  },
  {
   "cell_type": "code",
   "execution_count": null,
   "metadata": {},
   "outputs": [],
   "source": []
  },
  {
   "cell_type": "code",
   "execution_count": null,
   "metadata": {},
   "outputs": [],
   "source": []
  }
 ],
 "metadata": {
  "kernelspec": {
   "display_name": "Python 3",
   "language": "python",
   "name": "python3"
  },
  "language_info": {
   "codemirror_mode": {
    "name": "ipython",
    "version": 3
   },
   "file_extension": ".py",
   "mimetype": "text/x-python",
   "name": "python",
   "nbconvert_exporter": "python",
   "pygments_lexer": "ipython3",
   "version": "3.7.4"
  }
 },
 "nbformat": 4,
 "nbformat_minor": 2
}
