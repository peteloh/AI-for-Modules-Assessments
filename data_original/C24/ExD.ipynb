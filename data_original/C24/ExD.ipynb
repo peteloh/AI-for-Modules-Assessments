{
 "cells": [
  {
   "cell_type": "code",
   "execution_count": 13,
   "metadata": {},
   "outputs": [
    {
     "name": "stdout",
     "output_type": "stream",
     "text": [
      "57483.502174724876\n"
     ]
    }
   ],
   "source": [
    "# Solution for Task D\n",
    "# My CID Number: 01366896\n",
    "\n",
    "import math as mt\n",
    "\n",
    "# Recursive function for summation function\n",
    "def SumS(N):\n",
    "    a = 8 # 6th digit of my CID number\n",
    "    \n",
    "    # initial term of the series\n",
    "    if N == 1:\n",
    "        S = 1 # 1^8 / (0!) = 1\n",
    "    else:\n",
    "        # sum of the current term and previous term\n",
    "        S = (N)**a/mt.factorial(N-1) + SumS(N-1)\n",
    "    return S\n",
    "\n",
    "# \n",
    "\n",
    "# Test the function for N = 15\n",
    "res = SumS(15)\n",
    "print(res)"
   ]
  },
  {
   "cell_type": "code",
   "execution_count": null,
   "metadata": {},
   "outputs": [],
   "source": []
  }
 ],
 "metadata": {
  "kernelspec": {
   "display_name": "Python 3",
   "language": "python",
   "name": "python3"
  },
  "language_info": {
   "codemirror_mode": {
    "name": "ipython",
    "version": 3
   },
   "file_extension": ".py",
   "mimetype": "text/x-python",
   "name": "python",
   "nbconvert_exporter": "python",
   "pygments_lexer": "ipython3",
   "version": "3.7.4"
  }
 },
 "nbformat": 4,
 "nbformat_minor": 2
}
