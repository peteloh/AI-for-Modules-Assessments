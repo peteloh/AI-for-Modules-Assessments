{
 "cells": [
  {
   "cell_type": "code",
   "execution_count": 52,
   "metadata": {},
   "outputs": [
    {
     "name": "stderr",
     "output_type": "stream",
     "text": [
      "D:\\Anaconda\\lib\\site-packages\\ipykernel_launcher.py:16: MatplotlibDeprecationWarning: Adding an axes using the same arguments as a previous axes currently reuses the earlier instance.  In a future version, a new instance will always be created and returned.  Meanwhile, this warning can be suppressed, and the future behavior ensured, by passing a unique label to each axes instance.\n",
      "  app.launch_new_instance()\n",
      "D:\\Anaconda\\lib\\site-packages\\ipykernel_launcher.py:25: MatplotlibDeprecationWarning: Adding an axes using the same arguments as a previous axes currently reuses the earlier instance.  In a future version, a new instance will always be created and returned.  Meanwhile, this warning can be suppressed, and the future behavior ensured, by passing a unique label to each axes instance.\n"
     ]
    },
    {
     "data": {
      "image/png": "[encoded data removed]",
      "text/plain": [
       "<Figure size 432x288 with 1 Axes>"
      ]
     },
     "metadata": {
      "needs_background": "light"
     },
     "output_type": "display_data"
    }
   ],
   "source": [
    "# Solution for Task B\n",
    "# My CID Number: 01366896\n",
    "\n",
    "import math as mt\n",
    "import random as rd\n",
    "import matplotlib.pyplot as pl\n",
    "\n",
    "# plot the bounding circles\n",
    "# Radius = 20 (outer circle)\n",
    "r1 = 20\n",
    "Rtheta = range(0,360)\n",
    "for theta in Rtheta:\n",
    "    thetar = theta * mt.pi / 180\n",
    "    # in the format x = r*cos(thetar)\n",
    "    pl.scatter(r1*mt.cos(thetar),r1*mt.sin(thetar),s=3,c='b') \n",
    "pl.axes().set_aspect('equal')  \n",
    "\n",
    "# Radius = 10 (inner circle)\n",
    "r2 = 10\n",
    "Rtheta = range(0,360)\n",
    "for theta in Rtheta:\n",
    "    thetar = theta * mt.pi / 180\n",
    "    # in the format x = r*cos(thetar)\n",
    "    pl.scatter(r2*mt.cos(thetar),r2*mt.sin(thetar),s=3,c='b') \n",
    "pl.axes().set_aspect('equal')  \n",
    "\n",
    "# generate the initial starting point in the given domain and plot it\n",
    "xo = 0\n",
    "yo = 18\n",
    "x = xo\n",
    "y = yo\n",
    "pl.scatter(x,y,s=5,c='Purple')\n",
    "\n",
    "# Keep moving until the ant exits the doughnut\n",
    "exit = False\n",
    "while (not exit):   \n",
    "    # store the current position as previous one\n",
    "    # this is needed as we want to plot the move from a to b as a line\n",
    "    xp = x\n",
    "    yp = y\n",
    "    # evaluate s1 and s2 using CID = 01366896\n",
    "    s1 = 6 / 10 + 0.9\n",
    "    s2 = 9 / 10 + 0.6\n",
    "    # compute the size of the move, dx, dy - a number between -s1 and s2 [-1.5,1.5]\n",
    "    dx = rd.random()*3-1.5\n",
    "    dy = rd.random()*3-1.5\n",
    "    # do the move: update the coordinates of the ant\n",
    "    x += dx\n",
    "    y += dy\n",
    "    # check if the ant goes outside the boundary\n",
    "    if (x**2+y**2)>=20**2 or (x**2+y**2)<=10**2: # equation of a circle\n",
    "        # if so, bring it back where it was (i.e. undo the move)\n",
    "        x -= dx\n",
    "        y -= dy \n",
    "    # plot current position - after adjusting if out of bounds\n",
    "    pl.plot([xp,x],[yp,y],c='Red') # syntax for plotting lines from point 1 [a,b] to point 2 [c,d]\n",
    "    \n",
    "    # Exit condition\n",
    "    if y < 0:\n",
    "        exit = True"
   ]
  },
  {
   "cell_type": "code",
   "execution_count": null,
   "metadata": {},
   "outputs": [],
   "source": []
  }
 ],
 "metadata": {
  "kernelspec": {
   "display_name": "Python 3",
   "language": "python",
   "name": "python3"
  },
  "language_info": {
   "codemirror_mode": {
    "name": "ipython",
    "version": 3
   },
   "file_extension": ".py",
   "mimetype": "text/x-python",
   "name": "python",
   "nbconvert_exporter": "python",
   "pygments_lexer": "ipython3",
   "version": "3.7.4"
  }
 },
 "nbformat": 4,
 "nbformat_minor": 2
}
