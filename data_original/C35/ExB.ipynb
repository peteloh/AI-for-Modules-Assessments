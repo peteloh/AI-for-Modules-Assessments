{
 "cells": [
  {
   "cell_type": "code",
   "execution_count": null,
   "metadata": {},
   "outputs": [],
   "source": [
    "#CID:01713254\n",
    "import matplotlib.pyplot as plt\n",
    "import math as mt\n",
    "import random\n",
    "#Plot the upper half of the doughnut\n",
    "x=[]\n",
    "y=[]\n",
    "for j in range(10,21,10):\n",
    "    for i in range(0,180):\n",
    "        x+=[j*mt.cos(i*mt.pi/180)]\n",
    "        y+=[j*mt.sin(i*mt.pi/180)]\n",
    "    plt.scatter(x,y)\n",
    "#Plot the initial position of the ant\n",
    "x0=[0]\n",
    "y0=[18]\n",
    "plt.scatter(x0,y0,c='Blue')\n",
    "#Calculate s1,s2\n",
    "s1=3/10+0.9\n",
    "s2=5/10+0.6\n",
    "xp=random.uniform(-s1,s2)\n",
    "yp=random.uniform(-s1,s2)\n",
    "#xp,yp are the steps the ant jumps\n",
    "b=1\n",
    "x=[0]\n",
    "y=[18]\n",
    "while y[b-1]>=0:\n",
    "    if (x[b-1])**2+(y[b-1])**2>10**2 and (x[b-1])**2+(y[b-1])**2<20**2 and y[b-1]!=0:\n",
    "        #within the doughnut\n",
    "        x+=[x[b-1]+xp]\n",
    "        y+=[y[b-1]+yp]\n",
    "    else:\n",
    "        #touch the wall or out of the doughnut\n",
    "        x+=[x[b-1]]\n",
    "        y+=[y[b-1]]\n",
    "        #the position is unchanged\n",
    "    b+=1\n",
    "plt.scatter(x,y)\n",
    "plt.show()\n",
    "    "
   ]
  },
  {
   "cell_type": "code",
   "execution_count": null,
   "metadata": {},
   "outputs": [],
   "source": []
  }
 ],
 "metadata": {
  "kernelspec": {
   "display_name": "Python 3",
   "language": "python",
   "name": "python3"
  }
 },
 "nbformat": 4,
 "nbformat_minor": 2
}
