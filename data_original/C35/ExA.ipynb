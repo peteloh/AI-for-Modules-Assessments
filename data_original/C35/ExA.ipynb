{
 "cells": [
  {
   "cell_type": "code",
   "execution_count": 8,
   "metadata": {},
   "outputs": [],
   "source": [
    "#CID:01713254\n",
    "A=[]\n",
    "#create an empty list to represent matrix A\n",
    "CID=[0,1,7,1,3,2,5,4]\n",
    "#create a list, consisting of my CID number\n",
    "for i in range(0,8):\n",
    "    row=[]\n",
    "    for j in range(0,8):\n",
    "        if i==j or i==7-j:\n",
    "            row+=[CID[i]]\n",
    "        else:\n",
    "            row+=[0]\n",
    "            #0 elsewhere\n",
    "    A+=[row]\n",
    "#Now create A Transpose\n",
    "AT=[]\n",
    "for i in range(0,8):\n",
    "    row=[]\n",
    "    for j in range(0,8):\n",
    "        row+=[A[j][i]]\n",
    "    AT+=[row]\n",
    "#Compute A-AT:\n",
    "AAT=[]\n",
    "for i in range(0,8):\n",
    "    row=[]\n",
    "    for j in range(0,8):\n",
    "        row+=[A[i][j]-AT[i][j]]\n",
    "    AAT+=[row]\n",
    "#Compute the product\n",
    "b=[0,1,7,1,3,2,5,4]\n",
    "AATb=[]\n",
    "#This is the product of AAT with b\n",
    "for i in range(0,8):\n",
    "    Sum=0\n",
    "    for j in range(0,8):\n",
    "        Sum+=AAT[i][j]*b[j]\n",
    "    AATb+=[Sum]\n",
    "\n",
    "    \n"
   ]
  }
 ],
 "metadata": {
  "kernelspec": {
   "display_name": "Python 3",
   "language": "python",
   "name": "python3"
  },
  "language_info": {
   "codemirror_mode": {
    "name": "ipython",
    "version": 3
   },
   "file_extension": ".py",
   "mimetype": "text/x-python",
   "name": "python",
   "nbconvert_exporter": "python",
   "pygments_lexer": "ipython3",
   "version": "3.7.4"
  }
 },
 "nbformat": 4,
 "nbformat_minor": 2
}
