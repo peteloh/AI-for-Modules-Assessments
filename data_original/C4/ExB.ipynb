{
 "cells": [
  {
   "cell_type": "code",
   "execution_count": 8,
   "metadata": {},
   "outputs": [
    {
     "name": "stderr",
     "output_type": "stream",
     "text": [
      "D:\\Anaconda\\lib\\site-packages\\ipykernel_launcher.py:14: MatplotlibDeprecationWarning: Adding an axes using the same arguments as a previous axes currently reuses the earlier instance.  In a future version, a new instance will always be created and returned.  Meanwhile, this warning can be suppressed, and the future behavior ensured, by passing a unique label to each axes instance.\n",
      "  \n"
     ]
    },
    {
     "data": {
      "image/png": "[encoded data removed]",
      "text/plain": [
       "<Figure size 432x288 with 1 Axes>"
      ]
     },
     "metadata": {
      "needs_background": "light"
     },
     "output_type": "display_data"
    }
   ],
   "source": [
    "#CID 01716782\n",
    "import math as mt\n",
    "import random as r\n",
    "import matplotlib.pyplot as pl\n",
    "\n",
    "\n",
    "\n",
    "# plot the bounding circle\n",
    "Rtheta = range(0,360)\n",
    "for theta in Rtheta:\n",
    "    thetar = theta * mt.pi / 180\n",
    "    pl.scatter(20*mt.cos(thetar),20*mt.sin(thetar),s=3,c='b')\n",
    "    pl.scatter(10*mt.cos(thetar),10*mt.sin(thetar),s=3,c='b')\n",
    "pl.axes().set_aspect('equal')   \n",
    "\n",
    "x = 0\n",
    "y = 18\n",
    "pl.scatter(x,y)\n",
    "\n",
    "# move the point large number times\n",
    "Rn = range(1,1000)\n",
    "for i in Rn:\n",
    "    # store the current position as previous one\n",
    "    # this is needed as we want to plot the move from a to b as a line\n",
    "    xp = x\n",
    "    yp = y\n",
    "    #size of the move, dx, dy\n",
    "    dx = r.uniform(-1.5,1.4)\n",
    "    dy = r.uniform(-1.5,1.4)\n",
    "    # do the move: update the coordinates of the ant\n",
    "    x += dx\n",
    "    y += dy\n",
    "    # check if the ant goes outside the boundary\n",
    "    if (x**2+y**2)>20 or (x**2+y**2)<10:\n",
    "        # if so, bring it back where it was\n",
    "        x -= dx\n",
    "        y -= dy \n",
    "    # plot current position\n",
    "    pl.plot([xp,x],[yp,y])\n",
    "    #When the ant reaches the boundary break the sequence\n",
    "    if y<0:\n",
    "        break\n",
    "\n"
   ]
  },
  {
   "cell_type": "code",
   "execution_count": null,
   "metadata": {},
   "outputs": [],
   "source": []
  }
 ],
 "metadata": {
  "kernelspec": {
   "display_name": "Python 3",
   "language": "python",
   "name": "python3"
  },
  "language_info": {
   "codemirror_mode": {
    "name": "ipython",
    "version": 3
   },
   "file_extension": ".py",
   "mimetype": "text/x-python",
   "name": "python",
   "nbconvert_exporter": "python",
   "pygments_lexer": "ipython3",
   "version": "3.7.4"
  }
 },
 "nbformat": 4,
 "nbformat_minor": 4
}
