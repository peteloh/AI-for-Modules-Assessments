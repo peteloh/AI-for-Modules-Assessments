{
 "cells": [
  {
   "cell_type": "code",
   "execution_count": 59,
   "metadata": {},
   "outputs": [
    {
     "name": "stdout",
     "output_type": "stream",
     "text": [
      "The sum of infections is 273319\n",
      "Week 1 infections are 241\n",
      "Week 2 infections are 1118\n"
     ]
    }
   ],
   "source": [
    "# read the file\n",
    "f = open('CV19.txt','r')\n",
    "t = f.readlines()\n",
    "f.close()\n",
    "Nt = len(t)\n",
    "N = int(Nt/2)\n",
    "\n",
    "RN = range(0,N)\n",
    "#Removed the week tags from the data to make it easier to read can separate in to 7 tuples to determine weeks\n",
    "CV19 = [] \n",
    "c = 0\n",
    "for i in RN:\n",
    "    CV19 += [( t[c].rstrip() , int(t[c+1].rstrip()) )]\n",
    "    c += 2\n",
    "#1    \n",
    "S=0\n",
    "for i in CV19:\n",
    "    S += i[1]\n",
    "print('The sum of infections is', S)\n",
    "\n",
    "#2\n",
    "p=0\n",
    "S1=0\n",
    "for i in CV19:\n",
    "    \n",
    "    S1 += i[1]\n",
    "    p += 1\n",
    "    if p==7:\n",
    "        break\n",
    "print('Week 1 infections are',S1)\n",
    "\n",
    "p=0\n",
    "S2=0\n",
    "for i in CV19:\n",
    "    \n",
    "    S2 += i[1]\n",
    "    p += 1\n",
    "    if p==14:\n",
    "        break\n",
    "print('Week 2 infections are',S2-S1)\n",
    "#3\n",
    "                            \n",
    "               \n",
    "        \n",
    "    \n",
    "    \n",
    "    \n"
   ]
  },
  {
   "cell_type": "code",
   "execution_count": 48,
   "metadata": {},
   "outputs": [
    {
     "name": "stdout",
     "output_type": "stream",
     "text": [
      "182\n"
     ]
    }
   ],
   "source": [
    "f = open('CV19.txt','r')\n",
    "t = f.readlines()\n",
    "f.close()\n",
    "N = len(t)\n",
    "print(N)\n"
   ]
  },
  {
   "cell_type": "code",
   "execution_count": null,
   "metadata": {},
   "outputs": [],
   "source": []
  }
 ],
 "metadata": {
  "kernelspec": {
   "display_name": "Python 3",
   "language": "python",
   "name": "python3"
  },
  "language_info": {
   "codemirror_mode": {
    "name": "ipython",
    "version": 3
   },
   "file_extension": ".py",
   "mimetype": "text/x-python",
   "name": "python",
   "nbconvert_exporter": "python",
   "pygments_lexer": "ipython3",
   "version": "3.7.4"
  }
 },
 "nbformat": 4,
 "nbformat_minor": 4
}
