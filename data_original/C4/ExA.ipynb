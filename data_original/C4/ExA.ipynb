{
 "cells": [
  {
   "cell_type": "code",
   "execution_count": 12,
   "metadata": {},
   "outputs": [
    {
     "name": "stdout",
     "output_type": "stream",
     "text": [
      "[[-4], [-56], [0], [-30], [5], [0], [7], [0]]\n"
     ]
    }
   ],
   "source": [
    "#CID 01716782\n",
    "A=[[0,0,0,0,0,0,0,0],[0,1,0,0,0,0,1,0],[0,0,7,0,0,7,0,0],[0,0,0,1,1,0,0,0],[0,0,0,6,6,0,0,0],[0,0,7,0,0,7,0,0],[0,8,0,0,0,0,8,0],[2,0,0,0,0,0,0,2]]\n",
    "B=[[0],[1],[7],[1],[6],[7],[8],[2]]\n",
    "def Transpose(A):\n",
    "\n",
    "    # find size of A\n",
    "    M = len(A) # number of rows\n",
    "    N = len(A[0]) # number of columns\n",
    "    RM = range(0,M)\n",
    "    RN = range(0,N)\n",
    "    T = []\n",
    "    for i in RN:\n",
    "        row = []\n",
    "        for j in RM:\n",
    "            row += [A[j][i]]\n",
    "        T += [row]\n",
    "    return T\n",
    "\n",
    "At=Transpose(A)\n",
    "RN=range(0,len(A))\n",
    "P1=[[0,0,0,0,0,0,0,0],[0,0,0,0,0,0,0,0],[0,0,0,0,0,0,0,0],[0,0,0,0,0,0,0,0],[0,0,0,0,0,0,0,0],[0,0,0,0,0,0,0,0],[0,0,0,0,0,0,0,0],[0,0,0,0,0,0,0,0]]\n",
    "for i in RN:    \n",
    "# iterate through columns \n",
    "    for j in RN: \n",
    "        P1[i][j] = A[i][j] - At[i][j] \n",
    "#MatMul from previous work\n",
    "\n",
    "    M = len(P1) # rows of A\n",
    "    NA = len(P1[0]) # columns of A\n",
    "    NB = len(B) # rows of B\n",
    "    P = len(B[0]) # columns of B\n",
    "\n",
    "    # define ranges\n",
    "    RM = range(0,M)\n",
    "    RN = range(0,NA)\n",
    "    RP = range(0,P)\n",
    "\n",
    "    # check that dimensions are compatible\n",
    "    if NA == NB:\n",
    "        # compute the product C = A * B\n",
    "        C = []\n",
    "        for i in RM:\n",
    "\n",
    "            # compute row i of the matrix\n",
    "            row = []\n",
    "            for j in RP:\n",
    "\n",
    "                # compute column j, i.e. element C[i][j]\n",
    "                Sum = 0\n",
    "                for k in RN:\n",
    "                    Sum += P1[i][k] * B[k][j]\n",
    "                row += [Sum] # append this column\n",
    "            C += [row] # append this row\n",
    "print(C)\n"
   ]
  },
  {
   "cell_type": "code",
   "execution_count": null,
   "metadata": {},
   "outputs": [],
   "source": []
  }
 ],
 "metadata": {
  "kernelspec": {
   "display_name": "Python 3",
   "language": "python",
   "name": "python3"
  },
  "language_info": {
   "codemirror_mode": {
    "name": "ipython",
    "version": 3
   },
   "file_extension": ".py",
   "mimetype": "text/x-python",
   "name": "python",
   "nbconvert_exporter": "python",
   "pygments_lexer": "ipython3",
   "version": "3.7.4"
  }
 },
 "nbformat": 4,
 "nbformat_minor": 4
}
