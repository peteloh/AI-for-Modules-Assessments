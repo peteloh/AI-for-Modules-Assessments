{
 "cells": [
  {
   "cell_type": "code",
   "execution_count": 2,
   "metadata": {},
   "outputs": [
    {
     "name": "stdout",
     "output_type": "stream",
     "text": [
      "11252.686543059252\n"
     ]
    }
   ],
   "source": [
    "#CID 01716782\n",
    "import math as mt\n",
    "def Rec(N):\n",
    "    #S is not 0 at N=1 but rather there is no solution\n",
    "    s=0\n",
    "    if N==1: \n",
    "        S=0\n",
    "    else:\n",
    "        S = ((N**7)/mt.factorial(N-1))+Rec(N-1)\n",
    "    return S+1\n",
    "print(Rec(15))"
   ]
  },
  {
   "cell_type": "code",
   "execution_count": null,
   "metadata": {},
   "outputs": [],
   "source": []
  }
 ],
 "metadata": {
  "kernelspec": {
   "display_name": "Python 3",
   "language": "python",
   "name": "python3"
  },
  "language_info": {
   "codemirror_mode": {
    "name": "ipython",
    "version": 3
   },
   "file_extension": ".py",
   "mimetype": "text/x-python",
   "name": "python",
   "nbconvert_exporter": "python",
   "pygments_lexer": "ipython3",
   "version": "3.7.4"
  }
 },
 "nbformat": 4,
 "nbformat_minor": 4
}
