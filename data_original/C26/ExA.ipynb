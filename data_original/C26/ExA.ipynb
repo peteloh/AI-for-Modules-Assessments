{
 "cells": [
  {
   "cell_type": "code",
   "execution_count": 20,
   "metadata": {},
   "outputs": [
    {
     "name": "stdout",
     "output_type": "stream",
     "text": [
      "[-81]\n",
      "[-12]\n",
      "[10]\n",
      "[0]\n",
      "[-9]\n",
      "[-14]\n",
      "[3]\n",
      "[0]\n"
     ]
    }
   ],
   "source": [
    "#CID:01730549\n",
    "M=8\n",
    "N=8\n",
    "A=[] #initialise matrix\n",
    "#create 8x8 matrix of zeroes\n",
    "for i in range(0,M):\n",
    "    d=[]\n",
    "    for j in range(0,N):\n",
    "        d=d+[0]\n",
    "    A=A+[d]\n",
    "#change diagonals for CID\n",
    "A[1][1]=A[1][6]=1\n",
    "A[2][2]=A[2][5]=7\n",
    "A[3][3]=A[3][4]=3\n",
    "A[4][4]=A[4][3]=0\n",
    "A[5][5]=A[5][2]=5\n",
    "A[6][6]=A[6][1]=4\n",
    "A[7][7]=A[7][0]=9\n",
    "#create 8x1 matrix\n",
    "b=[[0],[1],[7],[3],[0],[5],[4],[9]]\n",
    "#D=A-AT\n",
    "D=[]\n",
    "for i in range(0,M):\n",
    "    d=[]\n",
    "    for j in range(0,N):\n",
    "        d=d+[A[i][j]-A[j][i]]\n",
    "    D=D+[d]\n",
    "c=[]\n",
    "for i in range(0,M):\n",
    "    d=[]\n",
    "    for j in range(0,1):\n",
    "        sum=0\n",
    "        for k in range(0,N):\n",
    "            sum=sum+D[i][k]*b[k][j]\n",
    "        d=d+[sum]\n",
    "    c=c+[d]\n",
    "for i in c:\n",
    "    print(i)\n",
    "        \n",
    "        \n",
    "        \n",
    "\n",
    "        "
   ]
  },
  {
   "cell_type": "code",
   "execution_count": null,
   "metadata": {},
   "outputs": [],
   "source": []
  }
 ],
 "metadata": {
  "kernelspec": {
   "display_name": "Python 3",
   "language": "python",
   "name": "python3"
  },
  "language_info": {
   "codemirror_mode": {
    "name": "ipython",
    "version": 3
   },
   "file_extension": ".py",
   "mimetype": "text/x-python",
   "name": "python",
   "nbconvert_exporter": "python",
   "pygments_lexer": "ipython3",
   "version": "3.7.4"
  }
 },
 "nbformat": 4,
 "nbformat_minor": 2
}
