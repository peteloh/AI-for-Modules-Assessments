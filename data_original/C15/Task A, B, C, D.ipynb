{
 "cells": [
  {
   "cell_type": "markdown",
   "metadata": {},
   "source": [
    "CID: 01704995"
   ]
  },
  {
   "cell_type": "code",
   "execution_count": null,
   "metadata": {},
   "outputs": [],
   "source": [
    "#CID: 01704995"
   ]
  },
  {
   "cell_type": "code",
   "execution_count": 11,
   "metadata": {},
   "outputs": [
    {
     "name": "stdout",
     "output_type": "stream",
     "text": [
      "Gimme a number: 4\n",
      "1307674368000\n",
      "15\n",
      "14\n",
      "13\n",
      "12\n",
      "11\n",
      "10\n",
      "9\n",
      "8\n",
      "7\n",
      "6\n",
      "5\n",
      "4\n",
      "3\n",
      "2\n",
      "1\n",
      "0\n"
     ]
    }
   ],
   "source": [
    "#Task D\n",
    "#Process: \n",
    "#1) need to define a function that computes the factorial of (N-1)\n",
    "#Here N = 15, but otherwise a userinput for N could be used instead\n",
    "#2) define a function that will perform the sum up all the values downwards from N using the formula given in the question\n",
    "#3) the function will only stop when N = 1, as (1-1)! is 0, invalid\n",
    "#4) the function will recall itself in the loop for N-1 each time, until N ==1 is reached\n",
    "\n",
    "\n",
    "#6th digit of CID = 9\n",
    "a = 9\n",
    "N = 15\n",
    "\n",
    "#factorial function up to N-1\n",
    "def factorial(N):\n",
    "    Rf = range(1,N+1)\n",
    "    f = 1\n",
    "    for i in Rf:\n",
    "        f = f * i\n",
    "    return f\n",
    "\n",
    "n = int(input('Gimme a number: '))\n",
    "res = factorial(N)\n",
    "print(res)\n",
    "    \n",
    "def S(N):\n",
    "    sum = 0 \n",
    "    if N == 0: \n",
    "        print(sum)\n",
    "  \n",
    "    else:\n",
    "        print(N)\n",
    "        sum = sum + (N**a)/factorial(N)\n",
    "        S(N-1)\n",
    "S(N)\n",
    "\n",
    "\n",
    "\n",
    "\n"
   ]
  },
  {
   "cell_type": "code",
   "execution_count": 12,
   "metadata": {},
   "outputs": [
    {
     "name": "stdout",
     "output_type": "stream",
     "text": [
      "[0, 0, 0, 0, 0, 0, 0, 0]\n",
      "[0, 1, 0, 0, 0, 0, 1, 0]\n",
      "[0, 0, 7, 0, 0, 7, 0, 0]\n",
      "[0, 0, 0, 0, 0, 0, 0, 0]\n",
      "[0, 0, 0, 4, 4, 0, 0, 0]\n",
      "[0, 0, 9, 0, 0, 9, 0, 0]\n",
      "[0, 9, 0, 0, 0, 0, 9, 0]\n",
      "[5, 0, 0, 0, 0, 0, 0, 5]\n",
      "[0]\n",
      "[1]\n",
      "[7]\n",
      "[0]\n",
      "[4]\n",
      "[9]\n",
      "[9]\n",
      "[5]\n"
     ]
    }
   ],
   "source": [
    "#Task A:\n",
    "#Process:\n",
    "#need to create a function that creates the matrix pattern upon a user input\n",
    "#the user inputs the size of the matrix\n",
    "#then create a function that computes the c=(AAT).b matrix \n",
    "\n",
    "#Create the 8 x 8 matrix A\n",
    "A = [ [0,0,0,0,0,0,0,0] , [0,1,0,0,0,0,1,0] , [0,0,7,0,0,7,0,0] , [0,0,0,0,0,0,0,0], [0,0,0,4,4,0,0,0], [0,0,9,0,0,9,0,0], [0,9,0,0,0,0,9,0], [5,0,0,0,0,0,0,5]]\n",
    "for row in A:\n",
    "    print(row)\n",
    "\n",
    "#Create the matrix B\n",
    "\n",
    "b = [[0],[1],[7],[0],[4],[9],[9],[5]]\n",
    "for row in b:\n",
    "    print(row)\n",
    "\n",
    "    \n",
    "#to form the Transpose of A, A^T\n"
   ]
  },
  {
   "cell_type": "code",
   "execution_count": null,
   "metadata": {},
   "outputs": [],
   "source": [
    "N = int(input('N:  '))\n",
    "RN = range(0,N)\n",
    "A = [] # initialise the matrix as a list\n",
    "for i in RN:\n",
    "    # form i-th row\n",
    "    row = [] # initialise i-th row as a list\n",
    "    for j in RN:\n",
    "        # add j-th column into i-th row\n",
    "        if j == i or j == N-i-1:\n",
    "            row += [1]\n",
    "        else:\n",
    "            row += [0]\n",
    "    # add row i-th to the matrix A\n",
    "    A += [row]\n",
    "\n",
    "for row in A:\n",
    "    print(row) "
   ]
  },
  {
   "cell_type": "code",
   "execution_count": 37,
   "metadata": {},
   "outputs": [
    {
     "ename": "TypeError",
     "evalue": "list indices must be integers or slices, not str",
     "output_type": "error",
     "traceback": [
      "\u001b[0;31m---------------------------------------------------------------------------\u001b[0m",
      "\u001b[0;31mTypeError\u001b[0m                                 Traceback (most recent call last)",
      "\u001b[0;32m<ipython-input-37-95b08fd51bd8>\u001b[0m in \u001b[0;36m<module>\u001b[0;34m\u001b[0m\n\u001b[1;32m     25\u001b[0m \u001b[0;34m\u001b[0m\u001b[0m\n\u001b[1;32m     26\u001b[0m     \u001b[0;32mfor\u001b[0m \u001b[0mj\u001b[0m \u001b[0;32min\u001b[0m \u001b[0mRw\u001b[0m\u001b[0;34m:\u001b[0m\u001b[0;34m\u001b[0m\u001b[0;34m\u001b[0m\u001b[0m\n\u001b[0;32m---> 27\u001b[0;31m         \u001b[0;32mif\u001b[0m \u001b[0mCases\u001b[0m\u001b[0;34m[\u001b[0m\u001b[0mi\u001b[0m\u001b[0;34m]\u001b[0m \u001b[0;34m!=\u001b[0m \u001b[0;34m[\u001b[0m\u001b[0mj\u001b[0m\u001b[0;34m]\u001b[0m\u001b[0;34m:\u001b[0m\u001b[0;34m\u001b[0m\u001b[0;34m\u001b[0m\u001b[0m\n\u001b[0m\u001b[1;32m     28\u001b[0m             \u001b[0mA\u001b[0m \u001b[0;34m=\u001b[0m \u001b[0mCases\u001b[0m\u001b[0;34m[\u001b[0m\u001b[0mi\u001b[0m\u001b[0;34m]\u001b[0m\u001b[0;34m\u001b[0m\u001b[0;34m\u001b[0m\u001b[0m\n\u001b[1;32m     29\u001b[0m \u001b[0;34m\u001b[0m\u001b[0m\n",
      "\u001b[0;31mTypeError\u001b[0m: list indices must be integers or slices, not str"
     ]
    }
   ],
   "source": [
    "#Task C\n",
    "#Process:\n",
    "#read the covid-19 file\n",
    "#1) Weeks are every 15th position from the start\n",
    "#2) Use a range to eliminate every 15th position, leaving just alternating days and infections\n",
    "#3) using a range to sum every other element (the number of infections)\n",
    "\n",
    "\n",
    "#open the file, read it as Cases\n",
    "fc = open('CV19.txt','r')\n",
    "Cases = fc.readlines()\n",
    "fc.close()\n",
    "\n",
    "    \n",
    "N = len(Cases)\n",
    "Rw = range(1,N,15)\n",
    "A = []\n",
    "\n",
    "\n",
    "#the range (1,N,15) = 1, 16, 31\n",
    "#when the position of elements in cases = the position 1, 16, 31, should ignore it\n",
    "#if it does not, add it to the list\n",
    "for i in Cases:\n",
    "    A = []\n",
    "    \n",
    "    for j in Rw:\n",
    "        if Cases[i] != [j]:\n",
    "            A = Cases[i]\n",
    "            \n",
    "#then can take every other element of the list, the no. of infections and can add them together \n",
    "\n",
    "\n",
    "            "
   ]
  },
  {
   "cell_type": "code",
   "execution_count": 43,
   "metadata": {},
   "outputs": [
    {
     "name": "stdout",
     "output_type": "stream",
     "text": [
      "196\n",
      "[['Week 1\\n', '2020-03-02\\n', '3\\n', '2020-03-03\\n', '12\\n', '2020-03-04\\n', '38\\n', '2020-03-05\\n', '29\\n', '2020-03-06\\n', '49\\n', '2020-03-07\\n', '43\\n', '2020-03-08\\n', '67\\n', 'Week 2\\n', '2020-03-09\\n', '46\\n', '2020-03-10\\n', '50\\n', '2020-03-11\\n', '87\\n', '2020-03-12\\n', '134\\n', '2020-03-13\\n', '208\\n', '2020-03-14\\n', '342\\n', '2020-03-15\\n', '251\\n', 'Week 3\\n', '2020-03-16\\n', '152\\n', '2020-03-17\\n', '407\\n', '2020-03-18\\n', '676\\n', '2020-03-19\\n', '647\\n', '2020-03-20\\n', '706\\n', '2020-03-21\\n', '1035\\n', '2020-03-22\\n', '0\\n', 'Week 4\\n', '2020-03-23\\n', '669\\n', '2020-03-24\\n', '967\\n', '2020-03-25\\n', '1427\\n', '2020-03-26\\n', '1452\\n', '2020-03-27\\n', '2129\\n', '2020-03-28\\n', '2885\\n', '2020-03-29\\n', '2546\\n', 'Week 5\\n', '2020-03-30\\n', '2433\\n', '2020-03-31\\n', '2619\\n', '2020-04-01\\n', '3009\\n', '2020-04-02\\n', '4324\\n', '2020-04-03\\n', '4244\\n', '2020-04-04\\n', '4450\\n', '2020-04-05\\n', '3735\\n', 'Week 6\\n', '2020-04-06\\n', '5903\\n', '2020-04-07\\n', '3802\\n', '2020-04-08\\n', '3634\\n', '2020-04-09\\n', '5491\\n', '2020-04-10\\n', '4344\\n', '2020-04-11\\n', '5195\\n', '2020-04-12\\n', '8719\\n', 'Week 7\\n', '2020-04-13\\n', '5288\\n', '2020-04-14\\n', '4342\\n', '2020-04-15\\n', '5252\\n', '2020-04-16\\n', '4603\\n', '2020-04-17\\n', '4617\\n', '2020-04-18\\n', '5599\\n', '2020-04-19\\n', '5525\\n', 'Week 8\\n', '2020-04-20\\n', '5850\\n', '2020-04-21\\n', '4676\\n', '2020-04-22\\n', '4301\\n', '2020-04-23\\n', '4451\\n', '2020-04-24\\n', '4583\\n', '2020-04-25\\n', '5386\\n', '2020-04-26\\n', '4913\\n', 'Week 9\\n', '2020-04-27\\n', '4463\\n', '2020-04-28\\n', '4309\\n', '2020-04-29\\n', '3996\\n', '2020-04-30\\n', '4076\\n', '2020-05-01\\n', '6032\\n', '2020-05-02\\n', '6201\\n', '2020-05-03\\n', '4806\\n', 'Week 10\\n', '2020-05-04\\n', '4339\\n', '2020-05-05\\n', '3985\\n', '2020-05-06\\n', '4406\\n', '2020-05-07\\n', '6211\\n', '2020-05-08\\n', '5514\\n', '2020-05-09\\n', '4649\\n', '2020-05-10\\n', '3896\\n', 'Week 11\\n', '2020-05-11\\n', '3923\\n', '2020-05-12\\n', '3877\\n', '2020-05-13\\n', '3403\\n', '2020-05-14\\n', '3242\\n', '2020-05-15\\n', '3446\\n', '2020-05-16\\n', '3560\\n', '2020-05-17\\n', '3450\\n', 'Week 12\\n', '2020-05-18\\n', '3534\\n', '2020-05-19\\n', '2711\\n', '2020-05-20\\n', '2412\\n', '2020-05-21\\n', '0\\n', '2020-05-22\\n', '2615\\n', '2020-05-23\\n', '3287\\n', '2020-05-24\\n', '2959\\n', 'Week 13\\n', '2020-05-25\\n', '2405\\n', '2020-05-26\\n', '1625\\n', '2020-05-27\\n', '4043\\n', '2020-05-28\\n', '2013\\n', '2020-05-29\\n', '1887\\n', '2020-05-30\\n', '2095\\n', '2020-05-31\\n', '1604\\n', '\\n']]\n"
     ]
    }
   ],
   "source": [
    "\n",
    "fc = open('CV19.txt','r')\n",
    "Cases = fc.readlines()\n",
    "fc.close()\n",
    "\n",
    "    \n",
    "N = len(Cases)\n",
    "print(N)\n",
    "Rw = range(1,N,15)\n",
    "\n",
    "for i in Cases:\n",
    "    A = []\n",
    "    for j in Rw:\n",
    "        if i != j:\n",
    "            A = [Cases]\n",
    "\n",
    "print(A)\n",
    "\n"
   ]
  },
  {
   "cell_type": "code",
   "execution_count": 44,
   "metadata": {},
   "outputs": [
    {
     "name": "stdout",
     "output_type": "stream",
     "text": [
      "N:  4\n"
     ]
    },
    {
     "ename": "TypeError",
     "evalue": "'int' object is not iterable",
     "output_type": "error",
     "traceback": [
      "\u001b[0;31m---------------------------------------------------------------------------\u001b[0m",
      "\u001b[0;31mTypeError\u001b[0m                                 Traceback (most recent call last)",
      "\u001b[0;32m<ipython-input-44-70b5149212a3>\u001b[0m in \u001b[0;36m<module>\u001b[0;34m\u001b[0m\n\u001b[1;32m     10\u001b[0m         \u001b[0;31m# add j-th column into i-th row\u001b[0m\u001b[0;34m\u001b[0m\u001b[0;34m\u001b[0m\u001b[0;34m\u001b[0m\u001b[0m\n\u001b[1;32m     11\u001b[0m         \u001b[0;32mif\u001b[0m \u001b[0mj\u001b[0m \u001b[0;34m==\u001b[0m \u001b[0mi\u001b[0m \u001b[0;32mor\u001b[0m \u001b[0mj\u001b[0m \u001b[0;34m==\u001b[0m \u001b[0mN\u001b[0m\u001b[0;34m-\u001b[0m\u001b[0mi\u001b[0m\u001b[0;34m-\u001b[0m\u001b[0;36m1\u001b[0m\u001b[0;34m:\u001b[0m\u001b[0;34m\u001b[0m\u001b[0;34m\u001b[0m\u001b[0m\n\u001b[0;32m---> 12\u001b[0;31m             \u001b[0mrow\u001b[0m \u001b[0;34m+=\u001b[0m \u001b[0mCID\u001b[0m\u001b[0;34m[\u001b[0m\u001b[0mi\u001b[0m\u001b[0;34m]\u001b[0m\u001b[0;34m\u001b[0m\u001b[0;34m\u001b[0m\u001b[0m\n\u001b[0m\u001b[1;32m     13\u001b[0m         \u001b[0;32melse\u001b[0m\u001b[0;34m:\u001b[0m\u001b[0;34m\u001b[0m\u001b[0;34m\u001b[0m\u001b[0m\n\u001b[1;32m     14\u001b[0m             \u001b[0mrow\u001b[0m \u001b[0;34m+=\u001b[0m \u001b[0;34m[\u001b[0m\u001b[0;36m0\u001b[0m\u001b[0;34m]\u001b[0m\u001b[0;34m\u001b[0m\u001b[0;34m\u001b[0m\u001b[0m\n",
      "\u001b[0;31mTypeError\u001b[0m: 'int' object is not iterable"
     ]
    }
   ],
   "source": [
    "#Task A:\n",
    "CID = [0,1,7,0,4,9,9,5]\n",
    "N = int(input('N:  '))\n",
    "RN = range(0,N)\n",
    "A = [] \n",
    "for i in RN:\n",
    "    \n",
    "    row = [] \n",
    "    for j in RN:\n",
    "       \n",
    "        if j == i or j == N-i-1:\n",
    "            row += CID[i]\n",
    "        else:\n",
    "            row += [0]\n",
    "    \n",
    "    A += [row]\n",
    "\n",
    "for row in A:\n",
    "    print(row) \n"
   ]
  },
  {
   "cell_type": "code",
   "execution_count": null,
   "metadata": {},
   "outputs": [],
   "source": [
    "#Task B: ant \n",
    "import random as rn\n",
    "import math as mt\n",
    "import matplotlib.pyplot as pl\n",
    "\n",
    "#move the ant until it hits the wall or exit\n",
    "#needs a while loop\n",
    "def moveant():\n",
    "    \n",
    "    move = False\n",
    "    while (not move)\n",
    "\n",
    "#create a while loop where continue to update until the ant hits the exit line\n",
    "\n",
    "#plot the doughnut: one is radius 10, one 20\n",
    "\n",
    "#\n"
   ]
  },
  {
   "cell_type": "code",
   "execution_count": null,
   "metadata": {},
   "outputs": [],
   "source": []
  },
  {
   "cell_type": "code",
   "execution_count": null,
   "metadata": {},
   "outputs": [],
   "source": []
  }
 ],
 "metadata": {
  "kernelspec": {
   "display_name": "Python 3",
   "language": "python",
   "name": "python3"
  },
  "language_info": {
   "codemirror_mode": {
    "name": "ipython",
    "version": 3
   },
   "file_extension": ".py",
   "mimetype": "text/x-python",
   "name": "python",
   "nbconvert_exporter": "python",
   "pygments_lexer": "ipython3",
   "version": "3.7.4"
  }
 },
 "nbformat": 4,
 "nbformat_minor": 2
}
