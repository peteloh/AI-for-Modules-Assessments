{
  "cells": [
    {
      "cell_type": "markdown",
      "metadata": {
        "id": "CfysGKm55d0A"
      },
      "source": [
        "# **Main Code**\n",
        "*Updated 08/12/2021*\n",
        "\n",
        "### ✍ **Patch Notes v1.0**\n",
        "\n",
        "**Format**\n",
        "- Python code (.py)\n",
        "- Code contains a function\n",
        "- Predefined function name for model answer\n",
        "- Need to manually put in testing inputs that coresponds to func input\n",
        "- Function to read any specific line\n",
        "\n",
        "**Utility**\n",
        "- currently only works for functions\n",
        "- Get Model Answer\n",
        "- Compare Model Answer with students\n",
        "- Tell whether the program runs\n",
        "- Count number of corrects\n",
        "- Display in readable format\n",
        "\n",
        "---\n",
        "\n",
        "### ✍ **Patch Notes v2.0**\n",
        "\n",
        "**Format**\n",
        "- upload the codes in the correct places\n",
        "- codes for teacher, test inputs and students can be any name\n",
        "- Requires test input file \n",
        "    1. For **function**, tests list is a 2D list (number of different tests & test inputs)\n",
        "    2. For **non-function**, requires input of variables to check (eg. [\"A\", \"B\"])\n",
        "\n",
        "**Utility**\n",
        "- Code does not crash for unsupported format\n",
        "\n",
        "For **function** question\n",
        "- Automatically find function name within `teacher_code`\n",
        "- Generate 'Model Answer' from `teacher_code`\n",
        "- Run the function in student code using test_inputs conditions\n",
        "    1. Doesnt Run: Traceback implementation to save ErrorType error line.\n",
        "    2. Run: Store output vale in dictonary called `codes_output_dict`\n",
        "\n",
        "For **non-function** question\n",
        "- Using the `check_var` specified in `test_inputs`\n",
        "- Store those variable from teacher code for model answer\n",
        "- Store those variable from student code in `student_output_dict`.\n",
        "\n",
        "\n",
        "**Other Notes**\n",
        "- Created `teacher_code` and `test_input` files for non-function format.\n",
        "\n",
        "---\n",
        "\n",
        "### ✍ **Patch Notes v2.1**\n",
        "\n",
        "**New Updates**\n",
        "\n",
        "- Since the previous year codes has not been set yet, more sample codes has been recreated to show the `student_list` function more clearly.\n",
        "\n",
        "- Categorise results into 3 categories: \n",
        "\n",
        "      \"0\" = code does not run\n",
        "      \"1\" = code runs but is incorrect\n",
        "      \"2\" = code runs and is correct\n",
        "\n",
        "- Created custom functions:\n",
        "      \n",
        "      print_result(student_filename) \n",
        "    This function prints the detailed results for the specific student.\n",
        "      \n",
        "      student_list(category_number, student_codes)\n",
        "    This function lists out all the student that lies in that result category\n",
        "    \n",
        "\n",
        "---\n",
        "### ✍ **Patch Notes v2.2**\n",
        "\n",
        "**New Updates**\n",
        "\n",
        "- Created a function that detects while loop from any submitted code.\n",
        "- After while loop is detected, the code automatically add lines of codes to count the number of times the loop ran.\n",
        "- Add print at the end of code to display the loop count.\n",
        "- This appies for all the while loop in the code.\n",
        "---\n",
        "\n",
        "# 📃 **Roadmap** \n",
        "*Since 30/11/2021*\n",
        "\n",
        "✅ Error Detection :\n",
        "  - detect what kind of error when unable to run\n",
        "  - which line error occured on \n",
        "\n",
        "✅ Situation where code is not in a function format\n",
        "  - How to detect what to check when there is no clear 'return'\n",
        "\n",
        "✅ Comparing model answer vs students\n",
        "  - Seperate into three categories (1) Perfect (2) Run but logic error (3) Does not run\n",
        "\n",
        "⬜ Dealing with Logic Error\n",
        "  - similarity of output with perfect output? (ML?)\n",
        "  - how can automated system help marker in any way.\n",
        "\n",
        "⬜ ***(New)*** Creating interface for interaction with inputs by teacher. \n",
        "  - Function that dispaly desired result_category ✅ \n",
        "        def filter(results, result_category)\n",
        "\n",
        "  - Function that dispaly all data collected on 1 student code ✅ \n",
        "        def show_detailed_results(student) \n",
        "\n",
        "  - Other desirable functions # still underdevelopment\n",
        "  - Storing the results and using else where?\n",
        "  \n",
        "⬜ ***(New)*** Better Result Visualisation (Final Stages of Program)\n",
        "  - Maybe a popup application with interactive user interface\n",
        "  - Choose what function to call and put down inpupts\n",
        "  - Better output format.\n",
        "\n",
        "\n"
      ]
    },
    {
      "cell_type": "markdown",
      "metadata": {
        "id": "YNqnIwXA1wUx"
      },
      "source": [
        "################################################################################\n",
        "\n",
        "## **Function Question Example**\n",
        "*Reference: ME1 Computing Progress Test (Iteration 1) Q3*\n",
        "\n",
        "`Write a function, Flipping, in the space below, that receives a list of items, and returns the same list in reverse order (flipped positions). (Max 6 lines of codes)`\n",
        "\n",
        "## **Not Function Question Example**\n",
        "*Reference: ME1 Computing Exercise Sheet 2 Task A1*\n",
        "\n",
        "`Create manually two arrays A and B, with integer values from 10 to 20 and from \n",
        "20 to 30, respectively`\n",
        "\n",
        "\n",
        "\n",
        "\n"
      ]
    },
    {
      "cell_type": "code",
      "execution_count": null,
      "metadata": {
        "colab": {
          "base_uri": "https://localhost:8080/"
        },
        "id": "a7EMxeX02nUm",
        "outputId": "6f36a2ee-5102-4eeb-c9f2-a15e843bd079"
      },
      "outputs": [
        {
          "name": "stdout",
          "output_type": "stream",
          "text": [
            "Once deleted, variables cannot be recovered. Proceed (y/[n])? y\n"
          ]
        }
      ],
      "source": [
        "# Hard Reset\n",
        "%reset"
      ]
    },
    {
      "cell_type": "code",
      "execution_count": null,
      "metadata": {
        "id": "pQZjtUo1TjVr"
      },
      "outputs": [],
      "source": [
        "from IPython.display import Markdown, display\n",
        "from google.colab import files\n",
        "import os.path\n",
        "import sys, traceback\n",
        "\n",
        "def printmd(string):\n",
        "    display(Markdown(string))\n",
        "\n",
        "def clear_files():\n",
        "  !rm *.py\n",
        "  return\n",
        "\n",
        "\"\"\"\n",
        "Import files in batches:\n",
        "    1. upload teacher code (can be named anything)\n",
        "    2. upload test_inputs (consist of testing inputs for model function and teacher code (prenamed: \"tests\")\n",
        "    3. upload any amount of student codes (function name should correspond with teacher_code)\n",
        "\n",
        "Returns:\n",
        "    file name of teacher_code (string), test_inputs (string), student_codes (list of string)\n",
        "\"\"\"\n",
        "def import_files():\n",
        "  printmd('Upload **teacher code file** here')\n",
        "  uploaded1 = files.upload()\n",
        "  # take only first code\n",
        "  uploaded1_keys = []\n",
        "  for key in uploaded1.keys():\n",
        "      uploaded1_keys += [str(key)]\n",
        "  teacher_code = uploaded1_keys[0]\n",
        "  print('...')\n",
        "\n",
        "  printmd('Upload **test input file** here')\n",
        "  uploaded2 = files.upload()\n",
        "  uploaded2_keys = []\n",
        "  for key in uploaded2.keys():\n",
        "      uploaded2_keys += [str(key)]\n",
        "  test_inputs = uploaded2_keys[0]\n",
        "  print('...')\n",
        "\n",
        "  printmd('Upload code files of **all students** here')\n",
        "  uploaded3 = files.upload()\n",
        "  student_codes = []\n",
        "  for key in uploaded3.keys():\n",
        "      student_codes += [str(key)]\n",
        "\n",
        "  return teacher_code, test_inputs, student_codes\n",
        "\n",
        "def find_function_name(teacher_code):\n",
        "    found_function = 0\n",
        "    function_name = \"function not found\"\n",
        "    f = open(teacher_code)\n",
        "    lines=f.readlines()\n",
        "    for i in range(0,len(lines)):\n",
        "        if lines[i].find(\"def\") != -1:\n",
        "            start = 4 # function name starts at 5th character [def + space + function name]\n",
        "            for j in range(4,len(lines[i])):\n",
        "                if lines[i][j] == \"(\" :\n",
        "                    end = j\n",
        "                    function_name = lines[i][start:end]\n",
        "                    found_function = 1\n",
        "                    break\n",
        "            break\n",
        "    return found_function ,function_name\n",
        "\n",
        "def run_function(filename):\n",
        "    import test_inputs\n",
        "    exec(open(filename).read())\n",
        "    result = []\n",
        "    for test in test_inputs.tests:\n",
        "            # tests are defined in test_input code.\n",
        "            # function name was found using func_name\n",
        "            result += [locals()[function_name](test)]\n",
        "    return result\n",
        "\n",
        "def run_file(filename):\n",
        "    # the following imports check_var\n",
        "    exec(open(test_inputs).read())\n",
        "    exec(open(filename).read())\n",
        "    result = []\n",
        "    for var in check_var:\n",
        "        result += [locals()[var]]\n",
        "    return result\n",
        "\n",
        "def generate_model_answer(teacher_code, test_inputs, found_function):\n",
        "    print(\"Generating model answers...\")\n",
        "    print(\"...\")\n",
        "    if found_function == 1:\n",
        "        model_answer = run_function(teacher_code)\n",
        "        print(\"Results =\" + str(model_answer))\n",
        "    else:\n",
        "        model_answer = run_file(teacher_code)\n",
        "    return model_answer\n",
        "\n",
        "# creates students_dict consisting of student file names and results\n",
        "def generate_student_outputs(student_codes, test_inputs, found_function):\n",
        "    output_dict = {}\n",
        "    for code in student_codes:\n",
        "        print(\"\\n\")\n",
        "        print(\"Testing \" + str(code))\n",
        "        print(\"...\")\n",
        "        if found_function == 1:\n",
        "            try:\n",
        "                output_dict[code] = run_function(code)\n",
        "                print(\"Results =\" + str(output_dict[code]))\n",
        "            except:\n",
        "                error_tb = traceback.format_exc()\n",
        "                output_dict[code] = \"Error \\n\" + str(error_tb)\n",
        "                print(\"ERROR: Cannot run \" + str(code))\n",
        "                print(error_tb)\n",
        "        else:\n",
        "            try:\n",
        "                output_dict[code] = run_file(code)\n",
        "                print(\"Results =\" + str(output_dict[code]))\n",
        "            except:\n",
        "                error_tb = traceback.format_exc()\n",
        "                output_dict[code] = \"Error \\n\" + str(error_tb)\n",
        "                print(\"ERROR: Cannot run \" + str(code))\n",
        "                print(error_tb)\n",
        "    return output_dict\n",
        "\n",
        "def categorise_results(model_answer,student_codes, output_dict):\n",
        "    result_dict = {}\n",
        "    for student in output_dict:\n",
        "        if output_dict[student] == model_answer:\n",
        "            result_dict[student] = 2  # Run and correct\n",
        "        elif \"Error\" in output_dict[student]:\n",
        "            result_dict[student] = 0  # Does not Run\n",
        "        else:\n",
        "            result_dict[student] = 1  # Run but incorrect\n",
        "    return result_dict"
      ]
    },
    {
      "cell_type": "code",
      "execution_count": null,
      "metadata": {
        "colab": {
          "base_uri": "https://localhost:8080/",
          "height": 1000,
          "resources": {
            "http://localhost:8080/nbextensions/google.colab/files.js": {
              "data": "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",
              "headers": [
                [
                  "content-type",
                  "application/javascript"
                ]
              ],
              "ok": true,
              "status": 200,
              "status_text": ""
            }
          }
        },
        "id": "OpKIAkPOUWfa",
        "outputId": "26aff28f-73ee-4ec7-93c4-e0d46f891245"
      },
      "outputs": [
        {
          "name": "stdout",
          "output_type": "stream",
          "text": [
            "rm: cannot remove '*.py': No such file or directory\n"
          ]
        },
        {
          "data": {
            "text/markdown": [
              "Upload **teacher code file** here"
            ],
            "text/plain": [
              "<IPython.core.display.Markdown object>"
            ]
          },
          "metadata": {},
          "output_type": "display_data"
        },
        {
          "data": {
            "text/html": [
              "\n",
              "     <input type=\"file\" id=\"files-a138b7dd-4a82-4e36-bfab-5158c9d6a510\" name=\"files[]\" multiple disabled\n",
              "        style=\"border:none\" />\n",
              "     <output id=\"result-a138b7dd-4a82-4e36-bfab-5158c9d6a510\">\n",
              "      Upload widget is only available when the cell has been executed in the\n",
              "      current browser session. Please rerun this cell to enable.\n",
              "      </output>\n",
              "      <script src=\"/nbextensions/google.colab/files.js\"></script> "
            ],
            "text/plain": [
              "<IPython.core.display.HTML object>"
            ]
          },
          "metadata": {},
          "output_type": "display_data"
        },
        {
          "name": "stdout",
          "output_type": "stream",
          "text": [
            "Saving teacher_code.py to teacher_code.py\n",
            "...\n"
          ]
        },
        {
          "data": {
            "text/markdown": [
              "Upload **test input file** here"
            ],
            "text/plain": [
              "<IPython.core.display.Markdown object>"
            ]
          },
          "metadata": {},
          "output_type": "display_data"
        },
        {
          "data": {
            "text/html": [
              "\n",
              "     <input type=\"file\" id=\"files-40a42e9c-5c4c-4d43-8785-eb64be0c34ed\" name=\"files[]\" multiple disabled\n",
              "        style=\"border:none\" />\n",
              "     <output id=\"result-40a42e9c-5c4c-4d43-8785-eb64be0c34ed\">\n",
              "      Upload widget is only available when the cell has been executed in the\n",
              "      current browser session. Please rerun this cell to enable.\n",
              "      </output>\n",
              "      <script src=\"/nbextensions/google.colab/files.js\"></script> "
            ],
            "text/plain": [
              "<IPython.core.display.HTML object>"
            ]
          },
          "metadata": {},
          "output_type": "display_data"
        },
        {
          "name": "stdout",
          "output_type": "stream",
          "text": [
            "Saving test_inputs.py to test_inputs.py\n",
            "...\n"
          ]
        },
        {
          "data": {
            "text/markdown": [
              "Upload code files of **all students** here"
            ],
            "text/plain": [
              "<IPython.core.display.Markdown object>"
            ]
          },
          "metadata": {},
          "output_type": "display_data"
        },
        {
          "data": {
            "text/html": [
              "\n",
              "     <input type=\"file\" id=\"files-09e8cf4d-8878-477c-9b52-a4552fc389a2\" name=\"files[]\" multiple disabled\n",
              "        style=\"border:none\" />\n",
              "     <output id=\"result-09e8cf4d-8878-477c-9b52-a4552fc389a2\">\n",
              "      Upload widget is only available when the cell has been executed in the\n",
              "      current browser session. Please rerun this cell to enable.\n",
              "      </output>\n",
              "      <script src=\"/nbextensions/google.colab/files.js\"></script> "
            ],
            "text/plain": [
              "<IPython.core.display.HTML object>"
            ]
          },
          "metadata": {},
          "output_type": "display_data"
        },
        {
          "name": "stdout",
          "output_type": "stream",
          "text": [
            "Saving exceptionCode1.py to exceptionCode1.py\n",
            "Saving exceptionCode2.py to exceptionCode2.py\n",
            "Saving fullMarkCode1.py to fullMarkCode1.py\n",
            "Saving fullMarkCode2.py to fullMarkCode2.py\n",
            "Saving fullMarkCode3.py to fullMarkCode3.py\n",
            "Saving logicErrorCode1.py to logicErrorCode1.py\n",
            "Finding function in teacher_code.py\n",
            "...\n",
            "found function = 1\n"
          ]
        },
        {
          "data": {
            "text/markdown": [
              "function name = **flip**"
            ],
            "text/plain": [
              "<IPython.core.display.Markdown object>"
            ]
          },
          "metadata": {},
          "output_type": "display_data"
        },
        {
          "name": "stdout",
          "output_type": "stream",
          "text": [
            "...\n",
            "Generating model answers...\n",
            "...\n",
            "Results =[[4, 3, 2, 1], [0, 0, 2, 1], [2, 1, -5, -1]]\n",
            "\n",
            "\n",
            "Testing exceptionCode1.py\n",
            "...\n",
            "ERROR: Cannot run exceptionCode1.py\n",
            "Traceback (most recent call last):\n",
            "  File \"<ipython-input-1-fe0939404086>\", line 103, in generate_student_outputs\n",
            "    output_dict[code] = run_function(code)\n",
            "  File \"<ipython-input-1-fe0939404086>\", line 72, in run_function\n",
            "    result += [locals()[function_name](test)]\n",
            "  File \"<string>\", line 7, in flip\n",
            "NameError: name 'flippedd' is not defined\n",
            "\n",
            "\n",
            "\n",
            "Testing exceptionCode2.py\n",
            "...\n",
            "ERROR: Cannot run exceptionCode2.py\n",
            "Traceback (most recent call last):\n",
            "  File \"<ipython-input-1-fe0939404086>\", line 103, in generate_student_outputs\n",
            "    output_dict[code] = run_function(code)\n",
            "  File \"<ipython-input-1-fe0939404086>\", line 72, in run_function\n",
            "    result += [locals()[function_name](test)]\n",
            "  File \"<string>\", line 7, in flip\n",
            "NameError: name 'flippedd' is not defined\n",
            "\n",
            "\n",
            "\n",
            "Testing fullMarkCode1.py\n",
            "...\n",
            "Results =[[4, 3, 2, 1], [0, 0, 2, 1], [2, 1, -5, -1]]\n",
            "\n",
            "\n",
            "Testing fullMarkCode2.py\n",
            "...\n",
            "Results =[[4, 3, 2, 1], [0, 0, 2, 1], [2, 1, -5, -1]]\n",
            "\n",
            "\n",
            "Testing fullMarkCode3.py\n",
            "...\n",
            "Results =[[4, 3, 2, 1], [0, 0, 2, 1], [2, 1, -5, -1]]\n",
            "\n",
            "\n",
            "Testing logicErrorCode1.py\n",
            "...\n",
            "Results =[['random stuff'], ['random stuff'], ['random stuff']]\n"
          ]
        },
        {
          "data": {
            "text/markdown": [
              "**Final Results**"
            ],
            "text/plain": [
              "<IPython.core.display.Markdown object>"
            ]
          },
          "metadata": {},
          "output_type": "display_data"
        },
        {
          "name": "stdout",
          "output_type": "stream",
          "text": [
            "---\n",
            "exceptionCode1.py\n",
            "\u001b[1m currect answer = \u001b[0m[[4, 3, 2, 1], [0, 0, 2, 1], [2, 1, -5, -1]]\n",
            "\u001b[1m student output = \u001b[0mError \n",
            "Traceback (most recent call last):\n",
            "  File \"<ipython-input-1-fe0939404086>\", line 103, in generate_student_outputs\n",
            "    output_dict[code] = run_function(code)\n",
            "  File \"<ipython-input-1-fe0939404086>\", line 72, in run_function\n",
            "    result += [locals()[function_name](test)]\n",
            "  File \"<string>\", line 7, in flip\n",
            "NameError: name 'flippedd' is not defined\n",
            "\n",
            "\u001b[1m result category = \u001b[0m0\n",
            "---\n",
            "exceptionCode2.py\n",
            "\u001b[1m currect answer = \u001b[0m[[4, 3, 2, 1], [0, 0, 2, 1], [2, 1, -5, -1]]\n",
            "\u001b[1m student output = \u001b[0mError \n",
            "Traceback (most recent call last):\n",
            "  File \"<ipython-input-1-fe0939404086>\", line 103, in generate_student_outputs\n",
            "    output_dict[code] = run_function(code)\n",
            "  File \"<ipython-input-1-fe0939404086>\", line 72, in run_function\n",
            "    result += [locals()[function_name](test)]\n",
            "  File \"<string>\", line 7, in flip\n",
            "NameError: name 'flippedd' is not defined\n",
            "\n",
            "\u001b[1m result category = \u001b[0m0\n",
            "---\n",
            "fullMarkCode1.py\n",
            "\u001b[1m currect answer = \u001b[0m[[4, 3, 2, 1], [0, 0, 2, 1], [2, 1, -5, -1]]\n",
            "\u001b[1m student output = \u001b[0m[[4, 3, 2, 1], [0, 0, 2, 1], [2, 1, -5, -1]]\n",
            "\u001b[1m result category = \u001b[0m2\n",
            "---\n",
            "fullMarkCode2.py\n",
            "\u001b[1m currect answer = \u001b[0m[[4, 3, 2, 1], [0, 0, 2, 1], [2, 1, -5, -1]]\n",
            "\u001b[1m student output = \u001b[0m[[4, 3, 2, 1], [0, 0, 2, 1], [2, 1, -5, -1]]\n",
            "\u001b[1m result category = \u001b[0m2\n",
            "---\n",
            "fullMarkCode3.py\n",
            "\u001b[1m currect answer = \u001b[0m[[4, 3, 2, 1], [0, 0, 2, 1], [2, 1, -5, -1]]\n",
            "\u001b[1m student output = \u001b[0m[[4, 3, 2, 1], [0, 0, 2, 1], [2, 1, -5, -1]]\n",
            "\u001b[1m result category = \u001b[0m2\n",
            "---\n",
            "logicErrorCode1.py\n",
            "\u001b[1m currect answer = \u001b[0m[[4, 3, 2, 1], [0, 0, 2, 1], [2, 1, -5, -1]]\n",
            "\u001b[1m student output = \u001b[0m[['random stuff'], ['random stuff'], ['random stuff']]\n",
            "\u001b[1m result category = \u001b[0m1\n"
          ]
        }
      ],
      "source": [
        "## MAIN CODE ##\n",
        "\n",
        "# clear previous python files\n",
        "clear_files()\n",
        "\n",
        "# import files and save into 3 batches of filenames\n",
        "teacher_code, test_inputs, student_codes = import_files()\n",
        "\n",
        "# Check if teacher code (exam question) is a function or not\n",
        "found_function, function_name = find_function_name(teacher_code)\n",
        "\n",
        "print(\"Finding function in \" + str(teacher_code))\n",
        "print(\"...\")\n",
        "print(\"found function = \" + str(found_function))\n",
        "printmd(\"function name = **\" + str(function_name) + \"**\")\n",
        "print(\"...\")\n",
        "\n",
        "# create a dictionary to store answers (both model and student answers)  \n",
        "model_answer = generate_model_answer(teacher_code, test_inputs, found_function)\n",
        "output_dict = generate_student_outputs(student_codes, test_inputs, found_function)\n",
        "\n",
        "# create dict to seperate student results into different categories\n",
        "    # result_category = 0  -> code does not run\n",
        "    # result_category = 1  -> code runs but is incorrect\n",
        "    # result_category = 2  -> code runs and is correct\n",
        "\n",
        "result_dict = categorise_results(model_answer,student_codes, output_dict)\n",
        "\n",
        "# dealing with logical errors..\n",
        "\n",
        "\n",
        "\n",
        "# Visualising Results\n",
        "printmd(\"**Final Results**\")\n",
        "for student in student_codes:\n",
        "    print(\"---\")\n",
        "    print(student)\n",
        "    print(\"\\033[1m currect answer = \\033[0m\" + str(model_answer))\n",
        "    print(\"\\033[1m student output = \\033[0m\" + str(output_dict[student]))\n",
        "    print(\"\\033[1m result category = \\033[0m\" + str(result_dict[student]))\n",
        "\n",
        "\n"
      ]
    },
    {
      "cell_type": "markdown",
      "metadata": {
        "id": "CzWPs7-o023s"
      },
      "source": [
        "# **Custom Outputs**"
      ]
    },
    {
      "cell_type": "code",
      "execution_count": null,
      "metadata": {
        "colab": {
          "base_uri": "https://localhost:8080/"
        },
        "id": "8eP-3ORqO5tR",
        "outputId": "f7358dac-4430-4816-b3c9-577c8aa6274b"
      },
      "outputs": [
        {
          "name": "stdout",
          "output_type": "stream",
          "text": [
            "please input student filename here\n",
            "fullMarkCode2.py\n",
            "------------------------------------------------------------------\n",
            "\u001b[1m filename = \u001b[0mfullMarkCode2.py\n",
            "\u001b[1m currect answer = \u001b[0m[[4, 3, 2, 1], [0, 0, 2, 1], [2, 1, -5, -1]]\n",
            "\u001b[1m student output = \u001b[0m[[4, 3, 2, 1], [0, 0, 2, 1], [2, 1, -5, -1]]\n",
            "\u001b[1m result category = \u001b[0m2\n",
            "------------------------------------------------------------------\n"
          ]
        }
      ],
      "source": [
        "# print out results for specefic student\n",
        "\n",
        "def print_result(student_filename):\n",
        "    print(\"------------------------------------------------------------------\")\n",
        "    print(\"\\033[1m filename = \\033[0m\" + student_filename)\n",
        "    print(\"\\033[1m currect answer = \\033[0m\" + str(model_answer))\n",
        "    print(\"\\033[1m student output = \\033[0m\" + str(output_dict[student_filename]))\n",
        "    print(\"\\033[1m result category = \\033[0m\" + str(result_dict[student_filename]))\n",
        "    print(\"------------------------------------------------------------------\")\n",
        "    return\n",
        "\n",
        "# student_full_mark_code.py\n",
        "print(\"please input student filename here\")\n",
        "valid = 0\n",
        "while valid == 0:\n",
        "    student_filename = input()\n",
        "    try:\n",
        "        output_dict[student_filename]\n",
        "        valid = 1\n",
        "    except:\n",
        "        print(\"\\033[1mError:\\033[0m Please input a valid file name \\n\")\n",
        "\n",
        "print_result(student_filename)"
      ]
    },
    {
      "cell_type": "code",
      "execution_count": null,
      "metadata": {
        "colab": {
          "base_uri": "https://localhost:8080/"
        },
        "id": "Wlk11iNG3SMU",
        "outputId": "c2a9169b-9602-43cf-d4e5-a39f1cbdb8f5"
      },
      "outputs": [
        {
          "name": "stdout",
          "output_type": "stream",
          "text": [
            "please input result category number: \n",
            "0 = code does not run \n",
            "1 = code runs but has logical error \n",
            "2 = code runs perfectly \n",
            "1\n",
            "\n",
            "\n",
            "\u001b[1mThe follow codes run but contains logical error: \u001b[0m\n",
            "1. logicErrorCode1.py\n"
          ]
        }
      ],
      "source": [
        "# print out students who are in the category: 0, 1, 2\n",
        "\n",
        "def student_list(category_number, student_codes):\n",
        "\n",
        "    count = 1\n",
        "    for student in student_codes:\n",
        "        if result_dict[student] == category_number:\n",
        "            print(str(count) + \". \" + student)\n",
        "    return\n",
        "\n",
        "print(\"please input result category number: \")\n",
        "print(\"0 = code does not run \")\n",
        "print(\"1 = code runs but has logical error \")\n",
        "print(\"2 = code runs perfectly \")\n",
        "\n",
        "valid = 0\n",
        "while valid == 0:\n",
        "    category_number = int(input())\n",
        "    if category_number == 0:\n",
        "        print(\"\\n\")\n",
        "        print(\"\\033[1mThe follow codes do not run: \\033[0m\")\n",
        "        valid = 1 \n",
        "    elif category_number == 1:\n",
        "        print(\"\\n\")\n",
        "        print(\"\\033[1mThe follow codes run but contains logical error: \\033[0m\")\n",
        "        valid = 1 \n",
        "    elif category_number == 2:\n",
        "        print(\"\\n\")\n",
        "        print(\"\\033[1mThe follow codes runs perfectly: \\033[0m\")\n",
        "        valid = 1 \n",
        "    else:\n",
        "        print(\"\\033[1mError\\033[0m: Please input a valid category number\")\n",
        "\n",
        "student_list(category_number, student_codes)"
      ]
    },
    {
      "cell_type": "code",
      "execution_count": null,
      "metadata": {
        "colab": {
          "base_uri": "https://localhost:8080/",
          "height": 1000,
          "resources": {
            "http://localhost:8080/nbextensions/google.colab/files.js": {
              "data": "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",
              "headers": [
                [
                  "content-type",
                  "application/javascript"
                ]
              ],
              "ok": true,
              "status": 200,
              "status_text": ""
            }
          }
        },
        "id": "LmMJAc3YJH3C",
        "outputId": "52fd0e62-d5ca-48d2-f9cf-a6ede1160d22"
      },
      "outputs": [
        {
          "name": "stdout",
          "output_type": "stream",
          "text": [
            "Please upload while-loop test file here\n"
          ]
        },
        {
          "data": {
            "text/html": [
              "\n",
              "     <input type=\"file\" id=\"files-35325966-520b-4680-aa72-92e22eaa6245\" name=\"files[]\" multiple disabled\n",
              "        style=\"border:none\" />\n",
              "     <output id=\"result-35325966-520b-4680-aa72-92e22eaa6245\">\n",
              "      Upload widget is only available when the cell has been executed in the\n",
              "      current browser session. Please rerun this cell to enable.\n",
              "      </output>\n",
              "      <script src=\"/nbextensions/google.colab/files.js\"></script> "
            ],
            "text/plain": [
              "<IPython.core.display.HTML object>"
            ]
          },
          "metadata": {},
          "output_type": "display_data"
        },
        {
          "name": "stdout",
          "output_type": "stream",
          "text": [
            "Saving while_loop3.py to while_loop3.py\n"
          ]
        },
        {
          "data": {
            "text/markdown": [
              "**Visualising the input code**"
            ],
            "text/plain": [
              "<IPython.core.display.Markdown object>"
            ]
          },
          "metadata": {},
          "output_type": "display_data"
        },
        {
          "name": "stdout",
          "output_type": "stream",
          "text": [
            "#0 #  write the sum of digits for any positive input\n",
            "\n",
            "#1 \n",
            "\n",
            "#2 x = 0\n",
            "\n",
            "#3 \n",
            "\n",
            "#4 while x<10: # should run 10 times\n",
            "\n",
            "#5     x+=1\n",
            "\n",
            "#6 \n",
            "\n",
            "#7 y = 5\n",
            "\n",
            "#8 \n",
            "\n",
            "#9 while y>1: # should run 4 times\n",
            "\n",
            "#10     y-=1\n",
            "\n",
            "#11 \n",
            "\n",
            "#12 \n",
            "\n",
            "#13 z = 0\n",
            "\n",
            "#14 \n",
            "\n",
            "#15 while z == 0: # should run 1 time\n",
            "\n",
            "#16     z +=1\n",
            "\n"
          ]
        },
        {
          "data": {
            "text/markdown": [
              "**End Visualisation**"
            ],
            "text/plain": [
              "<IPython.core.display.Markdown object>"
            ]
          },
          "metadata": {},
          "output_type": "display_data"
        },
        {
          "name": "stdout",
          "output_type": "stream",
          "text": [
            "\n",
            "\n",
            "('#  write the sum of digits for any positive input\\n\\nx = 0\\n\\ncounter1 = 0\\nwhile x<10: # should run 10 times\\n    counter1 += 1\\n    x+=1\\n\\ny = 5\\n\\ncounter2 = 0\\nwhile y>1: # should run 4 times\\n    counter2 += 1\\n    y-=1\\n\\n\\nz = 0\\n\\ncounter3 = 0\\nwhile z == 0: # should run 1 time\\n    counter3 += 1\\n    z +=1\\n\\nprint(counter1)\\nprint(counter2)\\nprint(counter3)\\n', 3)\n"
          ]
        },
        {
          "data": {
            "text/markdown": [
              "**Start of Edited Code**"
            ],
            "text/plain": [
              "<IPython.core.display.Markdown object>"
            ]
          },
          "metadata": {},
          "output_type": "display_data"
        },
        {
          "name": "stdout",
          "output_type": "stream",
          "text": [
            "#  write the sum of digits for any positive input\n",
            "\n",
            "x = 0\n",
            "\n",
            "counter1 = 0\n",
            "while x<10: # should run 10 times\n",
            "    counter1 += 1\n",
            "    x+=1\n",
            "\n",
            "y = 5\n",
            "\n",
            "counter2 = 0\n",
            "while y>1: # should run 4 times\n",
            "    counter2 += 1\n",
            "    y-=1\n",
            "\n",
            "\n",
            "z = 0\n",
            "\n",
            "counter3 = 0\n",
            "while z == 0: # should run 1 time\n",
            "    counter3 += 1\n",
            "    z +=1\n",
            "\n",
            "print(counter1)\n",
            "print(counter2)\n",
            "print(counter3)\n",
            "\n"
          ]
        },
        {
          "data": {
            "text/markdown": [
              "**End of Edited Code**"
            ],
            "text/plain": [
              "<IPython.core.display.Markdown object>"
            ]
          },
          "metadata": {},
          "output_type": "display_data"
        },
        {
          "name": "stdout",
          "output_type": "stream",
          "text": [
            "\n",
            "\n"
          ]
        },
        {
          "data": {
            "text/markdown": [
              "**Running Edited Code**"
            ],
            "text/plain": [
              "<IPython.core.display.Markdown object>"
            ]
          },
          "metadata": {},
          "output_type": "display_data"
        },
        {
          "name": "stdout",
          "output_type": "stream",
          "text": [
            "10\n",
            "4\n",
            "1\n"
          ]
        },
        {
          "data": {
            "text/markdown": [
              "**Completed!**"
            ],
            "text/plain": [
              "<IPython.core.display.Markdown object>"
            ]
          },
          "metadata": {},
          "output_type": "display_data"
        }
      ],
      "source": [
        "# Code that reads student code, add counter at every while loop and runs the edited code.\n",
        "# import sample whileloop code\n",
        "from google.colab import files\n",
        "!rm *.py\n",
        "\n",
        "print(\"Please upload while-loop test file here\")\n",
        "uploaded = files.upload()\n",
        "uploaded_keys = []\n",
        "for key in uploaded.keys():\n",
        "    uploaded_keys += [str(key)]\n",
        "filename = uploaded_keys[0]\n",
        "\n",
        "# for bold display #\n",
        "from IPython.display import Markdown, display\n",
        "def printmd(string):\n",
        "    display(Markdown(string))\n",
        "\n",
        "def visualise_code(filename):\n",
        "    printmd(\"**Visualising the input code**\")\n",
        "    f=open(filename)\n",
        "    lines=f.readlines()\n",
        "    for i in range(0,len(lines)):\n",
        "      print(\"#\" + str(i) + \" \" + lines[i])\n",
        "    printmd(\"**End Visualisation**\")\n",
        "    print(\"\\n\")\n",
        "\n",
        "def find_whileloop(filename):\n",
        "    edited_code = \"\"\n",
        "\n",
        "    whileloop_count = 0  \n",
        "    counter = 0\n",
        "\n",
        "    f = open(filename)\n",
        "    lines=f.readlines()\n",
        "    for i in range(len(lines)):\n",
        "        edited_code += lines[i]\n",
        "        if i > (len(lines) -2):\n",
        "            break\n",
        "        if lines[i].find(\"while\") != -1:  #this will add a line after while loop\n",
        "            edited_code += (\"    counter\" + str(counter) +  \" += 1\\n\")\n",
        "        if lines[i+1].find(\"while\") != -1:  #this will add a line before while loop\n",
        "            whileloop_count += 1\n",
        "            counter += 1\n",
        "            edited_code += (\"counter\" + str(counter) +  \" = 0\\n\")\n",
        "    \n",
        "    # after added all lines\n",
        "    if whileloop_count > 0:\n",
        "        edited_code += (\"\\n\")\n",
        "        for j in range(1,counter+1):\n",
        "            edited_code += (\"print(counter\" +str(j)+\")\\n\")\n",
        "        return edited_code, whileloop_count\n",
        "\n",
        "def runcode(codelines):\n",
        "    # need to join all the lines into 1 string for exec() to work\n",
        "    long_string = (\"\")\n",
        "    for line in codelines:\n",
        "        long_string += line\n",
        "    try:\n",
        "        exec(long_string)\n",
        "    except:\n",
        "        printmd(\"**There is an error, codelines cannot be executed**\")\n",
        "\n",
        "### MAIN ###\n",
        "\n",
        "# filename = filename (defined previously)\n",
        "visualise_code(filename)\n",
        "edited_code, whileloop_count = find_whileloop(filename)\n",
        "\n",
        "print(find_whileloop(filename))\n",
        "\n",
        "printmd(\"**Start of Edited Code**\")\n",
        "print(edited_code)\n",
        "printmd(\"**End of Edited Code**\")\n",
        "print(\"\\n\")\n",
        "printmd(\"**Running Edited Code**\")\n",
        "runcode(edited_code)\n",
        "printmd(\"**Completed!**\")"
      ]
    }
  ],
  "metadata": {
    "colab": {
      "collapsed_sections": [],
      "name": "Debugger_2.2.ipynb",
      "provenance": []
    },
    "kernelspec": {
      "display_name": "Python 3",
      "name": "python3"
    },
    "language_info": {
      "name": "python"
    }
  },
  "nbformat": 4,
  "nbformat_minor": 0
}
