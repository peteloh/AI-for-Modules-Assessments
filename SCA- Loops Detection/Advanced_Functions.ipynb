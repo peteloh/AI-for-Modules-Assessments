{
 "cells": [
  {
   "cell_type": "code",
   "execution_count": 4,
   "metadata": {},
   "outputs": [
    {
     "name": "stdout",
     "output_type": "stream",
     "text": [
      "#  write the sum of digits for any positive input\n",
      "\n",
      "x = 0\n",
      "y = 5\n",
      "z = 0\n",
      "\n",
      "while x<10:\n",
      "    x+=1\n",
      "\n",
      "    while y>1:\n",
      "        y-=1\n",
      "\n",
      "while z<5:\n",
      "        z+=1\n",
      "\n",
      "\n",
      "\n",
      "\n"
     ]
    },
    {
     "data": {
      "text/markdown": [
       "**Visualising** while_loop_nested.py"
      ],
      "text/plain": [
       "<IPython.core.display.Markdown object>"
      ]
     },
     "metadata": {},
     "output_type": "display_data"
    },
    {
     "data": {
      "text/markdown": [
       "**End Visualisation**"
      ],
      "text/plain": [
       "<IPython.core.display.Markdown object>"
      ]
     },
     "metadata": {},
     "output_type": "display_data"
    },
    {
     "name": "stdout",
     "output_type": "stream",
     "text": [
      "\n",
      "\n",
      "total nested loop = 2 \n",
      "\n",
      "total whileloop count = 3 \n",
      "\n"
     ]
    },
    {
     "data": {
      "text/markdown": [
       "**Visualising** edited_code"
      ],
      "text/plain": [
       "<IPython.core.display.Markdown object>"
      ]
     },
     "metadata": {},
     "output_type": "display_data"
    },
    {
     "name": "stdout",
     "output_type": "stream",
     "text": [
      "#  write the sum of digits for any positive input\n",
      "\n",
      "x = 0\n",
      "y = 5\n",
      "z = 0\n",
      "\n",
      "counter1 =0\n",
      "while x<10:\n",
      "    counter1 +=1\n",
      "    x+=1\n",
      "\n",
      "    counter2 =0\n",
      "    while y>1:\n",
      "        counter2 +=1\n",
      "        y-=1\n",
      "\n",
      "counter3 =0\n",
      "while z<5:\n",
      "        counter3 +=1\n",
      "        z+=1\n",
      "\n",
      "\n",
      "\n",
      "\n",
      "print('whileloop1 ran : ' + str(counter1) + ' times')\n",
      "print('whileloop2 ran : ' + str(counter2) + ' times')\n",
      "print('whileloop3 ran : ' + str(counter3) + ' times')\n",
      "print('nested loop = ' + str(nested_loop_count) + ' times')\n",
      "\n"
     ]
    },
    {
     "data": {
      "text/markdown": [
       "**End Visualisation**"
      ],
      "text/plain": [
       "<IPython.core.display.Markdown object>"
      ]
     },
     "metadata": {},
     "output_type": "display_data"
    },
    {
     "name": "stdout",
     "output_type": "stream",
     "text": [
      "\n",
      "\n",
      "whileloop1 ran : 10 times\n",
      "whileloop2 ran : 0 times\n",
      "whileloop3 ran : 5 times\n",
      "nested loop = 2 times\n"
     ]
    }
   ],
   "source": [
    "import numpy as np\n",
    "from IPython.display import Markdown, display\n",
    "def printmd(string):\n",
    "    display(Markdown(string))\n",
    " \n",
    "def visualise_code(filename):\n",
    "    \n",
    "    try:\n",
    "        f=open(filename)\n",
    "        print(f.read())\n",
    "        lines=f.readlines()\n",
    "\n",
    "        printmd(\"**Visualising** \" + str(filename))\n",
    "\n",
    "        for i in range(0,len(lines)):\n",
    "            print(lines[i])\n",
    "    except:\n",
    "        # no file so it must be edited code\n",
    "        printmd(\"**Visualising** edited_code\" )\n",
    "        print(filename)\n",
    "    printmd(\"**End Visualisation**\")\n",
    "    print(\"\\n\")\n",
    "\n",
    "def detect_indentation(line):\n",
    "    return len(line) - len(line.lstrip())\n",
    "\n",
    "def calc_nested_loops(indentation_array):\n",
    "    indentation_array = np.array(indentation_array)\n",
    "    max_indentation = 0\n",
    "    different_indentation = []\n",
    "    for i in range(len(indentation_array)):\n",
    "        indentation = int(indentation_array[i,1])\n",
    "        if indentation not in different_indentation: different_indentation += [indentation]\n",
    "\n",
    "    nested_loop_count = len(different_indentation)\n",
    "    return nested_loop_count\n",
    "\n",
    "def detect_loops(filename, loop):\n",
    "    edited_code = \"\"\n",
    "    total_loop_count = 0  \n",
    "    indentation_array = []\n",
    "    counter = 0\n",
    "\n",
    "    f = open(filename)\n",
    "    lines=f.readlines()\n",
    "    for i in range(len(lines)):\n",
    "        edited_code += lines[i]\n",
    "        if i > (len(lines) -2):\n",
    "            break\n",
    "        if lines[i].find(loop) != -1 and (lines[i].find(\"#\") > lines[i].find(loop) or lines[i].find(\"#\") == -1):  #this will add a line after while loop\n",
    "\n",
    "            indentation = detect_indentation(lines[i+1])*\" \"\n",
    "            edited_code += (\"{indentation}counter{counter_number} +=1\\n\".format(indentation=indentation,counter_number=counter))\n",
    "\n",
    "\n",
    "        if lines[i+1].find(loop) != -1 and (lines[i+1].find(\"#\") > lines[i+1].find(loop) or lines[i+1].find(\"#\") == -1):  #this will add a line before while loop\n",
    "\n",
    "            total_loop_count += 1\n",
    "            counter += 1\n",
    "            indentation = detect_indentation(lines[i+1])*\" \"\n",
    "            indentation_array += [[indentation, len(indentation)]]\n",
    "            edited_code += (\"{indentation}counter{counter_number} =0\\n\".format(indentation=indentation,counter_number=counter))\n",
    "    \n",
    "    # after added all lines\n",
    "    if total_loop_count > 0:\n",
    "        edited_code += (\"\\n\")\n",
    "        for j in range(1,counter+1):\n",
    "            edited_code += (\"print('whileloop{j} ran : ' + str(counter{j}) + ' times')\\n\".format(j=j))\n",
    "\n",
    "    nested_loop_count = calc_nested_loops(indentation_array)\n",
    "    edited_code += (\"print('nested loop = ' + str(nested_loop_count) + ' times')\\n\")\n",
    "\n",
    "    return edited_code, total_loop_count, nested_loop_count\n",
    "\n",
    "def runcode(codelines):\n",
    "    # need to join all the lines into 1 string for exec() to work\n",
    "    long_string = (\"\")\n",
    "    for line in codelines:\n",
    "        long_string += line\n",
    "    try:\n",
    "        exec(long_string)\n",
    "    except:\n",
    "        printmd(\"**There is an error, codelines cannot be executed**\")\n",
    "\n",
    "### MAIN ###\n",
    "\n",
    "filename = \"while_loop_nested.py\"\n",
    "\n",
    "loop_name = \"while\"  #input while or for\n",
    "\n",
    "visualise_code(filename)\n",
    "edited_code, total_loop_count, nested_loop_count = detect_loops(filename, loop_name)\n",
    "\n",
    "print(\"total nested loop = {count} \\n\".format(count=nested_loop_count))\n",
    "\n",
    "print(\"total {name}loop count = {count} \\n\".format(count=total_loop_count, name=loop_name))\n",
    "\n",
    "visualise_code(edited_code)\n",
    "runcode(edited_code)\n",
    "\n"
   ]
  }
 ],
 "metadata": {
  "interpreter": {
   "hash": "476afab6555b105b4ed8bd689a968f740be18deed2d5a5450065d362171f1c79"
  },
  "kernelspec": {
   "display_name": "Python 3.9.7 64-bit ('base': conda)",
   "language": "python",
   "name": "python3"
  },
  "language_info": {
   "codemirror_mode": {
    "name": "ipython",
    "version": 3
   },
   "file_extension": ".py",
   "mimetype": "text/x-python",
   "name": "python",
   "nbconvert_exporter": "python",
   "pygments_lexer": "ipython3",
   "version": "3.9.7"
  },
  "orig_nbformat": 4
 },
 "nbformat": 4,
 "nbformat_minor": 2
}
