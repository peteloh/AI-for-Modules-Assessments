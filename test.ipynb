{
 "cells": [
  {
   "cell_type": "code",
   "execution_count": 3,
   "metadata": {},
   "outputs": [
    {
     "name": "stdout",
     "output_type": "stream",
     "text": [
      "c:\\hello\\dickins\n",
      "myfile.py\n"
     ]
    }
   ],
   "source": [
    "import os\n",
    "pathname ='c:\\hello\\dickins\\myfile.py'\n",
    "head, tail = os.path.split(pathname)\n",
    "print(head)\n",
    "print(tail)"
   ]
  }
 ],
 "metadata": {
  "interpreter": {
   "hash": "476afab6555b105b4ed8bd689a968f740be18deed2d5a5450065d362171f1c79"
  },
  "kernelspec": {
   "display_name": "Python 3.9.7",
   "language": "python",
   "name": "python3"
  },
  "language_info": {
   "codemirror_mode": {
    "name": "ipython",
    "version": 3
   },
   "file_extension": ".py",
   "mimetype": "text/x-python",
   "name": "python",
   "nbconvert_exporter": "python",
   "pygments_lexer": "ipython3",
   "version": "3.9.7"
  },
  "orig_nbformat": 4
 },
 "nbformat": 4,
 "nbformat_minor": 2
}
