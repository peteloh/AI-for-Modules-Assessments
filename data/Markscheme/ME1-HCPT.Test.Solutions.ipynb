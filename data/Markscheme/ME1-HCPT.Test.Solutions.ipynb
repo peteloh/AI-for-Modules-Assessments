{
 "cells": [
  {
   "cell_type": "code",
   "execution_count": 3,
   "metadata": {},
   "outputs": [
    {
     "name": "stdout",
     "output_type": "stream",
     "text": [
      "CID\n",
      "[0, 1, 3, 0, 2, 3, 2, 7]\n"
     ]
    }
   ],
   "source": [
    "# enter CID\n",
    "CID = '01302327'\n",
    "\n",
    "\n",
    "b = []\n",
    "for i in range(0,8):\n",
    "    b += [int(CID[i])]\n",
    "print('CID')\n",
    "print(b)"
   ]
  },
  {
   "cell_type": "code",
   "execution_count": 2,
   "metadata": {},
   "outputs": [
    {
     "name": "stdout",
     "output_type": "stream",
     "text": [
      "c\n",
      "[0, -49, 4, 0, 0, -8, 0, 0]\n",
      "\n",
      "A\n",
      "[0, 0, 0, 0, 0, 0, 0, 0]\n",
      "[0, 0, 0, 0, 0, 0, 0, 0]\n",
      "[0, 0, 4, 0, 0, 4, 0, 0]\n",
      "[0, 0, 0, 0, 0, 0, 0, 0]\n",
      "[0, 0, 0, 0, 0, 0, 0, 0]\n",
      "[0, 0, 2, 0, 0, 2, 0, 0]\n",
      "[0, 7, 0, 0, 0, 0, 7, 0]\n",
      "[0, 0, 0, 0, 0, 0, 0, 0]\n",
      "At\n",
      "[0, 0, 0, 0, 0, 0, 0, 0]\n",
      "[0, 0, 0, 0, 0, 0, 7, 0]\n",
      "[0, 0, 4, 0, 0, 2, 0, 0]\n",
      "[0, 0, 0, 0, 0, 0, 0, 0]\n",
      "[0, 0, 0, 0, 0, 0, 0, 0]\n",
      "[0, 0, 4, 0, 0, 2, 0, 0]\n",
      "[0, 0, 0, 0, 0, 0, 7, 0]\n",
      "[0, 0, 0, 0, 0, 0, 0, 0]\n",
      "A-At\n",
      "[0, 0, 0, 0, 0, 0, 0, 0]\n",
      "[0, 0, 0, 0, 0, 0, -7, 0]\n",
      "[0, 0, 0, 0, 0, 2, 0, 0]\n",
      "[0, 0, 0, 0, 0, 0, 0, 0]\n",
      "[0, 0, 0, 0, 0, 0, 0, 0]\n",
      "[0, 0, -2, 0, 0, 0, 0, 0]\n",
      "[0, 7, 0, 0, 0, 0, 0, 0]\n",
      "[0, 0, 0, 0, 0, 0, 0, 0]\n"
     ]
    }
   ],
   "source": [
    "# Ex 1    \n",
    "N = len(b)\n",
    "\n",
    "# set matrix A\n",
    "A = []\n",
    "for i in range(0,N):\n",
    "    # set this row\n",
    "    row = []\n",
    "    for j in range(0,N):\n",
    "        # select diagonal or anti-diagonal\n",
    "        if i==j or j==N-i-1:\n",
    "            # diagonal or anti-diagonal: write digit from my CID\n",
    "            el = b[i]\n",
    "        else:\n",
    "            # outside digonals: write 0\n",
    "            el = 0\n",
    "        row += [el]\n",
    "    A += [row]\n",
    "\n",
    "# solve in one iteration\n",
    "# determine c\n",
    "c = []\n",
    "for i in range(0,N):\n",
    "    # set this row\n",
    "    # initialise sum\n",
    "    s = 0\n",
    "    for j in range(0,N):\n",
    "        s += (A[i][j]-A[j][i])*b[j]\n",
    "    c += [s]\n",
    "\n",
    "print('c')\n",
    "print(c)\n",
    "\n",
    "\n",
    "print()\n",
    "print('A')\n",
    "for row in A:\n",
    "    print(row)\n",
    "\n",
    "####################################################### solve step by step\n",
    "# determine AT\n",
    "AT = []\n",
    "for i in range(0,N):\n",
    "    # set this row\n",
    "    row = []\n",
    "    for j in range(0,N):\n",
    "        row += [A[j][i]]\n",
    "    AT += [row]\n",
    "    \n",
    "print('At')     \n",
    "for row in AT:\n",
    "    print(row)\n",
    "    \n",
    "        \n",
    "# A- At\n",
    "D = []\n",
    "for i in range(0,N):\n",
    "    # set this row\n",
    "    row = []\n",
    "    for j in range(0,N):\n",
    "        row += [A[i][j]-AT[i][j]]\n",
    "    D += [row]\n",
    "    \n",
    "print('A-At')   \n",
    "for row in D:\n",
    "    print(row)\n",
    "\n",
    "# determine c\n",
    "c = []\n",
    "for i in range(0,N):\n",
    "    # set this row\n",
    "    # initialise sum\n",
    "    s = 0\n",
    "    for j in range(0,N):\n",
    "        s += D[i][j]*b[j]\n",
    "    c += [s]\n",
    "\n",
    "#print('c')\n",
    "#print(c) "
   ]
  },
  {
   "cell_type": "code",
   "execution_count": null,
   "metadata": {},
   "outputs": [],
   "source": []
  },
  {
   "cell_type": "code",
   "execution_count": 11,
   "metadata": {},
   "outputs": [
    {
     "name": "stdout",
     "output_type": "stream",
     "text": [
      "1.3 1.2\n"
     ]
    },
    {
     "name": "stderr",
     "output_type": "stream",
     "text": [
      "/Users/ncinosi/opt/anaconda3/lib/python3.7/site-packages/ipykernel_launcher.py:17: MatplotlibDeprecationWarning: Adding an axes using the same arguments as a previous axes currently reuses the earlier instance.  In a future version, a new instance will always be created and returned.  Meanwhile, this warning can be suppressed, and the future behavior ensured, by passing a unique label to each axes instance.\n"
     ]
    },
    {
     "data": {
      "image/png": "[encoded data removed]",
      "text/plain": [
       "<Figure size 432x288 with 1 Axes>"
      ]
     },
     "metadata": {
      "needs_background": "light"
     },
     "output_type": "display_data"
    }
   ],
   "source": [
    "# Ex 2\n",
    "import math as mt\n",
    "import random as rd\n",
    "import matplotlib.pyplot as pl\n",
    "\n",
    "# set s1, s2\n",
    "s1 = b[4]/10+0.9\n",
    "s2 = b[6]/10+0.6\n",
    "print(s1,s2)\n",
    "\n",
    "# plot the doughnut\n",
    "Rtheta = range(0,360)\n",
    "for theta in Rtheta:\n",
    "    thetar = theta * mt.pi / 180\n",
    "    pl.scatter(10*mt.cos(thetar),10*mt.sin(thetar),s=3,c='b')\n",
    "    pl.scatter(20*mt.cos(thetar),20*mt.sin(thetar),s=3,c='b')\n",
    "pl.axes().set_aspect('equal')\n",
    "\n",
    "# set the initial position\n",
    "xc = 0\n",
    "yc= 18\n",
    "pl.scatter(xc,yc,c='r')\n",
    "\n",
    "# start moving\n",
    "while yc >=0:\n",
    "#for i in range(0,800):\n",
    "    # establish next advancement, dx, dy, independently\n",
    "    dx = rd.random()*(s2+s1)-s1 # random number between -s1 and s2\n",
    "    dy = rd.random()*(s2+s1)-s1 # random number between -s1 and s2\n",
    "    # compute next position\n",
    "    xn = xc + dx\n",
    "    yn = yc + dy\n",
    "    rs = xn**2 + yn**2\n",
    "    # check if nect position is within doughnut\n",
    "    if 100<rs<400:\n",
    "        # the new position is within the doughnut, move the ant\n",
    "        pl.plot([xc,xn],[yc,yn],c='r')\n",
    "        xc = xn\n",
    "        yc = yn\n",
    "\n",
    "        \n",
    "        \n",
    "    "
   ]
  },
  {
   "cell_type": "code",
   "execution_count": null,
   "metadata": {},
   "outputs": [],
   "source": [
    "# Ex 3 prep\n",
    "f = open('days.csv','r')\n",
    "d = f.readlines()\n",
    "f.close()\n",
    "f = open('infections.csv','r')\n",
    "m = f.readlines()\n",
    "f.close()\n",
    "print(len(d))\n",
    "ll = []\n",
    "w = 1\n",
    "for i in range(0,len(d)):\n",
    "    if i%7 == 0:\n",
    "        ll += ['Week '+str(w)]\n",
    "        w += 1\n",
    "    ll += [d[i][0:10]]\n",
    "    ll += [m[i].rstrip()]\n",
    "    \n",
    "\n",
    "f = open('CV19.txt','w')\n",
    "for item in ll:\n",
    "    f.write(item+'\\n')\n",
    "f.close()   "
   ]
  },
  {
   "cell_type": "code",
   "execution_count": 8,
   "metadata": {
    "scrolled": true
   },
   "outputs": [
    {
     "name": "stdout",
     "output_type": "stream",
     "text": [
      "273319\n",
      "[241, 1118, 3623, 12075, 24814, 37088, 35226, 34160, 33883, 33000, 24901, 17518, 15672]\n",
      "62\n",
      "['2020-03-27', '2020-03-28', '2020-03-29', '2020-03-30', '2020-03-31', '2020-04-01', '2020-04-02', '2020-04-03', '2020-04-04', '2020-04-05', '2020-04-06', '2020-04-07', '2020-04-08', '2020-04-09', '2020-04-10', '2020-04-11', '2020-04-12', '2020-04-13', '2020-04-14', '2020-04-15', '2020-04-16', '2020-04-17', '2020-04-18', '2020-04-19', '2020-04-20', '2020-04-21', '2020-04-22', '2020-04-23', '2020-04-24', '2020-04-25', '2020-04-26', '2020-04-27', '2020-04-28', '2020-04-29', '2020-04-30', '2020-05-01', '2020-05-02', '2020-05-03', '2020-05-04', '2020-05-05', '2020-05-06', '2020-05-07', '2020-05-08', '2020-05-09', '2020-05-10', '2020-05-11', '2020-05-12', '2020-05-13', '2020-05-14', '2020-05-15', '2020-05-16', '2020-05-17', '2020-05-18', '2020-05-19', '2020-05-20', '2020-05-22', '2020-05-23', '2020-05-24', '2020-05-25', '2020-05-27', '2020-05-28', '2020-05-30']\n",
      "[363.9004149377593, 224.06082289803223, 233.28733094120895, 105.49896480331262, 49.464012251148546, -5.020491803278689, -3.026173848861636, -0.8108899297423887, -2.60602662101939, -24.542424242424243, -29.64941167021405, -10.537732617878753]\n",
      "6\n"
     ]
    },
    {
     "data": {
      "text/plain": [
       "[<matplotlib.lines.Line2D at 0x7fb704f3d350>]"
      ]
     },
     "execution_count": 8,
     "metadata": {},
     "output_type": "execute_result"
    },
    {
     "data": {
      "image/png": "[encoded data removed]",
      "text/plain": [
       "<Figure size 432x288 with 1 Axes>"
      ]
     },
     "metadata": {
      "needs_background": "light"
     },
     "output_type": "display_data"
    }
   ],
   "source": [
    "# Ex 3\n",
    "import matplotlib.pyplot as pl\n",
    "# read the file\n",
    "f = open('CV19.txt','r')\n",
    "t = f.readlines()\n",
    "f.close()\n",
    "# length of data\n",
    "N = len(t)\n",
    "\n",
    "# organise the data\n",
    "day = [] # dates\n",
    "infect = [] # number of infections of the day\n",
    "# examine all the data read in, line by line\n",
    "for i in range(0,N):\n",
    "    # check if this line is the start of a new week\n",
    "    if i%15 == 0:\n",
    "        # start a new week\n",
    "        c = 1\n",
    "    else:\n",
    "        # same week, import date of the day and number of infections of the day\n",
    "        if c%2 == 1:\n",
    "            # this line contains the date of the day\n",
    "            day += [t[i].rstrip()]\n",
    "        else:\n",
    "            # this line contains the number of infections\n",
    "            infect += [int(t[i].rstrip())]\n",
    "        c += 1\n",
    "\n",
    "# number of days\n",
    "Nd = len(day)\n",
    "\n",
    "# analyse data\n",
    "tot = 0 # overall number of infections\n",
    "days2000 = [] # list of days with high infections (>2000)\n",
    "infectw = [] # number of infections per week\n",
    "\n",
    "totw = 0\n",
    "# scroll data, day by day\n",
    "for i in range(0,Nd):\n",
    "    tot += infect[i] # update overall infections \n",
    "    # check if this day had high infections (>2000)\n",
    "    if infect[i]>2000:\n",
    "        # yes, add this date to the list of high infections\n",
    "        days2000 += [day[i]]\n",
    "    \n",
    "    # compute weekly number of infections\n",
    "    # add this number of infections to the weekly total\n",
    "    totw += infect[i]  # add the number of infection to this week\n",
    "    # check if end of week\n",
    "    if (i+1)%7 == 0:\n",
    "        # store the weekly total\n",
    "        infectw += [totw]\n",
    "        # reset the weekly total\n",
    "        totw = 0\n",
    "\n",
    "\n",
    "\n",
    "\n",
    "# analyse weekly data\n",
    "Nw = len(infectw)\n",
    "ratew = [] # weekly rate of infections\n",
    "maxw = infectw[0]  # number of infections in a week\n",
    "week = ['1'] # start assuming teh first week had highest number\n",
    "# scroll the weekly data\n",
    "for i in range(1,Nw):\n",
    "    if infectw[i] > maxw:\n",
    "        # this week has a highest numebr of infections\n",
    "        # updatethe maximum\n",
    "        maxw = infectw[i]\n",
    "        # update the week\n",
    "        week = str(i+1)\n",
    "    # compute the rate for this week\n",
    "    ratew += [(infectw[i]-infectw[i-1])/infectw[i-1]*100]\n",
    "\n",
    "# print results\n",
    "print(tot)\n",
    "print(infectw)\n",
    "print(len(days2000))\n",
    "print(days2000)\n",
    "print(ratew)\n",
    "print(week)\n",
    "pl.plot(range(0,Nd),infect)"
   ]
  },
  {
   "cell_type": "code",
   "execution_count": null,
   "metadata": {},
   "outputs": [],
   "source": []
  },
  {
   "cell_type": "code",
   "execution_count": 9,
   "metadata": {},
   "outputs": [
    {
     "name": "stdout",
     "output_type": "stream",
     "text": [
      "13.591409142084675\n"
     ]
    }
   ],
   "source": [
    "# Ex 4\n",
    "def fact(n):\n",
    "    if n == 0:\n",
    "        res = 1\n",
    "    else:\n",
    "        res = n * fact(n-1)\n",
    "    return res\n",
    "\n",
    "def sum(i):\n",
    "    if i == 1:\n",
    "        res = 1\n",
    "    else:\n",
    "        res = sum(i-1) + i**b[5]/fact(i-1)\n",
    "    return res\n",
    "\n",
    "print(sum(15))"
   ]
  },
  {
   "cell_type": "code",
   "execution_count": null,
   "metadata": {},
   "outputs": [],
   "source": []
  },
  {
   "cell_type": "code",
   "execution_count": null,
   "metadata": {},
   "outputs": [],
   "source": []
  }
 ],
 "metadata": {
  "kernelspec": {
   "display_name": "Python 3",
   "language": "python",
   "name": "python3"
  },
  "language_info": {
   "codemirror_mode": {
    "name": "ipython",
    "version": 3
   },
   "file_extension": ".py",
   "mimetype": "text/x-python",
   "name": "python",
   "nbconvert_exporter": "python",
   "pygments_lexer": "ipython3",
   "version": "3.7.4"
  }
 },
 "nbformat": 4,
 "nbformat_minor": 2
}
