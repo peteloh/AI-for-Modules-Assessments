{
 "cells": [
  {
   "cell_type": "code",
   "execution_count": 6,
   "metadata": {},
   "outputs": [
    {
     "name": "stdout",
     "output_type": "stream",
     "text": [
      ".py\n"
     ]
    }
   ],
   "source": [
    "# checkfile name\n",
    "\n",
    "filename = \"pete.py\"\n",
    "\n",
    "print(filename[-3:])"
   ]
  },
  {
   "cell_type": "code",
   "execution_count": 14,
   "metadata": {},
   "outputs": [
    {
     "name": "stdout",
     "output_type": "stream",
     "text": [
      "-1\n"
     ]
    }
   ],
   "source": [
    "def find_last(string, search):\n",
    "    last = -1\n",
    "    start = 0\n",
    "    while True:\n",
    "        start = string.find(search, start)\n",
    "        if start == -1: return last\n",
    "        last = start\n",
    "        start += len(search)\n",
    "\n",
    "print(find_last(\"pete\",\"f\"))"
   ]
  },
  {
   "cell_type": "code",
   "execution_count": 75,
   "metadata": {},
   "outputs": [
    {
     "name": "stdout",
     "output_type": "stream",
     "text": [
      "def triangle(x: int, y: int, z: int) -> str:\n",
      "    if x == y == z:\n",
      "        return \"Equilateral triangle\"\n",
      "    elif x == y or y == z or x == z:\n",
      "        return \"Isosceles triangle\"\n",
      "    else:\n",
      "        return \"Scalene triangle\"\n",
      "\n",
      "\n",
      "['def triangle(x: int, y: int, z: int) -> str:', '    if x == y == z:', '        return \"Equilateral triangle\"', '    elif x == y or y == z or x == z:', '        return \"Isosceles triangle\"', '    else:', '        return \"Scalene triangle\"', '']\n",
      "-1\n",
      "-1\n",
      "-1\n",
      "-1\n",
      "-1\n",
      "4\n",
      "-1\n",
      "-1\n",
      "[[5, 4]]\n"
     ]
    }
   ],
   "source": [
    "from io import StringIO\n",
    "import tokenize\n",
    "\n",
    "def remove_comments_and_docstrings(source):\n",
    "    \"\"\"\n",
    "    Returns 'source' minus comments and docstrings.\n",
    "    \"\"\"\n",
    "    io_obj = StringIO(source)\n",
    "    out = \"\"\n",
    "    prev_toktype = tokenize.INDENT\n",
    "    last_lineno = -1\n",
    "    last_col = 0\n",
    "    for tok in tokenize.generate_tokens(io_obj.readline):\n",
    "        token_type = tok[0]\n",
    "        token_string = tok[1]\n",
    "        start_line, start_col = tok[2]\n",
    "        end_line, end_col = tok[3]\n",
    "        ltext = tok[4]\n",
    "        # The following two conditionals preserve indentation.\n",
    "        # This is necessary because we're not using tokenize.untokenize()\n",
    "        # (because it spits out code with copious amounts of oddly-placed\n",
    "        # whitespace).\n",
    "        if start_line > last_lineno:\n",
    "            last_col = 0\n",
    "        if start_col > last_col:\n",
    "            out += (\" \" * (start_col - last_col))\n",
    "        # Remove comments:\n",
    "        if token_type == tokenize.COMMENT:\n",
    "            pass\n",
    "        # This series of conditionals removes docstrings:\n",
    "        elif token_type == tokenize.STRING:\n",
    "            if prev_toktype != tokenize.INDENT:\n",
    "        # This is likely a docstring; double-check we're not inside an operator:\n",
    "                if prev_toktype != tokenize.NEWLINE:\n",
    "                    # Note regarding NEWLINE vs NL: The tokenize module\n",
    "                    # differentiates between newlines that start a new statement\n",
    "                    # and newlines inside of operators such as parens, brackes,\n",
    "                    # and curly braces.  Newlines inside of operators are\n",
    "                    # NEWLINE and newlines that start new code are NL.\n",
    "                    # Catch whole-module docstrings:\n",
    "                    if start_col > 0:\n",
    "                        # Unlabelled indentation means we're inside an operator\n",
    "                        out += token_string\n",
    "                    # Note regarding the INDENT token: The tokenize module does\n",
    "                    # not label indentation inside of an operator (parens,\n",
    "                    # brackets, and curly braces) as actual indentation.\n",
    "                    # For example:\n",
    "                    # def foo():\n",
    "                    #     \"The spaces before this docstring are tokenize.INDENT\"\n",
    "                    #     test = [\n",
    "                    #         \"The spaces before this string do not get a token\"\n",
    "                    #     ]\n",
    "        else:\n",
    "            out += token_string\n",
    "        prev_toktype = token_type\n",
    "        last_col = end_col\n",
    "        last_lineno = end_line\n",
    "    return out\n",
    "\n",
    "test_code_string = \"\"\"\n",
    "hi\n",
    "pete\n",
    "#comment\n",
    "\"\"\"\n",
    "test_file = \"BB_testcode.py\"\n",
    "\n",
    "class code:\n",
    "    def __init__(self, filename):\n",
    "        if filename[-3:] == \".py\":\n",
    "            f = open(filename,'r')\n",
    "            self.longString = remove_comments_and_docstrings(f.read())\n",
    "            self.lines = self.longString.splitlines()\n",
    "            \n",
    "        else:\n",
    "            # filename is the codestring already\n",
    "            self.longString = remove_comments_and_docstrings(filename)\n",
    "            self.lines = self.longString.splitlines()\n",
    "\n",
    "        \n",
    "    def find_operator(self, operator):\n",
    "        locations = []\n",
    "        for row in range(len(self.lines)):\n",
    "            index = self.lines[row].find(operator)\n",
    "            print(index)\n",
    "            if index != -1: locations += [[row, index]]\n",
    "        \n",
    "        self.operator_locations = locations\n",
    "        # if operator == \"if\": self.if_locations = locations\n",
    "        # elif operator == \"elif\": self.elif_locations = locations\n",
    "        # elif operator == \"else\": self.else_locations = locations\n",
    "        # elif operator == \"for\": self.for_locations = locations\n",
    "        # elif operator == \"while\": self.while_locations = locations\n",
    "        # else:\n",
    "        #     print(\"invalid operator\")\n",
    "\n",
    "\n",
    "code1 = code(test_file)\n",
    "code2 = code(test_code_string)  \n",
    "\n",
    "print(code1.longString)\n",
    "print(code1.lines)\n",
    "\n",
    "code1.find_operator(\"else\")\n",
    "print(code1.operator_locations)\n",
    "\n",
    "\n",
    "\n",
    "\n"
   ]
  },
  {
   "cell_type": "code",
   "execution_count": 23,
   "metadata": {},
   "outputs": [
    {
     "name": "stdout",
     "output_type": "stream",
     "text": [
      "['', 'hi', 'pete']\n"
     ]
    }
   ],
   "source": [
    "\n"
   ]
  },
  {
   "cell_type": "code",
   "execution_count": 35,
   "metadata": {},
   "outputs": [
    {
     "name": "stdout",
     "output_type": "stream",
     "text": [
      "\n",
      "hi\n",
      "pete\n",
      "#comment\n",
      "\n",
      "\n",
      "hi\n",
      "pete\n",
      "\n",
      "\n",
      "def triangle(x: int, y: int, z: int) -> str:\n",
      "    if x == y == z:\n",
      "        return \"Equilateral triangle\"\n",
      "    elif x == y or y == z or x == z:\n",
      "        return \"Isosceles triangle\"\n",
      "    else:\n",
      "        return \"Scalene triangle\"\n",
      "\n",
      "# comments\n",
      "def triangle(x: int, y: int, z: int) -> str:\n",
      "    if x == y == z:\n",
      "        return \"Equilateral triangle\"\n",
      "    elif x == y or y == z or x == z:\n",
      "        return \"Isosceles triangle\"\n",
      "    else:\n",
      "        return \"Scalene triangle\"\n",
      "\n",
      "\n"
     ]
    }
   ],
   "source": [
    "test_code_string = \"\"\"\n",
    "hi\n",
    "pete\n",
    "#comment\n",
    "\"\"\"\n",
    "test_file = \"BB_testcode.py\"\n",
    "\n",
    "class code:\n",
    "    def __init__(self, filename):\n",
    "        if filename[-3:] == \".py\":\n",
    "            f = open(filename,'r')\n",
    "            self.strings = f.read()\n",
    "        else:\n",
    "            # filename is the codestring already\n",
    "            self.strings = filename\n",
    "            \n",
    "code1 = code(test_code_string)\n",
    "print(code1.strings)\n",
    "print(remove_comments_and_docstrings(code1.strings))\n",
    "\n",
    "\n",
    "code2 = code(test_file)\n",
    "print(code2.strings)\n",
    "print(remove_comments_and_docstrings(code2.strings))\n"
   ]
  },
  {
   "cell_type": "code",
   "execution_count": 5,
   "metadata": {},
   "outputs": [
    {
     "name": "stdout",
     "output_type": "stream",
     "text": [
      "[1, 1, 1, 1]\n"
     ]
    }
   ],
   "source": [
    "a = [[1,0],[1,0],[1,0],[1,0]]\n",
    "\n",
    "print([i[0] for i in a])\n"
   ]
  }
 ],
 "metadata": {
  "interpreter": {
   "hash": "476afab6555b105b4ed8bd689a968f740be18deed2d5a5450065d362171f1c79"
  },
  "kernelspec": {
   "display_name": "Python 3.9.7 ('base')",
   "language": "python",
   "name": "python3"
  },
  "language_info": {
   "codemirror_mode": {
    "name": "ipython",
    "version": 3
   },
   "file_extension": ".py",
   "mimetype": "text/x-python",
   "name": "python",
   "nbconvert_exporter": "python",
   "pygments_lexer": "ipython3",
   "version": "3.9.7"
  },
  "orig_nbformat": 4
 },
 "nbformat": 4,
 "nbformat_minor": 2
}
