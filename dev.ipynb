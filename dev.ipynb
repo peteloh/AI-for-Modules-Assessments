{
 "cells": [
  {
   "cell_type": "code",
   "execution_count": 11,
   "metadata": {},
   "outputs": [
    {
     "ename": "SyntaxError",
     "evalue": "invalid syntax (Temp/ipykernel_26540/479371019.py, line 23)",
     "output_type": "error",
     "traceback": [
      "\u001b[1;36m  File \u001b[1;32m\"C:\\Users\\petel\\AppData\\Local\\Temp/ipykernel_26540/479371019.py\"\u001b[1;36m, line \u001b[1;32m23\u001b[0m\n\u001b[1;33m    >>> tree = ast.parse(code)\u001b[0m\n\u001b[1;37m    ^\u001b[0m\n\u001b[1;31mSyntaxError\u001b[0m\u001b[1;31m:\u001b[0m invalid syntax\n"
     ]
    }
   ],
   "source": [
    "import sys\n",
    "\n",
    "if sys.version_info >= (3, 3, 0):\n",
    "    from inspect import getclosurevars\n",
    "\n",
    "def is_recursive(func):\n",
    "    if sys.version_info >= (3, 3, 0):\n",
    "        return getclosurevars(func).globals.get(func.__name__) is func\n",
    "    else:\n",
    "        # We can implement part of it if it's not in our standard library \n",
    "        def global_vars_in_closure(func):\n",
    "            vars = {x: func.__globals__.get(x) for x in func.__code__.co_names}\n",
    "            return vars\n",
    "\n",
    "        return global_vars_in_closure(func).get(func.__name__) is func\n",
    "    \n"
   ]
  }
 ],
 "metadata": {
  "interpreter": {
   "hash": "476afab6555b105b4ed8bd689a968f740be18deed2d5a5450065d362171f1c79"
  },
  "kernelspec": {
   "display_name": "Python 3.9.7",
   "language": "python",
   "name": "python3"
  },
  "language_info": {
   "codemirror_mode": {
    "name": "ipython",
    "version": 3
   },
   "file_extension": ".py",
   "mimetype": "text/x-python",
   "name": "python",
   "nbconvert_exporter": "python",
   "pygments_lexer": "ipython3",
   "version": "3.9.7"
  },
  "orig_nbformat": 4
 },
 "nbformat": 4,
 "nbformat_minor": 2
}
